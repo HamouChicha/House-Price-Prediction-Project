{
 "cells": [
  {
   "cell_type": "markdown",
   "id": "37f8e2a1-947f-4ff2-9cb9-7e46c2f148fd",
   "metadata": {},
   "source": [
    "**Data Preprocessing**"
   ]
  },
  {
   "cell_type": "markdown",
   "id": "5811a8db-15b4-4c0f-bb39-eb76d2bc1d80",
   "metadata": {},
   "source": [
    "Importing Pandas and loading the dataset :"
   ]
  },
  {
   "cell_type": "code",
   "execution_count": 1,
   "id": "ec1730d7-67d8-4949-8cc2-a90e344b2af8",
   "metadata": {},
   "outputs": [],
   "source": [
    "import pandas as pd\n",
    "\n",
    "pd.set_option('display.max_columns', None)\n",
    "data = pd.read_csv(\"data.csv\")"
   ]
  },
  {
   "cell_type": "markdown",
   "id": "77ce8397-c046-4618-af98-dbfede2b8b15",
   "metadata": {},
   "source": [
    "The header of the dataset :"
   ]
  },
  {
   "cell_type": "code",
   "execution_count": 2,
   "id": "3cc9a068-2228-4b40-bf88-cdd5120e8a4e",
   "metadata": {},
   "outputs": [
    {
     "data": {
      "text/html": [
       "<div>\n",
       "<style scoped>\n",
       "    .dataframe tbody tr th:only-of-type {\n",
       "        vertical-align: middle;\n",
       "    }\n",
       "\n",
       "    .dataframe tbody tr th {\n",
       "        vertical-align: top;\n",
       "    }\n",
       "\n",
       "    .dataframe thead th {\n",
       "        text-align: right;\n",
       "    }\n",
       "</style>\n",
       "<table border=\"1\" class=\"dataframe\">\n",
       "  <thead>\n",
       "    <tr style=\"text-align: right;\">\n",
       "      <th></th>\n",
       "      <th>Id</th>\n",
       "      <th>MSSubClass</th>\n",
       "      <th>MSZoning</th>\n",
       "      <th>LotFrontage</th>\n",
       "      <th>LotArea</th>\n",
       "      <th>Street</th>\n",
       "      <th>Alley</th>\n",
       "      <th>LotShape</th>\n",
       "      <th>LandContour</th>\n",
       "      <th>Utilities</th>\n",
       "      <th>LotConfig</th>\n",
       "      <th>LandSlope</th>\n",
       "      <th>Neighborhood</th>\n",
       "      <th>Condition1</th>\n",
       "      <th>Condition2</th>\n",
       "      <th>BldgType</th>\n",
       "      <th>HouseStyle</th>\n",
       "      <th>OverallQual</th>\n",
       "      <th>OverallCond</th>\n",
       "      <th>YearBuilt</th>\n",
       "      <th>YearRemodAdd</th>\n",
       "      <th>RoofStyle</th>\n",
       "      <th>RoofMatl</th>\n",
       "      <th>Exterior1st</th>\n",
       "      <th>Exterior2nd</th>\n",
       "      <th>MasVnrType</th>\n",
       "      <th>MasVnrArea</th>\n",
       "      <th>ExterQual</th>\n",
       "      <th>ExterCond</th>\n",
       "      <th>Foundation</th>\n",
       "      <th>BsmtQual</th>\n",
       "      <th>BsmtCond</th>\n",
       "      <th>BsmtExposure</th>\n",
       "      <th>BsmtFinType1</th>\n",
       "      <th>BsmtFinSF1</th>\n",
       "      <th>BsmtFinType2</th>\n",
       "      <th>BsmtFinSF2</th>\n",
       "      <th>BsmtUnfSF</th>\n",
       "      <th>TotalBsmtSF</th>\n",
       "      <th>Heating</th>\n",
       "      <th>HeatingQC</th>\n",
       "      <th>CentralAir</th>\n",
       "      <th>Electrical</th>\n",
       "      <th>1stFlrSF</th>\n",
       "      <th>2ndFlrSF</th>\n",
       "      <th>LowQualFinSF</th>\n",
       "      <th>GrLivArea</th>\n",
       "      <th>BsmtFullBath</th>\n",
       "      <th>BsmtHalfBath</th>\n",
       "      <th>FullBath</th>\n",
       "      <th>HalfBath</th>\n",
       "      <th>BedroomAbvGr</th>\n",
       "      <th>KitchenAbvGr</th>\n",
       "      <th>KitchenQual</th>\n",
       "      <th>TotRmsAbvGrd</th>\n",
       "      <th>Functional</th>\n",
       "      <th>Fireplaces</th>\n",
       "      <th>FireplaceQu</th>\n",
       "      <th>GarageType</th>\n",
       "      <th>GarageYrBlt</th>\n",
       "      <th>GarageFinish</th>\n",
       "      <th>GarageCars</th>\n",
       "      <th>GarageArea</th>\n",
       "      <th>GarageQual</th>\n",
       "      <th>GarageCond</th>\n",
       "      <th>PavedDrive</th>\n",
       "      <th>WoodDeckSF</th>\n",
       "      <th>OpenPorchSF</th>\n",
       "      <th>EnclosedPorch</th>\n",
       "      <th>3SsnPorch</th>\n",
       "      <th>ScreenPorch</th>\n",
       "      <th>PoolArea</th>\n",
       "      <th>PoolQC</th>\n",
       "      <th>Fence</th>\n",
       "      <th>MiscFeature</th>\n",
       "      <th>MiscVal</th>\n",
       "      <th>MoSold</th>\n",
       "      <th>YrSold</th>\n",
       "      <th>SaleType</th>\n",
       "      <th>SaleCondition</th>\n",
       "      <th>SalePrice</th>\n",
       "    </tr>\n",
       "  </thead>\n",
       "  <tbody>\n",
       "    <tr>\n",
       "      <th>0</th>\n",
       "      <td>1</td>\n",
       "      <td>60</td>\n",
       "      <td>RL</td>\n",
       "      <td>65.0</td>\n",
       "      <td>8450</td>\n",
       "      <td>Pave</td>\n",
       "      <td>NaN</td>\n",
       "      <td>Reg</td>\n",
       "      <td>Lvl</td>\n",
       "      <td>AllPub</td>\n",
       "      <td>Inside</td>\n",
       "      <td>Gtl</td>\n",
       "      <td>CollgCr</td>\n",
       "      <td>Norm</td>\n",
       "      <td>Norm</td>\n",
       "      <td>1Fam</td>\n",
       "      <td>2Story</td>\n",
       "      <td>7</td>\n",
       "      <td>5</td>\n",
       "      <td>2003</td>\n",
       "      <td>2003</td>\n",
       "      <td>Gable</td>\n",
       "      <td>CompShg</td>\n",
       "      <td>VinylSd</td>\n",
       "      <td>VinylSd</td>\n",
       "      <td>BrkFace</td>\n",
       "      <td>196.0</td>\n",
       "      <td>Gd</td>\n",
       "      <td>TA</td>\n",
       "      <td>PConc</td>\n",
       "      <td>Gd</td>\n",
       "      <td>TA</td>\n",
       "      <td>No</td>\n",
       "      <td>GLQ</td>\n",
       "      <td>706</td>\n",
       "      <td>Unf</td>\n",
       "      <td>0</td>\n",
       "      <td>150</td>\n",
       "      <td>856</td>\n",
       "      <td>GasA</td>\n",
       "      <td>Ex</td>\n",
       "      <td>Y</td>\n",
       "      <td>SBrkr</td>\n",
       "      <td>856</td>\n",
       "      <td>854</td>\n",
       "      <td>0</td>\n",
       "      <td>1710</td>\n",
       "      <td>1</td>\n",
       "      <td>0</td>\n",
       "      <td>2</td>\n",
       "      <td>1</td>\n",
       "      <td>3</td>\n",
       "      <td>1</td>\n",
       "      <td>Gd</td>\n",
       "      <td>8</td>\n",
       "      <td>Typ</td>\n",
       "      <td>0</td>\n",
       "      <td>NaN</td>\n",
       "      <td>Attchd</td>\n",
       "      <td>2003.0</td>\n",
       "      <td>RFn</td>\n",
       "      <td>2</td>\n",
       "      <td>548</td>\n",
       "      <td>TA</td>\n",
       "      <td>TA</td>\n",
       "      <td>Y</td>\n",
       "      <td>0</td>\n",
       "      <td>61</td>\n",
       "      <td>0</td>\n",
       "      <td>0</td>\n",
       "      <td>0</td>\n",
       "      <td>0</td>\n",
       "      <td>NaN</td>\n",
       "      <td>NaN</td>\n",
       "      <td>NaN</td>\n",
       "      <td>0</td>\n",
       "      <td>2</td>\n",
       "      <td>2008</td>\n",
       "      <td>WD</td>\n",
       "      <td>Normal</td>\n",
       "      <td>208500</td>\n",
       "    </tr>\n",
       "    <tr>\n",
       "      <th>1</th>\n",
       "      <td>2</td>\n",
       "      <td>20</td>\n",
       "      <td>RL</td>\n",
       "      <td>80.0</td>\n",
       "      <td>9600</td>\n",
       "      <td>Pave</td>\n",
       "      <td>NaN</td>\n",
       "      <td>Reg</td>\n",
       "      <td>Lvl</td>\n",
       "      <td>AllPub</td>\n",
       "      <td>FR2</td>\n",
       "      <td>Gtl</td>\n",
       "      <td>Veenker</td>\n",
       "      <td>Feedr</td>\n",
       "      <td>Norm</td>\n",
       "      <td>1Fam</td>\n",
       "      <td>1Story</td>\n",
       "      <td>6</td>\n",
       "      <td>8</td>\n",
       "      <td>1976</td>\n",
       "      <td>1976</td>\n",
       "      <td>Gable</td>\n",
       "      <td>CompShg</td>\n",
       "      <td>MetalSd</td>\n",
       "      <td>MetalSd</td>\n",
       "      <td>NaN</td>\n",
       "      <td>0.0</td>\n",
       "      <td>TA</td>\n",
       "      <td>TA</td>\n",
       "      <td>CBlock</td>\n",
       "      <td>Gd</td>\n",
       "      <td>TA</td>\n",
       "      <td>Gd</td>\n",
       "      <td>ALQ</td>\n",
       "      <td>978</td>\n",
       "      <td>Unf</td>\n",
       "      <td>0</td>\n",
       "      <td>284</td>\n",
       "      <td>1262</td>\n",
       "      <td>GasA</td>\n",
       "      <td>Ex</td>\n",
       "      <td>Y</td>\n",
       "      <td>SBrkr</td>\n",
       "      <td>1262</td>\n",
       "      <td>0</td>\n",
       "      <td>0</td>\n",
       "      <td>1262</td>\n",
       "      <td>0</td>\n",
       "      <td>1</td>\n",
       "      <td>2</td>\n",
       "      <td>0</td>\n",
       "      <td>3</td>\n",
       "      <td>1</td>\n",
       "      <td>TA</td>\n",
       "      <td>6</td>\n",
       "      <td>Typ</td>\n",
       "      <td>1</td>\n",
       "      <td>TA</td>\n",
       "      <td>Attchd</td>\n",
       "      <td>1976.0</td>\n",
       "      <td>RFn</td>\n",
       "      <td>2</td>\n",
       "      <td>460</td>\n",
       "      <td>TA</td>\n",
       "      <td>TA</td>\n",
       "      <td>Y</td>\n",
       "      <td>298</td>\n",
       "      <td>0</td>\n",
       "      <td>0</td>\n",
       "      <td>0</td>\n",
       "      <td>0</td>\n",
       "      <td>0</td>\n",
       "      <td>NaN</td>\n",
       "      <td>NaN</td>\n",
       "      <td>NaN</td>\n",
       "      <td>0</td>\n",
       "      <td>5</td>\n",
       "      <td>2007</td>\n",
       "      <td>WD</td>\n",
       "      <td>Normal</td>\n",
       "      <td>181500</td>\n",
       "    </tr>\n",
       "    <tr>\n",
       "      <th>2</th>\n",
       "      <td>3</td>\n",
       "      <td>60</td>\n",
       "      <td>RL</td>\n",
       "      <td>68.0</td>\n",
       "      <td>11250</td>\n",
       "      <td>Pave</td>\n",
       "      <td>NaN</td>\n",
       "      <td>IR1</td>\n",
       "      <td>Lvl</td>\n",
       "      <td>AllPub</td>\n",
       "      <td>Inside</td>\n",
       "      <td>Gtl</td>\n",
       "      <td>CollgCr</td>\n",
       "      <td>Norm</td>\n",
       "      <td>Norm</td>\n",
       "      <td>1Fam</td>\n",
       "      <td>2Story</td>\n",
       "      <td>7</td>\n",
       "      <td>5</td>\n",
       "      <td>2001</td>\n",
       "      <td>2002</td>\n",
       "      <td>Gable</td>\n",
       "      <td>CompShg</td>\n",
       "      <td>VinylSd</td>\n",
       "      <td>VinylSd</td>\n",
       "      <td>BrkFace</td>\n",
       "      <td>162.0</td>\n",
       "      <td>Gd</td>\n",
       "      <td>TA</td>\n",
       "      <td>PConc</td>\n",
       "      <td>Gd</td>\n",
       "      <td>TA</td>\n",
       "      <td>Mn</td>\n",
       "      <td>GLQ</td>\n",
       "      <td>486</td>\n",
       "      <td>Unf</td>\n",
       "      <td>0</td>\n",
       "      <td>434</td>\n",
       "      <td>920</td>\n",
       "      <td>GasA</td>\n",
       "      <td>Ex</td>\n",
       "      <td>Y</td>\n",
       "      <td>SBrkr</td>\n",
       "      <td>920</td>\n",
       "      <td>866</td>\n",
       "      <td>0</td>\n",
       "      <td>1786</td>\n",
       "      <td>1</td>\n",
       "      <td>0</td>\n",
       "      <td>2</td>\n",
       "      <td>1</td>\n",
       "      <td>3</td>\n",
       "      <td>1</td>\n",
       "      <td>Gd</td>\n",
       "      <td>6</td>\n",
       "      <td>Typ</td>\n",
       "      <td>1</td>\n",
       "      <td>TA</td>\n",
       "      <td>Attchd</td>\n",
       "      <td>2001.0</td>\n",
       "      <td>RFn</td>\n",
       "      <td>2</td>\n",
       "      <td>608</td>\n",
       "      <td>TA</td>\n",
       "      <td>TA</td>\n",
       "      <td>Y</td>\n",
       "      <td>0</td>\n",
       "      <td>42</td>\n",
       "      <td>0</td>\n",
       "      <td>0</td>\n",
       "      <td>0</td>\n",
       "      <td>0</td>\n",
       "      <td>NaN</td>\n",
       "      <td>NaN</td>\n",
       "      <td>NaN</td>\n",
       "      <td>0</td>\n",
       "      <td>9</td>\n",
       "      <td>2008</td>\n",
       "      <td>WD</td>\n",
       "      <td>Normal</td>\n",
       "      <td>223500</td>\n",
       "    </tr>\n",
       "    <tr>\n",
       "      <th>3</th>\n",
       "      <td>4</td>\n",
       "      <td>70</td>\n",
       "      <td>RL</td>\n",
       "      <td>60.0</td>\n",
       "      <td>9550</td>\n",
       "      <td>Pave</td>\n",
       "      <td>NaN</td>\n",
       "      <td>IR1</td>\n",
       "      <td>Lvl</td>\n",
       "      <td>AllPub</td>\n",
       "      <td>Corner</td>\n",
       "      <td>Gtl</td>\n",
       "      <td>Crawfor</td>\n",
       "      <td>Norm</td>\n",
       "      <td>Norm</td>\n",
       "      <td>1Fam</td>\n",
       "      <td>2Story</td>\n",
       "      <td>7</td>\n",
       "      <td>5</td>\n",
       "      <td>1915</td>\n",
       "      <td>1970</td>\n",
       "      <td>Gable</td>\n",
       "      <td>CompShg</td>\n",
       "      <td>Wd Sdng</td>\n",
       "      <td>Wd Shng</td>\n",
       "      <td>NaN</td>\n",
       "      <td>0.0</td>\n",
       "      <td>TA</td>\n",
       "      <td>TA</td>\n",
       "      <td>BrkTil</td>\n",
       "      <td>TA</td>\n",
       "      <td>Gd</td>\n",
       "      <td>No</td>\n",
       "      <td>ALQ</td>\n",
       "      <td>216</td>\n",
       "      <td>Unf</td>\n",
       "      <td>0</td>\n",
       "      <td>540</td>\n",
       "      <td>756</td>\n",
       "      <td>GasA</td>\n",
       "      <td>Gd</td>\n",
       "      <td>Y</td>\n",
       "      <td>SBrkr</td>\n",
       "      <td>961</td>\n",
       "      <td>756</td>\n",
       "      <td>0</td>\n",
       "      <td>1717</td>\n",
       "      <td>1</td>\n",
       "      <td>0</td>\n",
       "      <td>1</td>\n",
       "      <td>0</td>\n",
       "      <td>3</td>\n",
       "      <td>1</td>\n",
       "      <td>Gd</td>\n",
       "      <td>7</td>\n",
       "      <td>Typ</td>\n",
       "      <td>1</td>\n",
       "      <td>Gd</td>\n",
       "      <td>Detchd</td>\n",
       "      <td>1998.0</td>\n",
       "      <td>Unf</td>\n",
       "      <td>3</td>\n",
       "      <td>642</td>\n",
       "      <td>TA</td>\n",
       "      <td>TA</td>\n",
       "      <td>Y</td>\n",
       "      <td>0</td>\n",
       "      <td>35</td>\n",
       "      <td>272</td>\n",
       "      <td>0</td>\n",
       "      <td>0</td>\n",
       "      <td>0</td>\n",
       "      <td>NaN</td>\n",
       "      <td>NaN</td>\n",
       "      <td>NaN</td>\n",
       "      <td>0</td>\n",
       "      <td>2</td>\n",
       "      <td>2006</td>\n",
       "      <td>WD</td>\n",
       "      <td>Abnorml</td>\n",
       "      <td>140000</td>\n",
       "    </tr>\n",
       "    <tr>\n",
       "      <th>4</th>\n",
       "      <td>5</td>\n",
       "      <td>60</td>\n",
       "      <td>RL</td>\n",
       "      <td>84.0</td>\n",
       "      <td>14260</td>\n",
       "      <td>Pave</td>\n",
       "      <td>NaN</td>\n",
       "      <td>IR1</td>\n",
       "      <td>Lvl</td>\n",
       "      <td>AllPub</td>\n",
       "      <td>FR2</td>\n",
       "      <td>Gtl</td>\n",
       "      <td>NoRidge</td>\n",
       "      <td>Norm</td>\n",
       "      <td>Norm</td>\n",
       "      <td>1Fam</td>\n",
       "      <td>2Story</td>\n",
       "      <td>8</td>\n",
       "      <td>5</td>\n",
       "      <td>2000</td>\n",
       "      <td>2000</td>\n",
       "      <td>Gable</td>\n",
       "      <td>CompShg</td>\n",
       "      <td>VinylSd</td>\n",
       "      <td>VinylSd</td>\n",
       "      <td>BrkFace</td>\n",
       "      <td>350.0</td>\n",
       "      <td>Gd</td>\n",
       "      <td>TA</td>\n",
       "      <td>PConc</td>\n",
       "      <td>Gd</td>\n",
       "      <td>TA</td>\n",
       "      <td>Av</td>\n",
       "      <td>GLQ</td>\n",
       "      <td>655</td>\n",
       "      <td>Unf</td>\n",
       "      <td>0</td>\n",
       "      <td>490</td>\n",
       "      <td>1145</td>\n",
       "      <td>GasA</td>\n",
       "      <td>Ex</td>\n",
       "      <td>Y</td>\n",
       "      <td>SBrkr</td>\n",
       "      <td>1145</td>\n",
       "      <td>1053</td>\n",
       "      <td>0</td>\n",
       "      <td>2198</td>\n",
       "      <td>1</td>\n",
       "      <td>0</td>\n",
       "      <td>2</td>\n",
       "      <td>1</td>\n",
       "      <td>4</td>\n",
       "      <td>1</td>\n",
       "      <td>Gd</td>\n",
       "      <td>9</td>\n",
       "      <td>Typ</td>\n",
       "      <td>1</td>\n",
       "      <td>TA</td>\n",
       "      <td>Attchd</td>\n",
       "      <td>2000.0</td>\n",
       "      <td>RFn</td>\n",
       "      <td>3</td>\n",
       "      <td>836</td>\n",
       "      <td>TA</td>\n",
       "      <td>TA</td>\n",
       "      <td>Y</td>\n",
       "      <td>192</td>\n",
       "      <td>84</td>\n",
       "      <td>0</td>\n",
       "      <td>0</td>\n",
       "      <td>0</td>\n",
       "      <td>0</td>\n",
       "      <td>NaN</td>\n",
       "      <td>NaN</td>\n",
       "      <td>NaN</td>\n",
       "      <td>0</td>\n",
       "      <td>12</td>\n",
       "      <td>2008</td>\n",
       "      <td>WD</td>\n",
       "      <td>Normal</td>\n",
       "      <td>250000</td>\n",
       "    </tr>\n",
       "  </tbody>\n",
       "</table>\n",
       "</div>"
      ],
      "text/plain": [
       "   Id  MSSubClass MSZoning  LotFrontage  LotArea Street Alley LotShape  \\\n",
       "0   1          60       RL         65.0     8450   Pave   NaN      Reg   \n",
       "1   2          20       RL         80.0     9600   Pave   NaN      Reg   \n",
       "2   3          60       RL         68.0    11250   Pave   NaN      IR1   \n",
       "3   4          70       RL         60.0     9550   Pave   NaN      IR1   \n",
       "4   5          60       RL         84.0    14260   Pave   NaN      IR1   \n",
       "\n",
       "  LandContour Utilities LotConfig LandSlope Neighborhood Condition1  \\\n",
       "0         Lvl    AllPub    Inside       Gtl      CollgCr       Norm   \n",
       "1         Lvl    AllPub       FR2       Gtl      Veenker      Feedr   \n",
       "2         Lvl    AllPub    Inside       Gtl      CollgCr       Norm   \n",
       "3         Lvl    AllPub    Corner       Gtl      Crawfor       Norm   \n",
       "4         Lvl    AllPub       FR2       Gtl      NoRidge       Norm   \n",
       "\n",
       "  Condition2 BldgType HouseStyle  OverallQual  OverallCond  YearBuilt  \\\n",
       "0       Norm     1Fam     2Story            7            5       2003   \n",
       "1       Norm     1Fam     1Story            6            8       1976   \n",
       "2       Norm     1Fam     2Story            7            5       2001   \n",
       "3       Norm     1Fam     2Story            7            5       1915   \n",
       "4       Norm     1Fam     2Story            8            5       2000   \n",
       "\n",
       "   YearRemodAdd RoofStyle RoofMatl Exterior1st Exterior2nd MasVnrType  \\\n",
       "0          2003     Gable  CompShg     VinylSd     VinylSd    BrkFace   \n",
       "1          1976     Gable  CompShg     MetalSd     MetalSd        NaN   \n",
       "2          2002     Gable  CompShg     VinylSd     VinylSd    BrkFace   \n",
       "3          1970     Gable  CompShg     Wd Sdng     Wd Shng        NaN   \n",
       "4          2000     Gable  CompShg     VinylSd     VinylSd    BrkFace   \n",
       "\n",
       "   MasVnrArea ExterQual ExterCond Foundation BsmtQual BsmtCond BsmtExposure  \\\n",
       "0       196.0        Gd        TA      PConc       Gd       TA           No   \n",
       "1         0.0        TA        TA     CBlock       Gd       TA           Gd   \n",
       "2       162.0        Gd        TA      PConc       Gd       TA           Mn   \n",
       "3         0.0        TA        TA     BrkTil       TA       Gd           No   \n",
       "4       350.0        Gd        TA      PConc       Gd       TA           Av   \n",
       "\n",
       "  BsmtFinType1  BsmtFinSF1 BsmtFinType2  BsmtFinSF2  BsmtUnfSF  TotalBsmtSF  \\\n",
       "0          GLQ         706          Unf           0        150          856   \n",
       "1          ALQ         978          Unf           0        284         1262   \n",
       "2          GLQ         486          Unf           0        434          920   \n",
       "3          ALQ         216          Unf           0        540          756   \n",
       "4          GLQ         655          Unf           0        490         1145   \n",
       "\n",
       "  Heating HeatingQC CentralAir Electrical  1stFlrSF  2ndFlrSF  LowQualFinSF  \\\n",
       "0    GasA        Ex          Y      SBrkr       856       854             0   \n",
       "1    GasA        Ex          Y      SBrkr      1262         0             0   \n",
       "2    GasA        Ex          Y      SBrkr       920       866             0   \n",
       "3    GasA        Gd          Y      SBrkr       961       756             0   \n",
       "4    GasA        Ex          Y      SBrkr      1145      1053             0   \n",
       "\n",
       "   GrLivArea  BsmtFullBath  BsmtHalfBath  FullBath  HalfBath  BedroomAbvGr  \\\n",
       "0       1710             1             0         2         1             3   \n",
       "1       1262             0             1         2         0             3   \n",
       "2       1786             1             0         2         1             3   \n",
       "3       1717             1             0         1         0             3   \n",
       "4       2198             1             0         2         1             4   \n",
       "\n",
       "   KitchenAbvGr KitchenQual  TotRmsAbvGrd Functional  Fireplaces FireplaceQu  \\\n",
       "0             1          Gd             8        Typ           0         NaN   \n",
       "1             1          TA             6        Typ           1          TA   \n",
       "2             1          Gd             6        Typ           1          TA   \n",
       "3             1          Gd             7        Typ           1          Gd   \n",
       "4             1          Gd             9        Typ           1          TA   \n",
       "\n",
       "  GarageType  GarageYrBlt GarageFinish  GarageCars  GarageArea GarageQual  \\\n",
       "0     Attchd       2003.0          RFn           2         548         TA   \n",
       "1     Attchd       1976.0          RFn           2         460         TA   \n",
       "2     Attchd       2001.0          RFn           2         608         TA   \n",
       "3     Detchd       1998.0          Unf           3         642         TA   \n",
       "4     Attchd       2000.0          RFn           3         836         TA   \n",
       "\n",
       "  GarageCond PavedDrive  WoodDeckSF  OpenPorchSF  EnclosedPorch  3SsnPorch  \\\n",
       "0         TA          Y           0           61              0          0   \n",
       "1         TA          Y         298            0              0          0   \n",
       "2         TA          Y           0           42              0          0   \n",
       "3         TA          Y           0           35            272          0   \n",
       "4         TA          Y         192           84              0          0   \n",
       "\n",
       "   ScreenPorch  PoolArea PoolQC Fence MiscFeature  MiscVal  MoSold  YrSold  \\\n",
       "0            0         0    NaN   NaN         NaN        0       2    2008   \n",
       "1            0         0    NaN   NaN         NaN        0       5    2007   \n",
       "2            0         0    NaN   NaN         NaN        0       9    2008   \n",
       "3            0         0    NaN   NaN         NaN        0       2    2006   \n",
       "4            0         0    NaN   NaN         NaN        0      12    2008   \n",
       "\n",
       "  SaleType SaleCondition  SalePrice  \n",
       "0       WD        Normal     208500  \n",
       "1       WD        Normal     181500  \n",
       "2       WD        Normal     223500  \n",
       "3       WD       Abnorml     140000  \n",
       "4       WD        Normal     250000  "
      ]
     },
     "execution_count": 2,
     "metadata": {},
     "output_type": "execute_result"
    }
   ],
   "source": [
    "data.head()"
   ]
  },
  {
   "cell_type": "markdown",
   "id": "beacac4d-2880-4c48-994e-260ec9c6be7a",
   "metadata": {},
   "source": [
    "The dataset's shape :"
   ]
  },
  {
   "cell_type": "code",
   "execution_count": 3,
   "id": "6c38a6e6-fb1a-4d93-9b0b-8cd25268f28b",
   "metadata": {},
   "outputs": [
    {
     "data": {
      "text/plain": [
       "(1460, 81)"
      ]
     },
     "execution_count": 3,
     "metadata": {},
     "output_type": "execute_result"
    }
   ],
   "source": [
    "data.shape"
   ]
  },
  {
   "cell_type": "markdown",
   "id": "ac579706-c5a8-4ef2-87d4-4ca925b9b7d5",
   "metadata": {},
   "source": [
    "Let's check now if there is any duplicated rows :"
   ]
  },
  {
   "cell_type": "code",
   "execution_count": 4,
   "id": "9a5a808e-9ecf-4b17-b43d-1b660cf1e380",
   "metadata": {},
   "outputs": [
    {
     "data": {
      "text/plain": [
       "0"
      ]
     },
     "execution_count": 4,
     "metadata": {},
     "output_type": "execute_result"
    }
   ],
   "source": [
    "int(data.duplicated().sum())"
   ]
  },
  {
   "cell_type": "markdown",
   "id": "c23d09eb-6f42-40d6-b67f-d6102e4f5cfe",
   "metadata": {},
   "source": [
    "Now let's split the dataset now into the training and testing datasets:"
   ]
  },
  {
   "cell_type": "code",
   "execution_count": 5,
   "id": "012a9a6f-f54a-4899-a4ff-6ca4d945ed03",
   "metadata": {},
   "outputs": [],
   "source": [
    "from sklearn.model_selection import train_test_split\n",
    "\n",
    "X = data.drop([\"Id\", \"SalePrice\"], axis=1)\n",
    "y = data.SalePrice\n",
    "\n",
    "X_train, X_test, y_train, y_test = train_test_split(X, y, test_size=0.2, random_state=42)"
   ]
  },
  {
   "cell_type": "markdown",
   "id": "77f164d4-6564-4713-aed8-484d8ad14340",
   "metadata": {},
   "source": [
    "Checking for NaNs:"
   ]
  },
  {
   "cell_type": "code",
   "execution_count": 6,
   "id": "d7b3fffa-0b5a-404a-9b4c-155218eb67b5",
   "metadata": {},
   "outputs": [
    {
     "name": "stdout",
     "output_type": "stream",
     "text": [
      "True\n"
     ]
    }
   ],
   "source": [
    "print(X_train.isnull().sum().sort_values().any())"
   ]
  },
  {
   "cell_type": "code",
   "execution_count": 7,
   "id": "0fa0693f-64f2-4e03-b399-194236c89219",
   "metadata": {},
   "outputs": [
    {
     "name": "stdout",
     "output_type": "stream",
     "text": [
      "MasVnrArea        2\n",
      "BsmtQual          9\n",
      "BsmtFinType1      9\n",
      "BsmtCond          9\n",
      "BsmtFinType2     10\n",
      "BsmtExposure     10\n",
      "GarageType       17\n",
      "GarageYrBlt      17\n",
      "GarageQual       17\n",
      "GarageFinish     17\n",
      "GarageCond       17\n",
      "LotFrontage      42\n",
      "FireplaceQu     143\n",
      "MasVnrType      189\n",
      "Fence           244\n",
      "Alley           275\n",
      "MiscFeature     284\n",
      "PoolQC          291\n",
      "dtype: int64\n"
     ]
    }
   ],
   "source": [
    "print(X_test.isnull().sum().sort_values()[X_test.isnull().sum().sort_values() > 0])"
   ]
  },
  {
   "cell_type": "markdown",
   "id": "22e28108-6db8-442d-a9f6-ac272e53ca7e",
   "metadata": {},
   "source": [
    "As we can see here, there are some features with NaN values. Let's put their names in a list called with_nans."
   ]
  },
  {
   "cell_type": "code",
   "execution_count": 8,
   "id": "f203b0c5-d6b1-4af7-b6fb-eb6d6a981894",
   "metadata": {},
   "outputs": [],
   "source": [
    "with_nans_train = X_train.columns[X_train.isnull().any()]\n",
    "with_nans_test = X_test.columns[X_test.isnull().any()]"
   ]
  },
  {
   "cell_type": "code",
   "execution_count": 9,
   "id": "22081805-dca5-47b5-900a-91857d67bd4b",
   "metadata": {},
   "outputs": [
    {
     "data": {
      "text/plain": [
       "set()"
      ]
     },
     "execution_count": 9,
     "metadata": {},
     "output_type": "execute_result"
    }
   ],
   "source": [
    "set(with_nans_test) - set(with_nans_train) "
   ]
  },
  {
   "cell_type": "markdown",
   "id": "41a7b98a-d9c9-4546-b1d8-714083fde530",
   "metadata": {},
   "source": [
    "Now, let's loop over the list with_nans and examine the unique values of each object feature:"
   ]
  },
  {
   "cell_type": "code",
   "execution_count": 10,
   "id": "e01581cd-2688-4d92-ae90-b4d331507eea",
   "metadata": {},
   "outputs": [
    {
     "name": "stdout",
     "output_type": "stream",
     "text": [
      "Alley  :  [nan 'Pave' 'Grvl']\n",
      "MasVnrType  :  [nan 'BrkFace' 'Stone' 'BrkCmn']\n",
      "BsmtQual  :  ['TA' 'Gd' 'Fa' nan 'Ex']\n",
      "BsmtCond  :  ['TA' 'Fa' nan 'Gd' 'Po']\n",
      "BsmtExposure  :  ['No' 'Av' 'Gd' 'Mn' nan]\n",
      "BsmtFinType1  :  ['Rec' 'Unf' 'ALQ' 'LwQ' 'BLQ' 'GLQ' nan]\n",
      "BsmtFinType2  :  ['Unf' 'LwQ' 'Rec' 'BLQ' nan 'GLQ' 'ALQ']\n",
      "Electrical  :  ['SBrkr' 'FuseA' 'FuseF' 'FuseP' nan]\n",
      "FireplaceQu  :  [nan 'TA' 'Gd' 'Fa' 'Ex' 'Po']\n",
      "GarageType  :  ['Attchd' nan 'Detchd' 'BuiltIn' 'Basment' '2Types' 'CarPort']\n",
      "GarageFinish  :  ['RFn' nan 'Unf' 'Fin']\n",
      "GarageQual  :  ['TA' nan 'Po' 'Fa' 'Gd' 'Ex']\n",
      "GarageCond  :  ['TA' nan 'Po' 'Fa' 'Gd' 'Ex']\n",
      "PoolQC  :  [nan 'Fa' 'Ex' 'Gd']\n",
      "Fence  :  [nan 'MnPrv' 'GdWo' 'GdPrv' 'MnWw']\n",
      "MiscFeature  :  [nan 'Othr' 'Shed' 'Gar2' 'TenC']\n"
     ]
    }
   ],
   "source": [
    "for col in with_nans_train:\n",
    "  if X_train[col].dtype == 'object':\n",
    "     print(col, \" : \", X_train[col].unique())"
   ]
  },
  {
   "cell_type": "code",
   "execution_count": 11,
   "id": "b8e0e990-6144-48b7-8720-296f08294a92",
   "metadata": {},
   "outputs": [
    {
     "name": "stdout",
     "output_type": "stream",
     "text": [
      "Alley  :  [nan 'Grvl' 'Pave']\n",
      "MasVnrType  :  [nan 'BrkFace' 'Stone' 'BrkCmn']\n",
      "BsmtQual  :  ['TA' 'Ex' 'Gd' 'Fa' nan]\n",
      "BsmtCond  :  ['TA' 'Gd' nan 'Po' 'Fa']\n",
      "BsmtExposure  :  ['No' 'Av' 'Gd' nan 'Mn']\n",
      "BsmtFinType1  :  ['GLQ' 'Unf' 'ALQ' 'LwQ' 'BLQ' 'Rec' nan]\n",
      "BsmtFinType2  :  ['Unf' 'GLQ' 'BLQ' 'Rec' nan 'LwQ' 'ALQ']\n",
      "FireplaceQu  :  [nan 'TA' 'Gd' 'Ex' 'Fa' 'Po']\n",
      "GarageType  :  ['Attchd' 'Detchd' nan 'BuiltIn' 'CarPort' 'Basment']\n",
      "GarageFinish  :  ['RFn' 'Unf' 'Fin' nan]\n",
      "GarageQual  :  ['TA' nan 'Fa' 'Po' 'Gd']\n",
      "GarageCond  :  ['TA' nan 'Po' 'Fa']\n",
      "PoolQC  :  [nan 'Gd']\n",
      "Fence  :  ['MnPrv' nan 'GdWo' 'MnWw' 'GdPrv']\n",
      "MiscFeature  :  [nan 'Shed']\n"
     ]
    }
   ],
   "source": [
    "for col in with_nans_test:\n",
    "  if X_test[col].dtype == 'object':\n",
    "     print(col, \" : \", X_test[col].unique())"
   ]
  },
  {
   "cell_type": "markdown",
   "id": "d1be288b-2814-4933-b5f4-1f3634d29a90",
   "metadata": {},
   "source": [
    "According to the description of this dataset, some of those feature values contain 'Na', so the NaN values may refer to that 'Na' value. Let's replace the NaNs with 'Na' in those features:"
   ]
  },
  {
   "cell_type": "code",
   "execution_count": 12,
   "id": "4be20918-70d6-4aa5-a7af-e4fe4668ec4a",
   "metadata": {},
   "outputs": [],
   "source": [
    "to_fillna = ['Alley', 'BsmtQual', 'BsmtCond', 'BsmtExposure', 'BsmtFinType1', 'BsmtFinType2', 'FireplaceQu', 'GarageType', 'GarageFinish', 'GarageQual', 'GarageCond', 'PoolQC', 'Fence', 'MiscFeature']\n",
    "for col in to_fillna:\n",
    "  X_train[col] = X_train[col].fillna(value='NA')\n",
    "  X_test[col] = X_test[col].fillna(value='NA')"
   ]
  },
  {
   "cell_type": "markdown",
   "id": "185b0b53-f1e7-42d9-a676-d107a740dec2",
   "metadata": {},
   "source": [
    "The feature 'MasVnrType', doesn't contain the 'Na' value; it contains 'None' instead, according to the description. Therefore, let's replace NaN with None:"
   ]
  },
  {
   "cell_type": "code",
   "execution_count": 13,
   "id": "4b25dd50-9d60-4da6-8fc7-204c13ed4ec3",
   "metadata": {},
   "outputs": [],
   "source": [
    "X_train['MasVnrType'] = X_train['MasVnrType'].fillna(value='None')\n",
    "X_test['MasVnrType'] = X_test['MasVnrType'].fillna(value='None')"
   ]
  },
  {
   "cell_type": "markdown",
   "id": "e376431f-946f-40b2-8a93-b34a204dd261",
   "metadata": {},
   "source": [
    "For the remaining feature 'Electrical', we will impute the missing values with the most frequent value:"
   ]
  },
  {
   "cell_type": "code",
   "execution_count": 14,
   "id": "81ba846f-de9c-4baa-a52e-4df043424471",
   "metadata": {},
   "outputs": [
    {
     "data": {
      "text/plain": [
       "0    SBrkr\n",
       "Name: Electrical, dtype: object"
      ]
     },
     "execution_count": 14,
     "metadata": {},
     "output_type": "execute_result"
    }
   ],
   "source": [
    "X_train['Electrical'].mode()"
   ]
  },
  {
   "cell_type": "code",
   "execution_count": 15,
   "id": "911c77e0-acaa-4bd6-bf8f-cf29813c1181",
   "metadata": {},
   "outputs": [],
   "source": [
    "X_train['Electrical'] = X_train['Electrical'].fillna(value='SBrkr')"
   ]
  },
  {
   "cell_type": "code",
   "execution_count": 16,
   "id": "250ec7f2-2f82-4a72-b936-0f7c519e576d",
   "metadata": {},
   "outputs": [
    {
     "data": {
      "text/plain": [
       "array(['SBrkr', 'FuseA', 'FuseF', 'FuseP'], dtype=object)"
      ]
     },
     "execution_count": 16,
     "metadata": {},
     "output_type": "execute_result"
    }
   ],
   "source": [
    "X_train['Electrical'].unique()"
   ]
  },
  {
   "cell_type": "code",
   "execution_count": 17,
   "id": "3617751c-97ee-4212-b77b-a83fb763a7ba",
   "metadata": {},
   "outputs": [
    {
     "data": {
      "text/plain": [
       "array(['SBrkr', 'FuseA', 'FuseF', 'Mix'], dtype=object)"
      ]
     },
     "execution_count": 17,
     "metadata": {},
     "output_type": "execute_result"
    }
   ],
   "source": [
    "X_test['Electrical'].unique()"
   ]
  },
  {
   "cell_type": "markdown",
   "id": "949f7b01-afc7-4810-9395-277c5ca1e4e2",
   "metadata": {},
   "source": [
    "Now, let's take a look at the numerical features:"
   ]
  },
  {
   "cell_type": "code",
   "execution_count": 18,
   "id": "3d979ad7-3ade-48da-a323-92f7ce6f293e",
   "metadata": {},
   "outputs": [
    {
     "name": "stdout",
     "output_type": "stream",
     "text": [
      "-------- Numerical features with NaNs on training data:\n",
      "LotFrontage\n",
      "MasVnrArea\n",
      "GarageYrBlt\n",
      "-------- Numerical features with NaNs on testing data:\n",
      "LotFrontage\n",
      "MasVnrArea\n",
      "GarageYrBlt\n"
     ]
    }
   ],
   "source": [
    "print(\"-------- Numerical features with NaNs on training data:\")\n",
    "for col in with_nans_train:\n",
    "  if X_train[col].dtype in ['int', 'float']:\n",
    "    print(col)\n",
    "print(\"-------- Numerical features with NaNs on testing data:\")\n",
    "for col in with_nans_test:\n",
    "  if X_test[col].dtype in ['int', 'float']:\n",
    "    print(col)"
   ]
  },
  {
   "cell_type": "markdown",
   "id": "d7bb394e-d036-405a-85d0-a539c0b7e351",
   "metadata": {},
   "source": [
    "To deal with those numerical features, let's see first at the number of NaNs in each one :"
   ]
  },
  {
   "cell_type": "code",
   "execution_count": 19,
   "id": "4a3af33d-0a19-46a4-b381-7e12e47a0b0b",
   "metadata": {},
   "outputs": [
    {
     "data": {
      "text/plain": [
       "MasVnrArea       6\n",
       "GarageYrBlt     64\n",
       "LotFrontage    217\n",
       "dtype: int64"
      ]
     },
     "execution_count": 19,
     "metadata": {},
     "output_type": "execute_result"
    }
   ],
   "source": [
    "X_train[['LotFrontage', 'MasVnrArea', 'GarageYrBlt']].isnull().sum().sort_values()"
   ]
  },
  {
   "cell_type": "code",
   "execution_count": 20,
   "id": "c5b74199-12a8-4dde-956c-7404e99b604f",
   "metadata": {},
   "outputs": [
    {
     "data": {
      "text/plain": [
       "MasVnrArea      2\n",
       "GarageYrBlt    17\n",
       "LotFrontage    42\n",
       "dtype: int64"
      ]
     },
     "execution_count": 20,
     "metadata": {},
     "output_type": "execute_result"
    }
   ],
   "source": [
    "X_test[['LotFrontage', 'MasVnrArea', 'GarageYrBlt']].isnull().sum().sort_values()"
   ]
  },
  {
   "cell_type": "markdown",
   "id": "e90316ae-7315-4e7e-aff1-7e3b8ca36a07",
   "metadata": {},
   "source": [
    "The unique values of 'MasVnrArea':"
   ]
  },
  {
   "cell_type": "code",
   "execution_count": 21,
   "id": "5d8b640f-8535-4483-a2af-e8d913b54896",
   "metadata": {},
   "outputs": [
    {
     "data": {
      "text/plain": [
       "array([0.000e+00, 2.520e+02, 2.100e+02, 1.400e+02, 1.047e+03, 2.060e+02,\n",
       "       1.760e+02, 1.680e+02, 1.840e+02, 1.320e+02, 3.680e+02,       nan,\n",
       "       3.400e+02, 2.680e+02, 1.570e+02, 9.000e+01, 2.750e+02, 2.000e+02,\n",
       "       6.600e+01, 2.370e+02, 1.600e+02, 5.620e+02, 2.200e+02, 7.720e+02,\n",
       "       1.740e+02, 8.500e+01, 7.200e+01, 6.600e+02, 2.980e+02, 1.490e+02,\n",
       "       1.400e+01, 9.900e+01, 2.430e+02, 4.800e+02, 2.320e+02, 2.800e+01,\n",
       "       8.600e+01, 1.250e+02, 7.500e+01, 4.520e+02, 5.280e+02, 2.600e+02,\n",
       "       1.660e+02, 1.090e+02, 2.620e+02, 1.540e+02, 1.800e+02, 3.650e+02,\n",
       "       1.280e+02, 8.600e+02, 2.880e+02, 8.000e+01, 3.020e+02, 2.590e+02,\n",
       "       1.510e+02, 2.450e+02, 2.040e+02, 1.830e+02, 1.600e+01, 1.040e+02,\n",
       "       2.340e+02, 1.230e+02, 1.560e+02, 2.280e+02, 1.710e+02, 6.300e+02,\n",
       "       3.600e+02, 7.480e+02, 2.380e+02, 1.750e+02, 1.190e+02, 1.960e+02,\n",
       "       9.800e+01, 1.220e+02, 2.500e+02, 4.000e+01, 1.080e+02, 1.060e+02,\n",
       "       2.330e+02, 1.460e+02, 1.690e+02, 7.880e+02, 4.640e+02, 2.560e+02,\n",
       "       1.120e+02, 3.990e+02, 3.200e+02, 5.130e+02, 4.200e+02, 6.000e+01,\n",
       "       9.220e+02, 1.000e+02, 8.100e+01, 1.430e+02, 2.700e+01, 5.640e+02,\n",
       "       1.650e+02, 2.240e+02, 3.880e+02, 3.200e+01, 2.890e+02, 4.100e+02,\n",
       "       5.790e+02, 2.250e+02, 7.400e+01, 1.270e+02, 7.310e+02, 2.870e+02,\n",
       "       2.400e+01, 3.350e+02, 4.510e+02, 2.840e+02, 5.000e+02, 1.530e+02,\n",
       "       1.620e+02, 1.860e+02, 3.960e+02, 9.600e+01, 6.400e+01, 1.300e+02,\n",
       "       1.100e+02, 6.400e+02, 8.700e+02, 2.720e+02, 9.500e+01, 4.120e+02,\n",
       "       1.000e+00, 7.620e+02, 5.100e+01, 3.280e+02, 1.800e+01, 1.440e+02,\n",
       "       1.130e+02, 8.200e+01, 5.300e+02, 4.500e+02, 1.780e+02, 3.660e+02,\n",
       "       7.000e+01, 5.760e+02, 7.680e+02, 3.510e+02, 3.780e+02, 1.010e+02,\n",
       "       4.800e+01, 3.000e+02, 1.360e+02, 4.280e+02, 1.500e+02, 4.560e+02,\n",
       "       6.040e+02, 2.460e+02, 4.720e+02, 1.890e+02, 5.710e+02, 2.200e+01,\n",
       "       4.680e+02, 3.800e+01, 5.410e+02, 6.000e+02, 1.920e+02, 6.800e+01,\n",
       "       4.400e+01, 2.540e+02, 5.000e+01, 1.700e+02, 7.960e+02, 3.360e+02,\n",
       "       1.200e+02, 4.420e+02, 4.790e+02, 3.100e+02, 2.400e+02, 2.580e+02,\n",
       "       1.720e+02, 2.120e+02, 1.378e+03, 2.900e+02, 3.500e+02, 3.000e+01,\n",
       "       8.400e+01, 3.240e+02, 2.190e+02, 4.810e+02, 4.240e+02, 5.600e+01,\n",
       "       4.480e+02, 4.250e+02, 2.230e+02, 1.260e+02, 3.330e+02, 6.530e+02,\n",
       "       4.910e+02, 2.360e+02, 2.020e+02, 2.260e+02, 2.930e+02, 1.160e+02,\n",
       "       2.480e+02, 2.470e+02, 5.400e+01, 3.440e+02, 7.600e+01, 2.970e+02,\n",
       "       3.590e+02, 2.810e+02, 3.480e+02, 3.150e+02, 2.160e+02, 2.700e+02,\n",
       "       1.380e+02, 4.320e+02, 1.580e+02, 2.850e+02, 8.160e+02, 1.050e+02,\n",
       "       8.900e+01, 2.860e+02, 1.470e+02, 4.150e+02, 3.050e+02, 1.940e+02,\n",
       "       3.040e+02, 6.300e+01, 3.910e+02, 1.100e+01, 3.870e+02, 3.810e+02,\n",
       "       2.740e+02, 6.210e+02, 1.640e+02, 6.320e+02, 3.120e+02, 5.300e+01,\n",
       "       1.170e+02, 9.400e+01, 3.700e+02, 8.800e+01, 1.020e+02, 1.150e+02,\n",
       "       2.610e+02, 3.420e+02, 1.820e+02, 9.210e+02, 2.150e+02, 1.450e+02,\n",
       "       7.050e+02, 1.420e+02, 6.500e+02, 1.630e+02, 4.360e+02, 4.200e+01,\n",
       "       4.080e+02, 4.600e+01, 9.750e+02, 2.990e+02, 3.400e+01, 1.350e+02,\n",
       "       5.540e+02, 3.180e+02, 1.480e+02, 4.100e+01, 2.090e+02, 9.200e+01,\n",
       "       9.700e+01, 5.940e+02, 5.840e+02, 3.380e+02, 3.100e+01, 5.730e+02,\n",
       "       6.730e+02, 2.660e+02, 5.670e+02, 6.640e+02, 4.660e+02, 2.440e+02,\n",
       "       2.030e+02, 3.060e+02, 2.800e+02, 2.550e+02, 3.800e+02, 1.610e+02,\n",
       "       4.230e+02, 4.260e+02, 6.160e+02, 6.030e+02, 3.090e+02])"
      ]
     },
     "execution_count": 21,
     "metadata": {},
     "output_type": "execute_result"
    }
   ],
   "source": [
    "X_train['MasVnrArea'].unique()"
   ]
  },
  {
   "cell_type": "markdown",
   "id": "63c78a44-e58a-477d-8299-087226f227e1",
   "metadata": {},
   "source": [
    "Let's impute those NaNs with the mean value of the feature :"
   ]
  },
  {
   "cell_type": "code",
   "execution_count": 22,
   "id": "ec68a2e5-600b-4615-a6a5-3935e00e7a1e",
   "metadata": {},
   "outputs": [],
   "source": [
    "value = X_train['MasVnrArea'].mean()\n",
    "X_train['MasVnrArea'] = X_train['MasVnrArea'].fillna(value= value)\n",
    "X_test['MasVnrArea'] = X_test['MasVnrArea'].fillna(value= value)"
   ]
  },
  {
   "cell_type": "markdown",
   "id": "7c3731d6-d12b-4088-8df7-96f47fe927c6",
   "metadata": {},
   "source": [
    "Now, we take a look at the unique values of the 'GarageYrBlt' feature :"
   ]
  },
  {
   "cell_type": "code",
   "execution_count": 23,
   "id": "f8ad3fa8-74f7-45c7-b2e4-a78a388d36b5",
   "metadata": {},
   "outputs": [
    {
     "data": {
      "text/plain": [
       "array([1957., 1993.,   nan, 1939., 1924., 1975., 2005., 1922., 1981.,\n",
       "       2007., 1990., 1966., 1978., 1965., 1969., 2002., 1953., 1963.,\n",
       "       1977., 1986., 1926., 1928., 2003., 2006., 1959., 1949., 2009.,\n",
       "       1980., 1983., 1972., 1979., 1954., 1982., 1997., 1974., 1985.,\n",
       "       1995., 1962., 2008., 1935., 1968., 1988., 2004., 1960., 2000.,\n",
       "       1976., 1994., 1958., 1946., 1967., 1932., 1971., 1964., 1950.,\n",
       "       1910., 1929., 1915., 1991., 1999., 1992., 2001., 2010., 1998.,\n",
       "       1955., 1970., 1996., 1925., 1956., 1940., 1948., 1961., 1941.,\n",
       "       1937., 1989., 1987., 1930., 1914., 1973., 1942., 1951., 1938.,\n",
       "       1923., 1916., 1931., 1921., 1920., 1952., 1984., 1936., 1945.,\n",
       "       1918., 1908., 1900., 1906., 1934.])"
      ]
     },
     "execution_count": 23,
     "metadata": {},
     "output_type": "execute_result"
    }
   ],
   "source": [
    "X_train.GarageYrBlt.unique()"
   ]
  },
  {
   "cell_type": "markdown",
   "id": "429b9573-cc1f-4ad3-927f-676a81e3a688",
   "metadata": {},
   "source": [
    "Let's check now if those NaNs in 'GarageYrBlt' (Garage Year Built) refer to the houses without a garage :"
   ]
  },
  {
   "cell_type": "code",
   "execution_count": 24,
   "id": "5f57ddc5-f062-443f-9cce-55e3c546219e",
   "metadata": {},
   "outputs": [
    {
     "name": "stdout",
     "output_type": "stream",
     "text": [
      "GarageType  :  ['NA']\n",
      "GarageYrBlt  :  [nan]\n",
      "GarageFinish  :  ['NA']\n",
      "GarageCars  :  [0]\n",
      "GarageArea  :  [0]\n",
      "GarageQual  :  ['NA']\n",
      "GarageCond  :  ['NA']\n"
     ]
    }
   ],
   "source": [
    "GarageYrBlt_NaNs = X_train[X_train['GarageYrBlt'].isnull()]\n",
    "Garage = ['GarageType', 'GarageYrBlt', 'GarageFinish', 'GarageCars', 'GarageArea', 'GarageQual', 'GarageCond']\n",
    "for garage in Garage:\n",
    "    print(garage, \" : \", GarageYrBlt_NaNs[garage].unique())"
   ]
  },
  {
   "cell_type": "markdown",
   "id": "2fc59ca6-31fe-4956-8ec1-ddd84ef75fa2",
   "metadata": {},
   "source": [
    "As we can see, there are no garages for these houses; therefore, let's impute the NaN values with the corresponding 'YearBuilt' :"
   ]
  },
  {
   "cell_type": "code",
   "execution_count": 25,
   "id": "67ab461e-0ae7-4fbb-bd4e-ae00a2021c32",
   "metadata": {},
   "outputs": [],
   "source": [
    "X_train['GarageYrBlt'] = X_train['GarageYrBlt'].fillna(value=X_train['YearBuilt'])\n",
    "X_test['GarageYrBlt'] = X_test['GarageYrBlt'].fillna(value=X_test['YearBuilt'])"
   ]
  },
  {
   "cell_type": "markdown",
   "id": "fdf37910-acda-4c93-88a3-e2425d1c0d01",
   "metadata": {},
   "source": [
    "Now, let's move on to the 'LotFrontage' feature. We'll start by inspecting its values :"
   ]
  },
  {
   "cell_type": "code",
   "execution_count": 26,
   "id": "e753ae9d-c0fb-486f-8126-e3e5cb558db2",
   "metadata": {},
   "outputs": [
    {
     "data": {
      "text/plain": [
       "array([ 70.,  59.,  67.,  60.,  50., 122.,  40.,  78.,  76.,  85.,  82.,\n",
       "        80.,  nan,  49.,  75.,  47.,  55.,  91.,  52.,  65.,  35., 100.,\n",
       "        79., 128.,  71.,  64.,  34.,  53.,  33.,  95.,  58.,  72., 105.,\n",
       "        44.,  69.,  54.,  43.,  74.,  21.,  90., 102.,  77.,  51., 107.,\n",
       "       120.,  96.,  89.,  30., 103.,  62., 104.,  84.,  68., 160.,  92.,\n",
       "        81.,  88., 115.,  46.,  36.,  73.,  39.,  56.,  48.,  63.,  87.,\n",
       "       106.,  86., 141.,  24., 108.,  99.,  57., 114.,  42.,  83., 121.,\n",
       "        98., 144., 110.,  61., 130.,  93., 137., 118.,  66., 313., 168.,\n",
       "        45., 109., 124., 149., 134.,  32., 129.,  97.,  37., 112.,  41.,\n",
       "        94., 152., 150., 111., 182., 174.,  38., 101., 153.])"
      ]
     },
     "execution_count": 26,
     "metadata": {},
     "output_type": "execute_result"
    }
   ],
   "source": [
    "X_train['LotFrontage'].unique()"
   ]
  },
  {
   "cell_type": "markdown",
   "id": "e7c869ce-15db-4088-8d0a-e931a242638e",
   "metadata": {},
   "source": [
    "The 'LotFrontage' feature refers to the linear feet of street connected to the property, according to the description, and its values don't contain 0. Therefore, those NaNs may indicate properties without any street connection, so let's impute them with 0 :"
   ]
  },
  {
   "cell_type": "code",
   "execution_count": 27,
   "id": "5f1e0de6-c4bf-4148-bfe6-976992260538",
   "metadata": {},
   "outputs": [],
   "source": [
    "X_train['LotFrontage'] = X_train['LotFrontage'].fillna(value=0)\n",
    "X_test['LotFrontage'] = X_test['LotFrontage'].fillna(value=0)"
   ]
  },
  {
   "cell_type": "markdown",
   "id": "74b2d342-08bc-4c42-a67c-be1d64486b74",
   "metadata": {},
   "source": [
    "Now, let's check the NaNs in the overall dataset again :"
   ]
  },
  {
   "cell_type": "code",
   "execution_count": 28,
   "id": "12f2d916-d9cc-4aa6-bb14-0e8884ebb464",
   "metadata": {},
   "outputs": [
    {
     "data": {
      "text/plain": [
       "MSSubClass       0\n",
       "FireplaceQu      0\n",
       "Fireplaces       0\n",
       "Functional       0\n",
       "TotRmsAbvGrd     0\n",
       "                ..\n",
       "Exterior2nd      0\n",
       "Exterior1st      0\n",
       "RoofMatl         0\n",
       "Foundation       0\n",
       "SaleCondition    0\n",
       "Length: 79, dtype: int64"
      ]
     },
     "execution_count": 28,
     "metadata": {},
     "output_type": "execute_result"
    }
   ],
   "source": [
    "X_train.isnull().sum().sort_values()"
   ]
  },
  {
   "cell_type": "code",
   "execution_count": 29,
   "id": "bb66b09e-6164-43ee-af7d-9183b4b31911",
   "metadata": {},
   "outputs": [
    {
     "data": {
      "text/plain": [
       "MSSubClass       0\n",
       "FireplaceQu      0\n",
       "Fireplaces       0\n",
       "Functional       0\n",
       "TotRmsAbvGrd     0\n",
       "                ..\n",
       "Exterior2nd      0\n",
       "Exterior1st      0\n",
       "RoofMatl         0\n",
       "Foundation       0\n",
       "SaleCondition    0\n",
       "Length: 79, dtype: int64"
      ]
     },
     "execution_count": 29,
     "metadata": {},
     "output_type": "execute_result"
    }
   ],
   "source": [
    "X_test.isnull().sum().sort_values()"
   ]
  },
  {
   "cell_type": "markdown",
   "id": "92019b2d-b601-489a-8fdd-0198f4409158",
   "metadata": {},
   "source": [
    "Let's now check for outliers using box plot charts :"
   ]
  },
  {
   "cell_type": "code",
   "execution_count": 30,
   "id": "47636a14-34c4-4f4f-a61d-815618d3b972",
   "metadata": {},
   "outputs": [
    {
     "data": {
      "text/plain": [
       "Index(['MSSubClass', 'LotFrontage', 'LotArea', 'OverallQual', 'OverallCond',\n",
       "       'YearBuilt', 'YearRemodAdd', 'MasVnrArea', 'BsmtFinSF1', 'BsmtFinSF2',\n",
       "       'BsmtUnfSF', 'TotalBsmtSF', '1stFlrSF', '2ndFlrSF', 'LowQualFinSF',\n",
       "       'GrLivArea', 'BsmtFullBath', 'BsmtHalfBath', 'FullBath', 'HalfBath',\n",
       "       'BedroomAbvGr', 'KitchenAbvGr', 'TotRmsAbvGrd', 'Fireplaces',\n",
       "       'GarageYrBlt', 'GarageCars', 'GarageArea', 'WoodDeckSF', 'OpenPorchSF',\n",
       "       'EnclosedPorch', '3SsnPorch', 'ScreenPorch', 'PoolArea', 'MiscVal',\n",
       "       'MoSold', 'YrSold'],\n",
       "      dtype='object')"
      ]
     },
     "execution_count": 30,
     "metadata": {},
     "output_type": "execute_result"
    }
   ],
   "source": [
    "numerical_features = X_train.select_dtypes(exclude='object').columns\n",
    "numerical_features"
   ]
  },
  {
   "cell_type": "markdown",
   "id": "2744fb97-751d-451b-86f7-46ac04aa30f9",
   "metadata": {},
   "source": [
    "Let's define a list of the features that may contain outliers according to the description of the dataset :"
   ]
  },
  {
   "cell_type": "code",
   "execution_count": 31,
   "id": "fc0c5fee-2fb7-4ed9-b817-a59ecfba45f0",
   "metadata": {},
   "outputs": [],
   "source": [
    "features = ['LotFrontage', 'LotArea', 'YearBuilt', 'YearRemodAdd', 'MasVnrArea', 'BsmtFinSF1', 'BsmtFinSF2', 'BsmtUnfSF', 'TotalBsmtSF', \n",
    "            '1stFlrSF', '2ndFlrSF', 'LowQualFinSF', 'GrLivArea', 'BsmtFullBath', 'FullBath', 'HalfBath', 'BedroomAbvGr', 'KitchenAbvGr', \n",
    "            'TotRmsAbvGrd', 'Fireplaces', 'GarageCars', 'GarageArea', 'WoodDeckSF', 'OpenPorchSF', 'EnclosedPorch', '3SsnPorch',\n",
    "            'ScreenPorch', 'PoolArea', 'MiscVal']"
   ]
  },
  {
   "cell_type": "code",
   "execution_count": 32,
   "id": "4bb55cd2-ff69-4c33-b0e0-0da3ecb2bdd6",
   "metadata": {},
   "outputs": [
    {
     "data": {
      "image/png": "[encoded data removed]",
      "text/plain": [
       "<Figure size 1000x6000 with 29 Axes>"
      ]
     },
     "metadata": {},
     "output_type": "display_data"
    }
   ],
   "source": [
    "from functions import box_plot\n",
    "\n",
    "box_plot(X_train, features, 2)"
   ]
  },
  {
   "cell_type": "markdown",
   "id": "816aacca-e484-403b-9248-3f639c74fe4c",
   "metadata": {},
   "source": [
    "The identified outliers (points outside the box) are meaningful and relevant to the analysis, so they will not be removed."
   ]
  },
  {
   "cell_type": "markdown",
   "id": "b69ae603-ca5e-4e09-b4a8-90b8340be746",
   "metadata": {},
   "source": [
    "Now let's check the values of the remaining features to see if there are no erroneous values according to their meanings :"
   ]
  },
  {
   "cell_type": "code",
   "execution_count": 33,
   "id": "3b875c11-83dc-410c-a6d2-5fb2ca2d5cf2",
   "metadata": {},
   "outputs": [
    {
     "data": {
      "text/plain": [
       "['GarageYrBlt',\n",
       " 'MoSold',\n",
       " 'OverallQual',\n",
       " 'BsmtHalfBath',\n",
       " 'YrSold',\n",
       " 'MSSubClass',\n",
       " 'OverallCond']"
      ]
     },
     "execution_count": 33,
     "metadata": {},
     "output_type": "execute_result"
    }
   ],
   "source": [
    "remaining_features = list(set(numerical_features) - set(features) - set(['Id', 'SalePrice']))\n",
    "remaining_features"
   ]
  },
  {
   "cell_type": "code",
   "execution_count": 34,
   "id": "d94998e2-a2b8-48ab-825e-5758d5b1d840",
   "metadata": {},
   "outputs": [
    {
     "name": "stdout",
     "output_type": "stream",
     "text": [
      "GarageYrBlt :  [1963. 1994. 1927. 1950. 2008. 1972. 1939. 1978. 1970. 1955. 1928. 1968.\n",
      " 2004. 2000. 1953. 1960. 1920. 2003. 1957. 2005. 1956. 1999. 1993. 2007.\n",
      " 1951. 1997. 2006. 1986. 1946. 1965. 1985. 1981. 2009. 1930. 1964. 1966.\n",
      " 1958. 1977. 1976. 1967. 1959. 1940. 1991. 1979. 1949. 1996. 1973. 1954.\n",
      " 1938. 1935. 1948. 1969. 1982. 1987. 1983. 1936. 1962. 1933. 1974. 1998.\n",
      " 1922. 1988. 1912. 2002. 1995. 1925. 2001. 1914. 1975. 1961. 1980. 1947.\n",
      " 1926. 1992. 1990. 1952. 1971. 1921. 1941. 1910. 1989. 1924.]\n",
      "MoSold :  [ 2  4  3 10  9  5  7 12  8 11  6  1]\n",
      "OverallQual :  [ 6  8  5  9  4  7  3 10  2]\n",
      "BsmtHalfBath :  [1 0 2]\n",
      "YrSold :  [2006 2010 2009 2008 2007]\n",
      "MSSubClass :  [ 20  60  30  50 180 160 120  70  80  90  45  40  75 190  85]\n",
      "OverallCond :  [8 5 6 7 9 4 2 3]\n"
     ]
    }
   ],
   "source": [
    "for feature in remaining_features:\n",
    "    print(feature, ': ', X_test[feature].unique())"
   ]
  },
  {
   "cell_type": "markdown",
   "id": "c5bbb0c9-9fc3-47a8-afd6-f0ecc4e0887e",
   "metadata": {},
   "source": [
    "The values of these features are correct according to the description, so let's now move on to examine the values of the categorical columns :"
   ]
  },
  {
   "cell_type": "code",
   "execution_count": 35,
   "id": "70370f96-7851-4554-9cc5-929de03a72ca",
   "metadata": {},
   "outputs": [],
   "source": [
    "categorical_features = X_train.select_dtypes(include='object')"
   ]
  },
  {
   "cell_type": "code",
   "execution_count": 36,
   "id": "e13a10fb-4a9a-4977-98f5-1170de78ff36",
   "metadata": {},
   "outputs": [
    {
     "name": "stdout",
     "output_type": "stream",
     "text": [
      "MSZoning  :  ['RL' 'RM' 'FV' 'RH' 'C (all)']\n",
      "Street  :  ['Pave' 'Grvl']\n",
      "Alley  :  ['NA' 'Pave' 'Grvl']\n",
      "LotShape  :  ['Reg' 'IR1' 'IR2' 'IR3']\n",
      "LandContour  :  ['Lvl' 'Bnk' 'HLS' 'Low']\n",
      "Utilities  :  ['AllPub' 'NoSeWa']\n",
      "LotConfig  :  ['Inside' 'Corner' 'CulDSac' 'FR2' 'FR3']\n",
      "LandSlope  :  ['Gtl' 'Mod' 'Sev']\n",
      "Neighborhood  :  ['NAmes' 'Gilbert' 'Edwards' 'SWISU' 'CollgCr' 'IDOTRR' 'NWAmes' 'Somerst'\n",
      " 'Sawyer' 'Crawfor' 'OldTown' 'Timber' 'BrkSide' 'SawyerW' 'NridgHt'\n",
      " 'Mitchel' 'NoRidge' 'Blmngtn' 'BrDale' 'NPkVill' 'Veenker' 'ClearCr'\n",
      " 'StoneBr' 'MeadowV' 'Blueste']\n",
      "Condition1  :  ['Norm' 'Feedr' 'RRAn' 'Artery' 'PosA' 'PosN' 'RRAe' 'RRNn' 'RRNe']\n",
      "Condition2  :  ['Norm' 'RRNn' 'PosA' 'Feedr' 'RRAe' 'PosN' 'Artery' 'RRAn']\n",
      "BldgType  :  ['1Fam' 'Duplex' 'TwnhsE' '2fmCon' 'Twnhs']\n",
      "HouseStyle  :  ['1Story' '2Story' '1.5Fin' 'SFoyer' 'SLvl' '1.5Unf' '2.5Unf' '2.5Fin']\n",
      "RoofStyle  :  ['Gable' 'Hip' 'Mansard' 'Gambrel' 'Flat' 'Shed']\n",
      "RoofMatl  :  ['CompShg' 'WdShngl' 'WdShake' 'Metal' 'Tar&Grv' 'ClyTile' 'Roll']\n",
      "Exterior1st  :  ['MetalSd' 'VinylSd' 'Wd Sdng' 'BrkFace' 'CemntBd' 'Plywood' 'HdBoard'\n",
      " 'Stucco' 'WdShing' 'AsbShng' 'ImStucc' 'BrkComm' 'CBlock' 'AsphShn'\n",
      " 'Stone']\n",
      "Exterior2nd  :  ['MetalSd' 'VinylSd' 'Wd Sdng' 'CmentBd' 'Plywood' 'HdBoard' 'Stucco'\n",
      " 'Wd Shng' 'AsbShng' 'ImStucc' 'BrkFace' 'AsphShn' 'Brk Cmn' 'Stone'\n",
      " 'Other' 'CBlock']\n",
      "MasVnrType  :  ['None' 'BrkFace' 'Stone' 'BrkCmn']\n",
      "ExterQual  :  ['TA' 'Gd' 'Ex' 'Fa']\n",
      "ExterCond  :  ['Gd' 'TA' 'Ex' 'Fa' 'Po']\n",
      "Foundation  :  ['CBlock' 'PConc' 'BrkTil' 'Slab' 'Wood' 'Stone']\n",
      "BsmtQual  :  ['TA' 'Gd' 'Fa' 'NA' 'Ex']\n",
      "BsmtCond  :  ['TA' 'Fa' 'NA' 'Gd' 'Po']\n",
      "BsmtExposure  :  ['No' 'Av' 'Gd' 'Mn' 'NA']\n",
      "BsmtFinType1  :  ['Rec' 'Unf' 'ALQ' 'LwQ' 'BLQ' 'GLQ' 'NA']\n",
      "BsmtFinType2  :  ['Unf' 'LwQ' 'Rec' 'BLQ' 'NA' 'GLQ' 'ALQ']\n",
      "Heating  :  ['GasA' 'Grav' 'Wall' 'GasW' 'OthW' 'Floor']\n",
      "HeatingQC  :  ['TA' 'Gd' 'Ex' 'Fa' 'Po']\n",
      "CentralAir  :  ['Y' 'N']\n",
      "Electrical  :  ['SBrkr' 'FuseA' 'FuseF' 'FuseP']\n",
      "KitchenQual  :  ['TA' 'Gd' 'Ex' 'Fa']\n",
      "Functional  :  ['Typ' 'Min2' 'Min1' 'Maj2' 'Mod' 'Maj1' 'Sev']\n",
      "FireplaceQu  :  ['NA' 'TA' 'Gd' 'Fa' 'Ex' 'Po']\n",
      "GarageType  :  ['Attchd' 'NA' 'Detchd' 'BuiltIn' 'Basment' '2Types' 'CarPort']\n",
      "GarageFinish  :  ['RFn' 'NA' 'Unf' 'Fin']\n",
      "GarageQual  :  ['TA' 'NA' 'Po' 'Fa' 'Gd' 'Ex']\n",
      "GarageCond  :  ['TA' 'NA' 'Po' 'Fa' 'Gd' 'Ex']\n",
      "PavedDrive  :  ['Y' 'P' 'N']\n",
      "PoolQC  :  ['NA' 'Fa' 'Ex' 'Gd']\n",
      "Fence  :  ['NA' 'MnPrv' 'GdWo' 'GdPrv' 'MnWw']\n",
      "MiscFeature  :  ['NA' 'Othr' 'Shed' 'Gar2' 'TenC']\n",
      "SaleType  :  ['WD' 'New' 'COD' 'ConLI' 'Oth' 'ConLw' 'Con' 'ConLD' 'CWD']\n",
      "SaleCondition  :  ['Normal' 'Abnorml' 'Partial' 'Family' 'Alloca' 'AdjLand']\n"
     ]
    }
   ],
   "source": [
    "for feature in categorical_features:\n",
    "    print(feature, \" : \", X_train[feature].unique())"
   ]
  },
  {
   "cell_type": "markdown",
   "id": "9afff45d-627f-4623-a44f-a5891001450b",
   "metadata": {},
   "source": [
    "Now, let's correct the errors in these features according to their descriptions :"
   ]
  },
  {
   "cell_type": "code",
   "execution_count": 37,
   "id": "d5f5251d-91c2-4315-abc4-5ee4b36e8c50",
   "metadata": {},
   "outputs": [],
   "source": [
    "X_train['MSZoning'] = X_train['MSZoning'].replace({'C (all)': 'C'})\n",
    "X_test['MSZoning'] = X_test['MSZoning'].replace({'C (all)': 'C'})\n",
    "\n",
    "X_train['BldgType'] = X_train['BldgType'].replace({'2fmCon': '2FmCon', 'Duplex': 'Duplx', 'Twnhs': 'TwnhsI'})\n",
    "X_test['BldgType'] = X_test['BldgType'].replace({'2fmCon': '2FmCon', 'Duplex': 'Duplx', 'Twnhs': 'TwnhsI'})\n",
    "\n",
    "X_train['Exterior2nd'] = X_train['Exterior2nd'].replace({'CmentBd':'CemntBd', 'Brk Cmn':'BrkComm'})\n",
    "X_test['Exterior2nd'] = X_test['Exterior2nd'].replace({'CmentBd':'CemntBd', 'Brk Cmn':'BrkComm'})"
   ]
  },
  {
   "cell_type": "markdown",
   "id": "e6ef2333-736a-4dcb-a5f2-d41c6d4084d5",
   "metadata": {},
   "source": [
    "**Categorical Features Encoding :**"
   ]
  },
  {
   "cell_type": "code",
   "execution_count": 38,
   "id": "46bd29a7-5933-4043-aa8f-ab1282447e66",
   "metadata": {},
   "outputs": [],
   "source": [
    "for col in ['ExterQual', 'ExterCond', 'HeatingQC', 'KitchenQual']:\n",
    "  X_train[col] = X_train[col].map({'Po':0, 'Fa':1, 'TA':2, 'Gd':3, 'Ex':4})\n",
    "  X_test[col] = X_test[col].map({'Po':0, 'Fa':1, 'TA':2, 'Gd':3, 'Ex':4})\n",
    "\n",
    "for col in ['BsmtQual', 'BsmtCond', 'GarageQual', 'GarageCond', 'FireplaceQu']:\n",
    "  X_train[col] = X_train[col].map({'NA':0, 'Po':1, 'Fa':2, 'TA':3, 'Gd':4, 'Ex':5})\n",
    "  X_test[col] = X_test[col].map({'NA':0, 'Po':1, 'Fa':2, 'TA':3, 'Gd':4, 'Ex':5})\n",
    "    \n",
    "X_train['PoolQC'] = X_train['PoolQC'].map({'NA':0, 'Fa':1, 'Gd':2, 'Ex':3})\n",
    "X_test['PoolQC'] = X_test['PoolQC'].map({'NA':0, 'Fa':1, 'Gd':2, 'Ex':3})\n",
    "\n",
    "X_train['BsmtExposure'] = X_train['BsmtExposure'].map({'NA':0, 'No':1, 'Mn':2, 'Av':3, 'Gd':4})\n",
    "X_test['BsmtExposure'] = X_test['BsmtExposure'].map({'NA':0, 'No':1, 'Mn':2, 'Av':3, 'Gd':4})\n",
    "\n",
    "X_train['CentralAir'] = X_train['CentralAir'].map({'N':0, 'Y':1})\n",
    "X_test['CentralAir'] = X_test['CentralAir'].map({'N':0, 'Y':1})\n",
    "\n",
    "X_train['PavedDrive'] = X_train['PavedDrive'].map({'N':0, 'P':1, 'Y':2})\n",
    "X_test['PavedDrive'] = X_test['PavedDrive'].map({'N':0, 'P':1, 'Y':2})"
   ]
  },
  {
   "cell_type": "code",
   "execution_count": 39,
   "id": "7bd9f2f3-e66b-46da-a58a-60c7cec8f5ab",
   "metadata": {},
   "outputs": [],
   "source": [
    "categorical_data_train = X_train.select_dtypes(include='object')\n",
    "categorical_data_test = X_test.select_dtypes(include='object')\n",
    "\n",
    "categorical_data = pd.concat([categorical_data_train, categorical_data_test])\n",
    "one_hot = pd.get_dummies(categorical_data, dtype=int, drop_first=True)\n",
    "one_hot_train = one_hot.iloc[:len(categorical_data_train), :]\n",
    "one_hot_test = one_hot.iloc[len(categorical_data_train):, :]"
   ]
  },
  {
   "cell_type": "code",
   "execution_count": 40,
   "id": "9fd08e23-70de-45a8-9d5d-fb5c901e049b",
   "metadata": {},
   "outputs": [
    {
     "data": {
      "text/html": [
       "<div>\n",
       "<style scoped>\n",
       "    .dataframe tbody tr th:only-of-type {\n",
       "        vertical-align: middle;\n",
       "    }\n",
       "\n",
       "    .dataframe tbody tr th {\n",
       "        vertical-align: top;\n",
       "    }\n",
       "\n",
       "    .dataframe thead th {\n",
       "        text-align: right;\n",
       "    }\n",
       "</style>\n",
       "<table border=\"1\" class=\"dataframe\">\n",
       "  <thead>\n",
       "    <tr style=\"text-align: right;\">\n",
       "      <th></th>\n",
       "      <th>MSSubClass</th>\n",
       "      <th>MSZoning</th>\n",
       "      <th>LotFrontage</th>\n",
       "      <th>LotArea</th>\n",
       "      <th>Street</th>\n",
       "      <th>Alley</th>\n",
       "      <th>LotShape</th>\n",
       "      <th>LandContour</th>\n",
       "      <th>Utilities</th>\n",
       "      <th>LotConfig</th>\n",
       "      <th>LandSlope</th>\n",
       "      <th>Neighborhood</th>\n",
       "      <th>Condition1</th>\n",
       "      <th>Condition2</th>\n",
       "      <th>BldgType</th>\n",
       "      <th>HouseStyle</th>\n",
       "      <th>OverallQual</th>\n",
       "      <th>OverallCond</th>\n",
       "      <th>YearBuilt</th>\n",
       "      <th>YearRemodAdd</th>\n",
       "      <th>RoofStyle</th>\n",
       "      <th>RoofMatl</th>\n",
       "      <th>Exterior1st</th>\n",
       "      <th>Exterior2nd</th>\n",
       "      <th>MasVnrType</th>\n",
       "      <th>MasVnrArea</th>\n",
       "      <th>ExterQual</th>\n",
       "      <th>ExterCond</th>\n",
       "      <th>Foundation</th>\n",
       "      <th>BsmtQual</th>\n",
       "      <th>BsmtCond</th>\n",
       "      <th>BsmtExposure</th>\n",
       "      <th>BsmtFinType1</th>\n",
       "      <th>BsmtFinSF1</th>\n",
       "      <th>BsmtFinType2</th>\n",
       "      <th>BsmtFinSF2</th>\n",
       "      <th>BsmtUnfSF</th>\n",
       "      <th>TotalBsmtSF</th>\n",
       "      <th>Heating</th>\n",
       "      <th>HeatingQC</th>\n",
       "      <th>CentralAir</th>\n",
       "      <th>Electrical</th>\n",
       "      <th>1stFlrSF</th>\n",
       "      <th>2ndFlrSF</th>\n",
       "      <th>LowQualFinSF</th>\n",
       "      <th>GrLivArea</th>\n",
       "      <th>BsmtFullBath</th>\n",
       "      <th>BsmtHalfBath</th>\n",
       "      <th>FullBath</th>\n",
       "      <th>HalfBath</th>\n",
       "      <th>BedroomAbvGr</th>\n",
       "      <th>KitchenAbvGr</th>\n",
       "      <th>KitchenQual</th>\n",
       "      <th>TotRmsAbvGrd</th>\n",
       "      <th>Functional</th>\n",
       "      <th>Fireplaces</th>\n",
       "      <th>FireplaceQu</th>\n",
       "      <th>GarageType</th>\n",
       "      <th>GarageYrBlt</th>\n",
       "      <th>GarageFinish</th>\n",
       "      <th>GarageCars</th>\n",
       "      <th>GarageArea</th>\n",
       "      <th>GarageQual</th>\n",
       "      <th>GarageCond</th>\n",
       "      <th>PavedDrive</th>\n",
       "      <th>WoodDeckSF</th>\n",
       "      <th>OpenPorchSF</th>\n",
       "      <th>EnclosedPorch</th>\n",
       "      <th>3SsnPorch</th>\n",
       "      <th>ScreenPorch</th>\n",
       "      <th>PoolArea</th>\n",
       "      <th>PoolQC</th>\n",
       "      <th>Fence</th>\n",
       "      <th>MiscFeature</th>\n",
       "      <th>MiscVal</th>\n",
       "      <th>MoSold</th>\n",
       "      <th>YrSold</th>\n",
       "      <th>SaleType</th>\n",
       "      <th>SaleCondition</th>\n",
       "    </tr>\n",
       "  </thead>\n",
       "  <tbody>\n",
       "    <tr>\n",
       "      <th>254</th>\n",
       "      <td>20</td>\n",
       "      <td>RL</td>\n",
       "      <td>70.0</td>\n",
       "      <td>8400</td>\n",
       "      <td>Pave</td>\n",
       "      <td>NA</td>\n",
       "      <td>Reg</td>\n",
       "      <td>Lvl</td>\n",
       "      <td>AllPub</td>\n",
       "      <td>Inside</td>\n",
       "      <td>Gtl</td>\n",
       "      <td>NAmes</td>\n",
       "      <td>Norm</td>\n",
       "      <td>Norm</td>\n",
       "      <td>1Fam</td>\n",
       "      <td>1Story</td>\n",
       "      <td>5</td>\n",
       "      <td>6</td>\n",
       "      <td>1957</td>\n",
       "      <td>1957</td>\n",
       "      <td>Gable</td>\n",
       "      <td>CompShg</td>\n",
       "      <td>MetalSd</td>\n",
       "      <td>MetalSd</td>\n",
       "      <td>None</td>\n",
       "      <td>0.0</td>\n",
       "      <td>2</td>\n",
       "      <td>3</td>\n",
       "      <td>CBlock</td>\n",
       "      <td>3</td>\n",
       "      <td>3</td>\n",
       "      <td>1</td>\n",
       "      <td>Rec</td>\n",
       "      <td>922</td>\n",
       "      <td>Unf</td>\n",
       "      <td>0</td>\n",
       "      <td>392</td>\n",
       "      <td>1314</td>\n",
       "      <td>GasA</td>\n",
       "      <td>2</td>\n",
       "      <td>1</td>\n",
       "      <td>SBrkr</td>\n",
       "      <td>1314</td>\n",
       "      <td>0</td>\n",
       "      <td>0</td>\n",
       "      <td>1314</td>\n",
       "      <td>1</td>\n",
       "      <td>0</td>\n",
       "      <td>1</td>\n",
       "      <td>0</td>\n",
       "      <td>3</td>\n",
       "      <td>1</td>\n",
       "      <td>2</td>\n",
       "      <td>5</td>\n",
       "      <td>Typ</td>\n",
       "      <td>0</td>\n",
       "      <td>0</td>\n",
       "      <td>Attchd</td>\n",
       "      <td>1957.0</td>\n",
       "      <td>RFn</td>\n",
       "      <td>1</td>\n",
       "      <td>294</td>\n",
       "      <td>3</td>\n",
       "      <td>3</td>\n",
       "      <td>2</td>\n",
       "      <td>250</td>\n",
       "      <td>0</td>\n",
       "      <td>0</td>\n",
       "      <td>0</td>\n",
       "      <td>0</td>\n",
       "      <td>0</td>\n",
       "      <td>0</td>\n",
       "      <td>NA</td>\n",
       "      <td>NA</td>\n",
       "      <td>0</td>\n",
       "      <td>6</td>\n",
       "      <td>2010</td>\n",
       "      <td>WD</td>\n",
       "      <td>Normal</td>\n",
       "    </tr>\n",
       "    <tr>\n",
       "      <th>1066</th>\n",
       "      <td>60</td>\n",
       "      <td>RL</td>\n",
       "      <td>59.0</td>\n",
       "      <td>7837</td>\n",
       "      <td>Pave</td>\n",
       "      <td>NA</td>\n",
       "      <td>IR1</td>\n",
       "      <td>Lvl</td>\n",
       "      <td>AllPub</td>\n",
       "      <td>Inside</td>\n",
       "      <td>Gtl</td>\n",
       "      <td>Gilbert</td>\n",
       "      <td>Norm</td>\n",
       "      <td>Norm</td>\n",
       "      <td>1Fam</td>\n",
       "      <td>2Story</td>\n",
       "      <td>6</td>\n",
       "      <td>7</td>\n",
       "      <td>1993</td>\n",
       "      <td>1994</td>\n",
       "      <td>Gable</td>\n",
       "      <td>CompShg</td>\n",
       "      <td>VinylSd</td>\n",
       "      <td>VinylSd</td>\n",
       "      <td>None</td>\n",
       "      <td>0.0</td>\n",
       "      <td>3</td>\n",
       "      <td>2</td>\n",
       "      <td>PConc</td>\n",
       "      <td>4</td>\n",
       "      <td>3</td>\n",
       "      <td>1</td>\n",
       "      <td>Unf</td>\n",
       "      <td>0</td>\n",
       "      <td>Unf</td>\n",
       "      <td>0</td>\n",
       "      <td>799</td>\n",
       "      <td>799</td>\n",
       "      <td>GasA</td>\n",
       "      <td>3</td>\n",
       "      <td>1</td>\n",
       "      <td>SBrkr</td>\n",
       "      <td>799</td>\n",
       "      <td>772</td>\n",
       "      <td>0</td>\n",
       "      <td>1571</td>\n",
       "      <td>0</td>\n",
       "      <td>0</td>\n",
       "      <td>2</td>\n",
       "      <td>1</td>\n",
       "      <td>3</td>\n",
       "      <td>1</td>\n",
       "      <td>2</td>\n",
       "      <td>7</td>\n",
       "      <td>Typ</td>\n",
       "      <td>1</td>\n",
       "      <td>3</td>\n",
       "      <td>Attchd</td>\n",
       "      <td>1993.0</td>\n",
       "      <td>RFn</td>\n",
       "      <td>2</td>\n",
       "      <td>380</td>\n",
       "      <td>3</td>\n",
       "      <td>3</td>\n",
       "      <td>2</td>\n",
       "      <td>0</td>\n",
       "      <td>40</td>\n",
       "      <td>0</td>\n",
       "      <td>0</td>\n",
       "      <td>0</td>\n",
       "      <td>0</td>\n",
       "      <td>0</td>\n",
       "      <td>NA</td>\n",
       "      <td>NA</td>\n",
       "      <td>0</td>\n",
       "      <td>5</td>\n",
       "      <td>2009</td>\n",
       "      <td>WD</td>\n",
       "      <td>Normal</td>\n",
       "    </tr>\n",
       "    <tr>\n",
       "      <th>638</th>\n",
       "      <td>30</td>\n",
       "      <td>RL</td>\n",
       "      <td>67.0</td>\n",
       "      <td>8777</td>\n",
       "      <td>Pave</td>\n",
       "      <td>NA</td>\n",
       "      <td>Reg</td>\n",
       "      <td>Lvl</td>\n",
       "      <td>AllPub</td>\n",
       "      <td>Inside</td>\n",
       "      <td>Gtl</td>\n",
       "      <td>Edwards</td>\n",
       "      <td>Feedr</td>\n",
       "      <td>Norm</td>\n",
       "      <td>1Fam</td>\n",
       "      <td>1Story</td>\n",
       "      <td>5</td>\n",
       "      <td>7</td>\n",
       "      <td>1910</td>\n",
       "      <td>1950</td>\n",
       "      <td>Gable</td>\n",
       "      <td>CompShg</td>\n",
       "      <td>MetalSd</td>\n",
       "      <td>Wd Sdng</td>\n",
       "      <td>None</td>\n",
       "      <td>0.0</td>\n",
       "      <td>2</td>\n",
       "      <td>2</td>\n",
       "      <td>CBlock</td>\n",
       "      <td>2</td>\n",
       "      <td>3</td>\n",
       "      <td>1</td>\n",
       "      <td>Unf</td>\n",
       "      <td>0</td>\n",
       "      <td>Unf</td>\n",
       "      <td>0</td>\n",
       "      <td>796</td>\n",
       "      <td>796</td>\n",
       "      <td>GasA</td>\n",
       "      <td>3</td>\n",
       "      <td>1</td>\n",
       "      <td>FuseA</td>\n",
       "      <td>796</td>\n",
       "      <td>0</td>\n",
       "      <td>0</td>\n",
       "      <td>796</td>\n",
       "      <td>0</td>\n",
       "      <td>0</td>\n",
       "      <td>1</td>\n",
       "      <td>0</td>\n",
       "      <td>2</td>\n",
       "      <td>1</td>\n",
       "      <td>2</td>\n",
       "      <td>4</td>\n",
       "      <td>Typ</td>\n",
       "      <td>0</td>\n",
       "      <td>0</td>\n",
       "      <td>NA</td>\n",
       "      <td>1910.0</td>\n",
       "      <td>NA</td>\n",
       "      <td>0</td>\n",
       "      <td>0</td>\n",
       "      <td>0</td>\n",
       "      <td>0</td>\n",
       "      <td>1</td>\n",
       "      <td>328</td>\n",
       "      <td>0</td>\n",
       "      <td>164</td>\n",
       "      <td>0</td>\n",
       "      <td>0</td>\n",
       "      <td>0</td>\n",
       "      <td>0</td>\n",
       "      <td>MnPrv</td>\n",
       "      <td>NA</td>\n",
       "      <td>0</td>\n",
       "      <td>5</td>\n",
       "      <td>2008</td>\n",
       "      <td>WD</td>\n",
       "      <td>Normal</td>\n",
       "    </tr>\n",
       "    <tr>\n",
       "      <th>799</th>\n",
       "      <td>50</td>\n",
       "      <td>RL</td>\n",
       "      <td>60.0</td>\n",
       "      <td>7200</td>\n",
       "      <td>Pave</td>\n",
       "      <td>NA</td>\n",
       "      <td>Reg</td>\n",
       "      <td>Lvl</td>\n",
       "      <td>AllPub</td>\n",
       "      <td>Corner</td>\n",
       "      <td>Gtl</td>\n",
       "      <td>SWISU</td>\n",
       "      <td>Feedr</td>\n",
       "      <td>Norm</td>\n",
       "      <td>1Fam</td>\n",
       "      <td>1.5Fin</td>\n",
       "      <td>5</td>\n",
       "      <td>7</td>\n",
       "      <td>1937</td>\n",
       "      <td>1950</td>\n",
       "      <td>Gable</td>\n",
       "      <td>CompShg</td>\n",
       "      <td>Wd Sdng</td>\n",
       "      <td>Wd Sdng</td>\n",
       "      <td>BrkFace</td>\n",
       "      <td>252.0</td>\n",
       "      <td>2</td>\n",
       "      <td>2</td>\n",
       "      <td>BrkTil</td>\n",
       "      <td>4</td>\n",
       "      <td>3</td>\n",
       "      <td>1</td>\n",
       "      <td>ALQ</td>\n",
       "      <td>569</td>\n",
       "      <td>Unf</td>\n",
       "      <td>0</td>\n",
       "      <td>162</td>\n",
       "      <td>731</td>\n",
       "      <td>GasA</td>\n",
       "      <td>4</td>\n",
       "      <td>1</td>\n",
       "      <td>SBrkr</td>\n",
       "      <td>981</td>\n",
       "      <td>787</td>\n",
       "      <td>0</td>\n",
       "      <td>1768</td>\n",
       "      <td>1</td>\n",
       "      <td>0</td>\n",
       "      <td>1</td>\n",
       "      <td>1</td>\n",
       "      <td>3</td>\n",
       "      <td>1</td>\n",
       "      <td>3</td>\n",
       "      <td>7</td>\n",
       "      <td>Typ</td>\n",
       "      <td>2</td>\n",
       "      <td>3</td>\n",
       "      <td>Detchd</td>\n",
       "      <td>1939.0</td>\n",
       "      <td>Unf</td>\n",
       "      <td>1</td>\n",
       "      <td>240</td>\n",
       "      <td>3</td>\n",
       "      <td>3</td>\n",
       "      <td>2</td>\n",
       "      <td>0</td>\n",
       "      <td>0</td>\n",
       "      <td>264</td>\n",
       "      <td>0</td>\n",
       "      <td>0</td>\n",
       "      <td>0</td>\n",
       "      <td>0</td>\n",
       "      <td>MnPrv</td>\n",
       "      <td>NA</td>\n",
       "      <td>0</td>\n",
       "      <td>6</td>\n",
       "      <td>2007</td>\n",
       "      <td>WD</td>\n",
       "      <td>Normal</td>\n",
       "    </tr>\n",
       "    <tr>\n",
       "      <th>380</th>\n",
       "      <td>50</td>\n",
       "      <td>RL</td>\n",
       "      <td>50.0</td>\n",
       "      <td>5000</td>\n",
       "      <td>Pave</td>\n",
       "      <td>Pave</td>\n",
       "      <td>Reg</td>\n",
       "      <td>Lvl</td>\n",
       "      <td>AllPub</td>\n",
       "      <td>Inside</td>\n",
       "      <td>Gtl</td>\n",
       "      <td>SWISU</td>\n",
       "      <td>Norm</td>\n",
       "      <td>Norm</td>\n",
       "      <td>1Fam</td>\n",
       "      <td>1.5Fin</td>\n",
       "      <td>5</td>\n",
       "      <td>6</td>\n",
       "      <td>1924</td>\n",
       "      <td>1950</td>\n",
       "      <td>Gable</td>\n",
       "      <td>CompShg</td>\n",
       "      <td>BrkFace</td>\n",
       "      <td>Wd Sdng</td>\n",
       "      <td>None</td>\n",
       "      <td>0.0</td>\n",
       "      <td>2</td>\n",
       "      <td>2</td>\n",
       "      <td>BrkTil</td>\n",
       "      <td>3</td>\n",
       "      <td>3</td>\n",
       "      <td>1</td>\n",
       "      <td>LwQ</td>\n",
       "      <td>218</td>\n",
       "      <td>Unf</td>\n",
       "      <td>0</td>\n",
       "      <td>808</td>\n",
       "      <td>1026</td>\n",
       "      <td>GasA</td>\n",
       "      <td>2</td>\n",
       "      <td>1</td>\n",
       "      <td>SBrkr</td>\n",
       "      <td>1026</td>\n",
       "      <td>665</td>\n",
       "      <td>0</td>\n",
       "      <td>1691</td>\n",
       "      <td>0</td>\n",
       "      <td>0</td>\n",
       "      <td>2</td>\n",
       "      <td>0</td>\n",
       "      <td>3</td>\n",
       "      <td>1</td>\n",
       "      <td>3</td>\n",
       "      <td>6</td>\n",
       "      <td>Typ</td>\n",
       "      <td>1</td>\n",
       "      <td>4</td>\n",
       "      <td>Detchd</td>\n",
       "      <td>1924.0</td>\n",
       "      <td>Unf</td>\n",
       "      <td>1</td>\n",
       "      <td>308</td>\n",
       "      <td>3</td>\n",
       "      <td>3</td>\n",
       "      <td>2</td>\n",
       "      <td>0</td>\n",
       "      <td>0</td>\n",
       "      <td>242</td>\n",
       "      <td>0</td>\n",
       "      <td>0</td>\n",
       "      <td>0</td>\n",
       "      <td>0</td>\n",
       "      <td>NA</td>\n",
       "      <td>NA</td>\n",
       "      <td>0</td>\n",
       "      <td>5</td>\n",
       "      <td>2010</td>\n",
       "      <td>WD</td>\n",
       "      <td>Normal</td>\n",
       "    </tr>\n",
       "    <tr>\n",
       "      <th>...</th>\n",
       "      <td>...</td>\n",
       "      <td>...</td>\n",
       "      <td>...</td>\n",
       "      <td>...</td>\n",
       "      <td>...</td>\n",
       "      <td>...</td>\n",
       "      <td>...</td>\n",
       "      <td>...</td>\n",
       "      <td>...</td>\n",
       "      <td>...</td>\n",
       "      <td>...</td>\n",
       "      <td>...</td>\n",
       "      <td>...</td>\n",
       "      <td>...</td>\n",
       "      <td>...</td>\n",
       "      <td>...</td>\n",
       "      <td>...</td>\n",
       "      <td>...</td>\n",
       "      <td>...</td>\n",
       "      <td>...</td>\n",
       "      <td>...</td>\n",
       "      <td>...</td>\n",
       "      <td>...</td>\n",
       "      <td>...</td>\n",
       "      <td>...</td>\n",
       "      <td>...</td>\n",
       "      <td>...</td>\n",
       "      <td>...</td>\n",
       "      <td>...</td>\n",
       "      <td>...</td>\n",
       "      <td>...</td>\n",
       "      <td>...</td>\n",
       "      <td>...</td>\n",
       "      <td>...</td>\n",
       "      <td>...</td>\n",
       "      <td>...</td>\n",
       "      <td>...</td>\n",
       "      <td>...</td>\n",
       "      <td>...</td>\n",
       "      <td>...</td>\n",
       "      <td>...</td>\n",
       "      <td>...</td>\n",
       "      <td>...</td>\n",
       "      <td>...</td>\n",
       "      <td>...</td>\n",
       "      <td>...</td>\n",
       "      <td>...</td>\n",
       "      <td>...</td>\n",
       "      <td>...</td>\n",
       "      <td>...</td>\n",
       "      <td>...</td>\n",
       "      <td>...</td>\n",
       "      <td>...</td>\n",
       "      <td>...</td>\n",
       "      <td>...</td>\n",
       "      <td>...</td>\n",
       "      <td>...</td>\n",
       "      <td>...</td>\n",
       "      <td>...</td>\n",
       "      <td>...</td>\n",
       "      <td>...</td>\n",
       "      <td>...</td>\n",
       "      <td>...</td>\n",
       "      <td>...</td>\n",
       "      <td>...</td>\n",
       "      <td>...</td>\n",
       "      <td>...</td>\n",
       "      <td>...</td>\n",
       "      <td>...</td>\n",
       "      <td>...</td>\n",
       "      <td>...</td>\n",
       "      <td>...</td>\n",
       "      <td>...</td>\n",
       "      <td>...</td>\n",
       "      <td>...</td>\n",
       "      <td>...</td>\n",
       "      <td>...</td>\n",
       "      <td>...</td>\n",
       "      <td>...</td>\n",
       "    </tr>\n",
       "    <tr>\n",
       "      <th>1095</th>\n",
       "      <td>20</td>\n",
       "      <td>RL</td>\n",
       "      <td>78.0</td>\n",
       "      <td>9317</td>\n",
       "      <td>Pave</td>\n",
       "      <td>NA</td>\n",
       "      <td>IR1</td>\n",
       "      <td>Lvl</td>\n",
       "      <td>AllPub</td>\n",
       "      <td>Inside</td>\n",
       "      <td>Gtl</td>\n",
       "      <td>CollgCr</td>\n",
       "      <td>Norm</td>\n",
       "      <td>Norm</td>\n",
       "      <td>1Fam</td>\n",
       "      <td>1Story</td>\n",
       "      <td>6</td>\n",
       "      <td>5</td>\n",
       "      <td>2006</td>\n",
       "      <td>2006</td>\n",
       "      <td>Gable</td>\n",
       "      <td>CompShg</td>\n",
       "      <td>VinylSd</td>\n",
       "      <td>VinylSd</td>\n",
       "      <td>None</td>\n",
       "      <td>0.0</td>\n",
       "      <td>3</td>\n",
       "      <td>2</td>\n",
       "      <td>PConc</td>\n",
       "      <td>4</td>\n",
       "      <td>3</td>\n",
       "      <td>1</td>\n",
       "      <td>GLQ</td>\n",
       "      <td>24</td>\n",
       "      <td>Unf</td>\n",
       "      <td>0</td>\n",
       "      <td>1290</td>\n",
       "      <td>1314</td>\n",
       "      <td>GasA</td>\n",
       "      <td>3</td>\n",
       "      <td>1</td>\n",
       "      <td>SBrkr</td>\n",
       "      <td>1314</td>\n",
       "      <td>0</td>\n",
       "      <td>0</td>\n",
       "      <td>1314</td>\n",
       "      <td>0</td>\n",
       "      <td>0</td>\n",
       "      <td>2</td>\n",
       "      <td>0</td>\n",
       "      <td>3</td>\n",
       "      <td>1</td>\n",
       "      <td>3</td>\n",
       "      <td>6</td>\n",
       "      <td>Typ</td>\n",
       "      <td>1</td>\n",
       "      <td>4</td>\n",
       "      <td>Attchd</td>\n",
       "      <td>2006.0</td>\n",
       "      <td>RFn</td>\n",
       "      <td>2</td>\n",
       "      <td>440</td>\n",
       "      <td>3</td>\n",
       "      <td>3</td>\n",
       "      <td>2</td>\n",
       "      <td>0</td>\n",
       "      <td>22</td>\n",
       "      <td>0</td>\n",
       "      <td>0</td>\n",
       "      <td>0</td>\n",
       "      <td>0</td>\n",
       "      <td>0</td>\n",
       "      <td>NA</td>\n",
       "      <td>NA</td>\n",
       "      <td>0</td>\n",
       "      <td>3</td>\n",
       "      <td>2007</td>\n",
       "      <td>WD</td>\n",
       "      <td>Normal</td>\n",
       "    </tr>\n",
       "    <tr>\n",
       "      <th>1130</th>\n",
       "      <td>50</td>\n",
       "      <td>RL</td>\n",
       "      <td>65.0</td>\n",
       "      <td>7804</td>\n",
       "      <td>Pave</td>\n",
       "      <td>NA</td>\n",
       "      <td>Reg</td>\n",
       "      <td>Lvl</td>\n",
       "      <td>AllPub</td>\n",
       "      <td>Inside</td>\n",
       "      <td>Gtl</td>\n",
       "      <td>SWISU</td>\n",
       "      <td>Norm</td>\n",
       "      <td>Norm</td>\n",
       "      <td>1Fam</td>\n",
       "      <td>1.5Fin</td>\n",
       "      <td>4</td>\n",
       "      <td>3</td>\n",
       "      <td>1928</td>\n",
       "      <td>1950</td>\n",
       "      <td>Gable</td>\n",
       "      <td>CompShg</td>\n",
       "      <td>WdShing</td>\n",
       "      <td>Plywood</td>\n",
       "      <td>None</td>\n",
       "      <td>0.0</td>\n",
       "      <td>2</td>\n",
       "      <td>2</td>\n",
       "      <td>BrkTil</td>\n",
       "      <td>3</td>\n",
       "      <td>3</td>\n",
       "      <td>1</td>\n",
       "      <td>BLQ</td>\n",
       "      <td>622</td>\n",
       "      <td>Unf</td>\n",
       "      <td>0</td>\n",
       "      <td>500</td>\n",
       "      <td>1122</td>\n",
       "      <td>GasA</td>\n",
       "      <td>2</td>\n",
       "      <td>1</td>\n",
       "      <td>SBrkr</td>\n",
       "      <td>1328</td>\n",
       "      <td>653</td>\n",
       "      <td>0</td>\n",
       "      <td>1981</td>\n",
       "      <td>1</td>\n",
       "      <td>0</td>\n",
       "      <td>2</td>\n",
       "      <td>0</td>\n",
       "      <td>4</td>\n",
       "      <td>1</td>\n",
       "      <td>3</td>\n",
       "      <td>7</td>\n",
       "      <td>Min2</td>\n",
       "      <td>2</td>\n",
       "      <td>3</td>\n",
       "      <td>Detchd</td>\n",
       "      <td>1981.0</td>\n",
       "      <td>Unf</td>\n",
       "      <td>2</td>\n",
       "      <td>576</td>\n",
       "      <td>3</td>\n",
       "      <td>3</td>\n",
       "      <td>2</td>\n",
       "      <td>431</td>\n",
       "      <td>44</td>\n",
       "      <td>0</td>\n",
       "      <td>0</td>\n",
       "      <td>0</td>\n",
       "      <td>0</td>\n",
       "      <td>0</td>\n",
       "      <td>MnPrv</td>\n",
       "      <td>NA</td>\n",
       "      <td>0</td>\n",
       "      <td>12</td>\n",
       "      <td>2009</td>\n",
       "      <td>WD</td>\n",
       "      <td>Normal</td>\n",
       "    </tr>\n",
       "    <tr>\n",
       "      <th>1294</th>\n",
       "      <td>20</td>\n",
       "      <td>RL</td>\n",
       "      <td>60.0</td>\n",
       "      <td>8172</td>\n",
       "      <td>Pave</td>\n",
       "      <td>NA</td>\n",
       "      <td>Reg</td>\n",
       "      <td>Lvl</td>\n",
       "      <td>AllPub</td>\n",
       "      <td>Inside</td>\n",
       "      <td>Gtl</td>\n",
       "      <td>Edwards</td>\n",
       "      <td>Norm</td>\n",
       "      <td>Norm</td>\n",
       "      <td>1Fam</td>\n",
       "      <td>1Story</td>\n",
       "      <td>5</td>\n",
       "      <td>7</td>\n",
       "      <td>1955</td>\n",
       "      <td>1990</td>\n",
       "      <td>Hip</td>\n",
       "      <td>CompShg</td>\n",
       "      <td>WdShing</td>\n",
       "      <td>Plywood</td>\n",
       "      <td>None</td>\n",
       "      <td>0.0</td>\n",
       "      <td>2</td>\n",
       "      <td>2</td>\n",
       "      <td>CBlock</td>\n",
       "      <td>3</td>\n",
       "      <td>3</td>\n",
       "      <td>1</td>\n",
       "      <td>Rec</td>\n",
       "      <td>167</td>\n",
       "      <td>Unf</td>\n",
       "      <td>0</td>\n",
       "      <td>697</td>\n",
       "      <td>864</td>\n",
       "      <td>GasA</td>\n",
       "      <td>2</td>\n",
       "      <td>1</td>\n",
       "      <td>SBrkr</td>\n",
       "      <td>864</td>\n",
       "      <td>0</td>\n",
       "      <td>0</td>\n",
       "      <td>864</td>\n",
       "      <td>1</td>\n",
       "      <td>0</td>\n",
       "      <td>1</td>\n",
       "      <td>0</td>\n",
       "      <td>2</td>\n",
       "      <td>1</td>\n",
       "      <td>2</td>\n",
       "      <td>5</td>\n",
       "      <td>Typ</td>\n",
       "      <td>0</td>\n",
       "      <td>0</td>\n",
       "      <td>Detchd</td>\n",
       "      <td>1957.0</td>\n",
       "      <td>Unf</td>\n",
       "      <td>2</td>\n",
       "      <td>572</td>\n",
       "      <td>3</td>\n",
       "      <td>3</td>\n",
       "      <td>0</td>\n",
       "      <td>0</td>\n",
       "      <td>0</td>\n",
       "      <td>0</td>\n",
       "      <td>0</td>\n",
       "      <td>0</td>\n",
       "      <td>0</td>\n",
       "      <td>0</td>\n",
       "      <td>NA</td>\n",
       "      <td>NA</td>\n",
       "      <td>0</td>\n",
       "      <td>4</td>\n",
       "      <td>2006</td>\n",
       "      <td>WD</td>\n",
       "      <td>Normal</td>\n",
       "    </tr>\n",
       "    <tr>\n",
       "      <th>860</th>\n",
       "      <td>50</td>\n",
       "      <td>RL</td>\n",
       "      <td>55.0</td>\n",
       "      <td>7642</td>\n",
       "      <td>Pave</td>\n",
       "      <td>NA</td>\n",
       "      <td>Reg</td>\n",
       "      <td>Lvl</td>\n",
       "      <td>AllPub</td>\n",
       "      <td>Corner</td>\n",
       "      <td>Gtl</td>\n",
       "      <td>Crawfor</td>\n",
       "      <td>Norm</td>\n",
       "      <td>Norm</td>\n",
       "      <td>1Fam</td>\n",
       "      <td>1.5Fin</td>\n",
       "      <td>7</td>\n",
       "      <td>8</td>\n",
       "      <td>1918</td>\n",
       "      <td>1998</td>\n",
       "      <td>Gable</td>\n",
       "      <td>CompShg</td>\n",
       "      <td>Wd Sdng</td>\n",
       "      <td>Wd Sdng</td>\n",
       "      <td>None</td>\n",
       "      <td>0.0</td>\n",
       "      <td>3</td>\n",
       "      <td>2</td>\n",
       "      <td>BrkTil</td>\n",
       "      <td>3</td>\n",
       "      <td>3</td>\n",
       "      <td>1</td>\n",
       "      <td>Unf</td>\n",
       "      <td>0</td>\n",
       "      <td>Unf</td>\n",
       "      <td>0</td>\n",
       "      <td>912</td>\n",
       "      <td>912</td>\n",
       "      <td>GasA</td>\n",
       "      <td>3</td>\n",
       "      <td>1</td>\n",
       "      <td>SBrkr</td>\n",
       "      <td>912</td>\n",
       "      <td>514</td>\n",
       "      <td>0</td>\n",
       "      <td>1426</td>\n",
       "      <td>0</td>\n",
       "      <td>0</td>\n",
       "      <td>1</td>\n",
       "      <td>1</td>\n",
       "      <td>3</td>\n",
       "      <td>1</td>\n",
       "      <td>3</td>\n",
       "      <td>7</td>\n",
       "      <td>Typ</td>\n",
       "      <td>1</td>\n",
       "      <td>4</td>\n",
       "      <td>Detchd</td>\n",
       "      <td>1925.0</td>\n",
       "      <td>Unf</td>\n",
       "      <td>1</td>\n",
       "      <td>216</td>\n",
       "      <td>3</td>\n",
       "      <td>3</td>\n",
       "      <td>2</td>\n",
       "      <td>0</td>\n",
       "      <td>240</td>\n",
       "      <td>0</td>\n",
       "      <td>0</td>\n",
       "      <td>0</td>\n",
       "      <td>0</td>\n",
       "      <td>0</td>\n",
       "      <td>GdPrv</td>\n",
       "      <td>NA</td>\n",
       "      <td>0</td>\n",
       "      <td>6</td>\n",
       "      <td>2007</td>\n",
       "      <td>WD</td>\n",
       "      <td>Normal</td>\n",
       "    </tr>\n",
       "    <tr>\n",
       "      <th>1126</th>\n",
       "      <td>120</td>\n",
       "      <td>RL</td>\n",
       "      <td>53.0</td>\n",
       "      <td>3684</td>\n",
       "      <td>Pave</td>\n",
       "      <td>NA</td>\n",
       "      <td>Reg</td>\n",
       "      <td>Lvl</td>\n",
       "      <td>AllPub</td>\n",
       "      <td>Inside</td>\n",
       "      <td>Gtl</td>\n",
       "      <td>Blmngtn</td>\n",
       "      <td>Norm</td>\n",
       "      <td>Norm</td>\n",
       "      <td>TwnhsE</td>\n",
       "      <td>1Story</td>\n",
       "      <td>7</td>\n",
       "      <td>5</td>\n",
       "      <td>2007</td>\n",
       "      <td>2007</td>\n",
       "      <td>Hip</td>\n",
       "      <td>CompShg</td>\n",
       "      <td>VinylSd</td>\n",
       "      <td>VinylSd</td>\n",
       "      <td>BrkFace</td>\n",
       "      <td>130.0</td>\n",
       "      <td>3</td>\n",
       "      <td>2</td>\n",
       "      <td>PConc</td>\n",
       "      <td>4</td>\n",
       "      <td>3</td>\n",
       "      <td>1</td>\n",
       "      <td>Unf</td>\n",
       "      <td>0</td>\n",
       "      <td>Unf</td>\n",
       "      <td>0</td>\n",
       "      <td>1373</td>\n",
       "      <td>1373</td>\n",
       "      <td>GasA</td>\n",
       "      <td>4</td>\n",
       "      <td>1</td>\n",
       "      <td>SBrkr</td>\n",
       "      <td>1555</td>\n",
       "      <td>0</td>\n",
       "      <td>0</td>\n",
       "      <td>1555</td>\n",
       "      <td>0</td>\n",
       "      <td>0</td>\n",
       "      <td>2</td>\n",
       "      <td>0</td>\n",
       "      <td>2</td>\n",
       "      <td>1</td>\n",
       "      <td>3</td>\n",
       "      <td>7</td>\n",
       "      <td>Typ</td>\n",
       "      <td>1</td>\n",
       "      <td>3</td>\n",
       "      <td>Attchd</td>\n",
       "      <td>2007.0</td>\n",
       "      <td>Fin</td>\n",
       "      <td>3</td>\n",
       "      <td>660</td>\n",
       "      <td>3</td>\n",
       "      <td>3</td>\n",
       "      <td>2</td>\n",
       "      <td>143</td>\n",
       "      <td>20</td>\n",
       "      <td>0</td>\n",
       "      <td>0</td>\n",
       "      <td>0</td>\n",
       "      <td>0</td>\n",
       "      <td>0</td>\n",
       "      <td>NA</td>\n",
       "      <td>NA</td>\n",
       "      <td>0</td>\n",
       "      <td>6</td>\n",
       "      <td>2009</td>\n",
       "      <td>WD</td>\n",
       "      <td>Normal</td>\n",
       "    </tr>\n",
       "  </tbody>\n",
       "</table>\n",
       "<p>1168 rows × 79 columns</p>\n",
       "</div>"
      ],
      "text/plain": [
       "      MSSubClass MSZoning  LotFrontage  LotArea Street Alley LotShape  \\\n",
       "254           20       RL         70.0     8400   Pave    NA      Reg   \n",
       "1066          60       RL         59.0     7837   Pave    NA      IR1   \n",
       "638           30       RL         67.0     8777   Pave    NA      Reg   \n",
       "799           50       RL         60.0     7200   Pave    NA      Reg   \n",
       "380           50       RL         50.0     5000   Pave  Pave      Reg   \n",
       "...          ...      ...          ...      ...    ...   ...      ...   \n",
       "1095          20       RL         78.0     9317   Pave    NA      IR1   \n",
       "1130          50       RL         65.0     7804   Pave    NA      Reg   \n",
       "1294          20       RL         60.0     8172   Pave    NA      Reg   \n",
       "860           50       RL         55.0     7642   Pave    NA      Reg   \n",
       "1126         120       RL         53.0     3684   Pave    NA      Reg   \n",
       "\n",
       "     LandContour Utilities LotConfig LandSlope Neighborhood Condition1  \\\n",
       "254          Lvl    AllPub    Inside       Gtl        NAmes       Norm   \n",
       "1066         Lvl    AllPub    Inside       Gtl      Gilbert       Norm   \n",
       "638          Lvl    AllPub    Inside       Gtl      Edwards      Feedr   \n",
       "799          Lvl    AllPub    Corner       Gtl        SWISU      Feedr   \n",
       "380          Lvl    AllPub    Inside       Gtl        SWISU       Norm   \n",
       "...          ...       ...       ...       ...          ...        ...   \n",
       "1095         Lvl    AllPub    Inside       Gtl      CollgCr       Norm   \n",
       "1130         Lvl    AllPub    Inside       Gtl        SWISU       Norm   \n",
       "1294         Lvl    AllPub    Inside       Gtl      Edwards       Norm   \n",
       "860          Lvl    AllPub    Corner       Gtl      Crawfor       Norm   \n",
       "1126         Lvl    AllPub    Inside       Gtl      Blmngtn       Norm   \n",
       "\n",
       "     Condition2 BldgType HouseStyle  OverallQual  OverallCond  YearBuilt  \\\n",
       "254        Norm     1Fam     1Story            5            6       1957   \n",
       "1066       Norm     1Fam     2Story            6            7       1993   \n",
       "638        Norm     1Fam     1Story            5            7       1910   \n",
       "799        Norm     1Fam     1.5Fin            5            7       1937   \n",
       "380        Norm     1Fam     1.5Fin            5            6       1924   \n",
       "...         ...      ...        ...          ...          ...        ...   \n",
       "1095       Norm     1Fam     1Story            6            5       2006   \n",
       "1130       Norm     1Fam     1.5Fin            4            3       1928   \n",
       "1294       Norm     1Fam     1Story            5            7       1955   \n",
       "860        Norm     1Fam     1.5Fin            7            8       1918   \n",
       "1126       Norm   TwnhsE     1Story            7            5       2007   \n",
       "\n",
       "      YearRemodAdd RoofStyle RoofMatl Exterior1st Exterior2nd MasVnrType  \\\n",
       "254           1957     Gable  CompShg     MetalSd     MetalSd       None   \n",
       "1066          1994     Gable  CompShg     VinylSd     VinylSd       None   \n",
       "638           1950     Gable  CompShg     MetalSd     Wd Sdng       None   \n",
       "799           1950     Gable  CompShg     Wd Sdng     Wd Sdng    BrkFace   \n",
       "380           1950     Gable  CompShg     BrkFace     Wd Sdng       None   \n",
       "...            ...       ...      ...         ...         ...        ...   \n",
       "1095          2006     Gable  CompShg     VinylSd     VinylSd       None   \n",
       "1130          1950     Gable  CompShg     WdShing     Plywood       None   \n",
       "1294          1990       Hip  CompShg     WdShing     Plywood       None   \n",
       "860           1998     Gable  CompShg     Wd Sdng     Wd Sdng       None   \n",
       "1126          2007       Hip  CompShg     VinylSd     VinylSd    BrkFace   \n",
       "\n",
       "      MasVnrArea  ExterQual  ExterCond Foundation  BsmtQual  BsmtCond  \\\n",
       "254          0.0          2          3     CBlock         3         3   \n",
       "1066         0.0          3          2      PConc         4         3   \n",
       "638          0.0          2          2     CBlock         2         3   \n",
       "799        252.0          2          2     BrkTil         4         3   \n",
       "380          0.0          2          2     BrkTil         3         3   \n",
       "...          ...        ...        ...        ...       ...       ...   \n",
       "1095         0.0          3          2      PConc         4         3   \n",
       "1130         0.0          2          2     BrkTil         3         3   \n",
       "1294         0.0          2          2     CBlock         3         3   \n",
       "860          0.0          3          2     BrkTil         3         3   \n",
       "1126       130.0          3          2      PConc         4         3   \n",
       "\n",
       "      BsmtExposure BsmtFinType1  BsmtFinSF1 BsmtFinType2  BsmtFinSF2  \\\n",
       "254              1          Rec         922          Unf           0   \n",
       "1066             1          Unf           0          Unf           0   \n",
       "638              1          Unf           0          Unf           0   \n",
       "799              1          ALQ         569          Unf           0   \n",
       "380              1          LwQ         218          Unf           0   \n",
       "...            ...          ...         ...          ...         ...   \n",
       "1095             1          GLQ          24          Unf           0   \n",
       "1130             1          BLQ         622          Unf           0   \n",
       "1294             1          Rec         167          Unf           0   \n",
       "860              1          Unf           0          Unf           0   \n",
       "1126             1          Unf           0          Unf           0   \n",
       "\n",
       "      BsmtUnfSF  TotalBsmtSF Heating  HeatingQC  CentralAir Electrical  \\\n",
       "254         392         1314    GasA          2           1      SBrkr   \n",
       "1066        799          799    GasA          3           1      SBrkr   \n",
       "638         796          796    GasA          3           1      FuseA   \n",
       "799         162          731    GasA          4           1      SBrkr   \n",
       "380         808         1026    GasA          2           1      SBrkr   \n",
       "...         ...          ...     ...        ...         ...        ...   \n",
       "1095       1290         1314    GasA          3           1      SBrkr   \n",
       "1130        500         1122    GasA          2           1      SBrkr   \n",
       "1294        697          864    GasA          2           1      SBrkr   \n",
       "860         912          912    GasA          3           1      SBrkr   \n",
       "1126       1373         1373    GasA          4           1      SBrkr   \n",
       "\n",
       "      1stFlrSF  2ndFlrSF  LowQualFinSF  GrLivArea  BsmtFullBath  BsmtHalfBath  \\\n",
       "254       1314         0             0       1314             1             0   \n",
       "1066       799       772             0       1571             0             0   \n",
       "638        796         0             0        796             0             0   \n",
       "799        981       787             0       1768             1             0   \n",
       "380       1026       665             0       1691             0             0   \n",
       "...        ...       ...           ...        ...           ...           ...   \n",
       "1095      1314         0             0       1314             0             0   \n",
       "1130      1328       653             0       1981             1             0   \n",
       "1294       864         0             0        864             1             0   \n",
       "860        912       514             0       1426             0             0   \n",
       "1126      1555         0             0       1555             0             0   \n",
       "\n",
       "      FullBath  HalfBath  BedroomAbvGr  KitchenAbvGr  KitchenQual  \\\n",
       "254          1         0             3             1            2   \n",
       "1066         2         1             3             1            2   \n",
       "638          1         0             2             1            2   \n",
       "799          1         1             3             1            3   \n",
       "380          2         0             3             1            3   \n",
       "...        ...       ...           ...           ...          ...   \n",
       "1095         2         0             3             1            3   \n",
       "1130         2         0             4             1            3   \n",
       "1294         1         0             2             1            2   \n",
       "860          1         1             3             1            3   \n",
       "1126         2         0             2             1            3   \n",
       "\n",
       "      TotRmsAbvGrd Functional  Fireplaces  FireplaceQu GarageType  \\\n",
       "254              5        Typ           0            0     Attchd   \n",
       "1066             7        Typ           1            3     Attchd   \n",
       "638              4        Typ           0            0         NA   \n",
       "799              7        Typ           2            3     Detchd   \n",
       "380              6        Typ           1            4     Detchd   \n",
       "...            ...        ...         ...          ...        ...   \n",
       "1095             6        Typ           1            4     Attchd   \n",
       "1130             7       Min2           2            3     Detchd   \n",
       "1294             5        Typ           0            0     Detchd   \n",
       "860              7        Typ           1            4     Detchd   \n",
       "1126             7        Typ           1            3     Attchd   \n",
       "\n",
       "      GarageYrBlt GarageFinish  GarageCars  GarageArea  GarageQual  \\\n",
       "254        1957.0          RFn           1         294           3   \n",
       "1066       1993.0          RFn           2         380           3   \n",
       "638        1910.0           NA           0           0           0   \n",
       "799        1939.0          Unf           1         240           3   \n",
       "380        1924.0          Unf           1         308           3   \n",
       "...           ...          ...         ...         ...         ...   \n",
       "1095       2006.0          RFn           2         440           3   \n",
       "1130       1981.0          Unf           2         576           3   \n",
       "1294       1957.0          Unf           2         572           3   \n",
       "860        1925.0          Unf           1         216           3   \n",
       "1126       2007.0          Fin           3         660           3   \n",
       "\n",
       "      GarageCond  PavedDrive  WoodDeckSF  OpenPorchSF  EnclosedPorch  \\\n",
       "254            3           2         250            0              0   \n",
       "1066           3           2           0           40              0   \n",
       "638            0           1         328            0            164   \n",
       "799            3           2           0            0            264   \n",
       "380            3           2           0            0            242   \n",
       "...          ...         ...         ...          ...            ...   \n",
       "1095           3           2           0           22              0   \n",
       "1130           3           2         431           44              0   \n",
       "1294           3           0           0            0              0   \n",
       "860            3           2           0          240              0   \n",
       "1126           3           2         143           20              0   \n",
       "\n",
       "      3SsnPorch  ScreenPorch  PoolArea  PoolQC  Fence MiscFeature  MiscVal  \\\n",
       "254           0            0         0       0     NA          NA        0   \n",
       "1066          0            0         0       0     NA          NA        0   \n",
       "638           0            0         0       0  MnPrv          NA        0   \n",
       "799           0            0         0       0  MnPrv          NA        0   \n",
       "380           0            0         0       0     NA          NA        0   \n",
       "...         ...          ...       ...     ...    ...         ...      ...   \n",
       "1095          0            0         0       0     NA          NA        0   \n",
       "1130          0            0         0       0  MnPrv          NA        0   \n",
       "1294          0            0         0       0     NA          NA        0   \n",
       "860           0            0         0       0  GdPrv          NA        0   \n",
       "1126          0            0         0       0     NA          NA        0   \n",
       "\n",
       "      MoSold  YrSold SaleType SaleCondition  \n",
       "254        6    2010       WD        Normal  \n",
       "1066       5    2009       WD        Normal  \n",
       "638        5    2008       WD        Normal  \n",
       "799        6    2007       WD        Normal  \n",
       "380        5    2010       WD        Normal  \n",
       "...      ...     ...      ...           ...  \n",
       "1095       3    2007       WD        Normal  \n",
       "1130      12    2009       WD        Normal  \n",
       "1294       4    2006       WD        Normal  \n",
       "860        6    2007       WD        Normal  \n",
       "1126       6    2009       WD        Normal  \n",
       "\n",
       "[1168 rows x 79 columns]"
      ]
     },
     "execution_count": 40,
     "metadata": {},
     "output_type": "execute_result"
    }
   ],
   "source": [
    "X_train"
   ]
  },
  {
   "cell_type": "code",
   "execution_count": 41,
   "id": "c9ed04a4-05b7-41d1-8180-dc91b7f04540",
   "metadata": {},
   "outputs": [],
   "source": [
    "X_train_ = pd.concat([X_train.drop(categorical_data_train.columns, axis=1), one_hot_train], axis=1)\n",
    "X_test_ = pd.concat([X_test.drop(categorical_data_test.columns, axis=1), one_hot_test], axis=1)"
   ]
  },
  {
   "cell_type": "markdown",
   "id": "209d4ab8",
   "metadata": {},
   "source": [
    "Let's align the columns to ensure consistency:"
   ]
  },
  {
   "cell_type": "code",
   "execution_count": 42,
   "id": "44c3fc87",
   "metadata": {},
   "outputs": [],
   "source": [
    "X_train, X_test = X_train_.align(X_test_, join='left', axis=1, fill_value=0)"
   ]
  },
  {
   "cell_type": "markdown",
   "id": "8d61cb90",
   "metadata": {},
   "source": [
    "Checking the shapes and NaNs again to ensure that the datasets are clean :"
   ]
  },
  {
   "cell_type": "code",
   "execution_count": 43,
   "id": "ac4afb40",
   "metadata": {},
   "outputs": [
    {
     "data": {
      "text/plain": [
       "((1168, 225), (292, 225))"
      ]
     },
     "execution_count": 43,
     "metadata": {},
     "output_type": "execute_result"
    }
   ],
   "source": [
    "X_train.shape, X_test.shape"
   ]
  },
  {
   "cell_type": "code",
   "execution_count": 44,
   "id": "f1b21059",
   "metadata": {},
   "outputs": [
    {
     "data": {
      "text/plain": [
       "MSSubClass               0\n",
       "Exterior1st_VinylSd      0\n",
       "Exterior1st_Wd Sdng      0\n",
       "Exterior1st_WdShing      0\n",
       "Exterior2nd_AsphShn      0\n",
       "                        ..\n",
       "Neighborhood_Mitchel     0\n",
       "Neighborhood_NAmes       0\n",
       "Neighborhood_NPkVill     0\n",
       "BldgType_TwnhsI          0\n",
       "SaleCondition_Partial    0\n",
       "Length: 225, dtype: int64"
      ]
     },
     "execution_count": 44,
     "metadata": {},
     "output_type": "execute_result"
    }
   ],
   "source": [
    "X_train.isnull().sum().sort_values()"
   ]
  },
  {
   "cell_type": "code",
   "execution_count": 45,
   "id": "84d291ea",
   "metadata": {},
   "outputs": [
    {
     "data": {
      "text/plain": [
       "MSSubClass               0\n",
       "Exterior1st_VinylSd      0\n",
       "Exterior1st_Wd Sdng      0\n",
       "Exterior1st_WdShing      0\n",
       "Exterior2nd_AsphShn      0\n",
       "                        ..\n",
       "Neighborhood_Mitchel     0\n",
       "Neighborhood_NAmes       0\n",
       "Neighborhood_NPkVill     0\n",
       "BldgType_TwnhsI          0\n",
       "SaleCondition_Partial    0\n",
       "Length: 225, dtype: int64"
      ]
     },
     "execution_count": 45,
     "metadata": {},
     "output_type": "execute_result"
    }
   ],
   "source": [
    "X_test.isnull().sum().sort_values()"
   ]
  },
  {
   "cell_type": "markdown",
   "id": "7af87b4e",
   "metadata": {},
   "source": [
    "**Feature Selection**"
   ]
  },
  {
   "cell_type": "markdown",
   "id": "55c3f207",
   "metadata": {},
   "source": [
    "Let's discover the reationships between numerical features using an interactive heatmap:"
   ]
  },
  {
   "cell_type": "code",
   "execution_count": 46,
   "id": "f8e8155b",
   "metadata": {},
   "outputs": [
    {
     "data": {
      "application/vnd.plotly.v1+json": {
       "config": {
        "plotlyServerURL": "https://plot.ly"
       },
       "data": [
        {
         "coloraxis": "coloraxis",
         "hovertemplate": "Features: %{x}<br>Features: %{y}<br>Correlation: %{z}<extra></extra>",
         "name": "0",
         "type": "heatmap",
         "x": [
          "MSSubClass",
          "LotFrontage",
          "LotArea",
          "OverallQual",
          "OverallCond",
          "YearBuilt",
          "YearRemodAdd",
          "MasVnrArea",
          "BsmtFinSF1",
          "BsmtFinSF2",
          "BsmtUnfSF",
          "TotalBsmtSF",
          "1stFlrSF",
          "2ndFlrSF",
          "LowQualFinSF",
          "GrLivArea",
          "BsmtFullBath",
          "BsmtHalfBath",
          "FullBath",
          "HalfBath",
          "BedroomAbvGr",
          "KitchenAbvGr",
          "TotRmsAbvGrd",
          "Fireplaces",
          "GarageYrBlt",
          "GarageCars",
          "GarageArea",
          "WoodDeckSF",
          "OpenPorchSF",
          "EnclosedPorch",
          "3SsnPorch",
          "ScreenPorch",
          "PoolArea",
          "MiscVal",
          "MoSold",
          "YrSold"
         ],
         "xaxis": "x",
         "y": [
          "MSSubClass",
          "LotFrontage",
          "LotArea",
          "OverallQual",
          "OverallCond",
          "YearBuilt",
          "YearRemodAdd",
          "MasVnrArea",
          "BsmtFinSF1",
          "BsmtFinSF2",
          "BsmtUnfSF",
          "TotalBsmtSF",
          "1stFlrSF",
          "2ndFlrSF",
          "LowQualFinSF",
          "GrLivArea",
          "BsmtFullBath",
          "BsmtHalfBath",
          "FullBath",
          "HalfBath",
          "BedroomAbvGr",
          "KitchenAbvGr",
          "TotRmsAbvGrd",
          "Fireplaces",
          "GarageYrBlt",
          "GarageCars",
          "GarageArea",
          "WoodDeckSF",
          "OpenPorchSF",
          "EnclosedPorch",
          "3SsnPorch",
          "ScreenPorch",
          "PoolArea",
          "MiscVal",
          "MoSold",
          "YrSold"
         ],
         "yaxis": "y",
         "z": {
          "bdata": "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",
          "dtype": "f8",
          "shape": "36, 36"
         }
        }
       ],
       "layout": {
        "coloraxis": {
         "colorbar": {
          "title": {
           "text": "Correlation"
          }
         },
         "colorscale": [
          [
           0,
           "rgb(103,0,31)"
          ],
          [
           0.1,
           "rgb(178,24,43)"
          ],
          [
           0.2,
           "rgb(214,96,77)"
          ],
          [
           0.3,
           "rgb(244,165,130)"
          ],
          [
           0.4,
           "rgb(253,219,199)"
          ],
          [
           0.5,
           "rgb(247,247,247)"
          ],
          [
           0.6,
           "rgb(209,229,240)"
          ],
          [
           0.7,
           "rgb(146,197,222)"
          ],
          [
           0.8,
           "rgb(67,147,195)"
          ],
          [
           0.9,
           "rgb(33,102,172)"
          ],
          [
           1,
           "rgb(5,48,97)"
          ]
         ]
        },
        "height": 900,
        "template": {
         "data": {
          "bar": [
           {
            "error_x": {
             "color": "#2a3f5f"
            },
            "error_y": {
             "color": "#2a3f5f"
            },
            "marker": {
             "line": {
              "color": "#E5ECF6",
              "width": 0.5
             },
             "pattern": {
              "fillmode": "overlay",
              "size": 10,
              "solidity": 0.2
             }
            },
            "type": "bar"
           }
          ],
          "barpolar": [
           {
            "marker": {
             "line": {
              "color": "#E5ECF6",
              "width": 0.5
             },
             "pattern": {
              "fillmode": "overlay",
              "size": 10,
              "solidity": 0.2
             }
            },
            "type": "barpolar"
           }
          ],
          "carpet": [
           {
            "aaxis": {
             "endlinecolor": "#2a3f5f",
             "gridcolor": "white",
             "linecolor": "white",
             "minorgridcolor": "white",
             "startlinecolor": "#2a3f5f"
            },
            "baxis": {
             "endlinecolor": "#2a3f5f",
             "gridcolor": "white",
             "linecolor": "white",
             "minorgridcolor": "white",
             "startlinecolor": "#2a3f5f"
            },
            "type": "carpet"
           }
          ],
          "choropleth": [
           {
            "colorbar": {
             "outlinewidth": 0,
             "ticks": ""
            },
            "type": "choropleth"
           }
          ],
          "contour": [
           {
            "colorbar": {
             "outlinewidth": 0,
             "ticks": ""
            },
            "colorscale": [
             [
              0,
              "#0d0887"
             ],
             [
              0.1111111111111111,
              "#46039f"
             ],
             [
              0.2222222222222222,
              "#7201a8"
             ],
             [
              0.3333333333333333,
              "#9c179e"
             ],
             [
              0.4444444444444444,
              "#bd3786"
             ],
             [
              0.5555555555555556,
              "#d8576b"
             ],
             [
              0.6666666666666666,
              "#ed7953"
             ],
             [
              0.7777777777777778,
              "#fb9f3a"
             ],
             [
              0.8888888888888888,
              "#fdca26"
             ],
             [
              1,
              "#f0f921"
             ]
            ],
            "type": "contour"
           }
          ],
          "contourcarpet": [
           {
            "colorbar": {
             "outlinewidth": 0,
             "ticks": ""
            },
            "type": "contourcarpet"
           }
          ],
          "heatmap": [
           {
            "colorbar": {
             "outlinewidth": 0,
             "ticks": ""
            },
            "colorscale": [
             [
              0,
              "#0d0887"
             ],
             [
              0.1111111111111111,
              "#46039f"
             ],
             [
              0.2222222222222222,
              "#7201a8"
             ],
             [
              0.3333333333333333,
              "#9c179e"
             ],
             [
              0.4444444444444444,
              "#bd3786"
             ],
             [
              0.5555555555555556,
              "#d8576b"
             ],
             [
              0.6666666666666666,
              "#ed7953"
             ],
             [
              0.7777777777777778,
              "#fb9f3a"
             ],
             [
              0.8888888888888888,
              "#fdca26"
             ],
             [
              1,
              "#f0f921"
             ]
            ],
            "type": "heatmap"
           }
          ],
          "histogram": [
           {
            "marker": {
             "pattern": {
              "fillmode": "overlay",
              "size": 10,
              "solidity": 0.2
             }
            },
            "type": "histogram"
           }
          ],
          "histogram2d": [
           {
            "colorbar": {
             "outlinewidth": 0,
             "ticks": ""
            },
            "colorscale": [
             [
              0,
              "#0d0887"
             ],
             [
              0.1111111111111111,
              "#46039f"
             ],
             [
              0.2222222222222222,
              "#7201a8"
             ],
             [
              0.3333333333333333,
              "#9c179e"
             ],
             [
              0.4444444444444444,
              "#bd3786"
             ],
             [
              0.5555555555555556,
              "#d8576b"
             ],
             [
              0.6666666666666666,
              "#ed7953"
             ],
             [
              0.7777777777777778,
              "#fb9f3a"
             ],
             [
              0.8888888888888888,
              "#fdca26"
             ],
             [
              1,
              "#f0f921"
             ]
            ],
            "type": "histogram2d"
           }
          ],
          "histogram2dcontour": [
           {
            "colorbar": {
             "outlinewidth": 0,
             "ticks": ""
            },
            "colorscale": [
             [
              0,
              "#0d0887"
             ],
             [
              0.1111111111111111,
              "#46039f"
             ],
             [
              0.2222222222222222,
              "#7201a8"
             ],
             [
              0.3333333333333333,
              "#9c179e"
             ],
             [
              0.4444444444444444,
              "#bd3786"
             ],
             [
              0.5555555555555556,
              "#d8576b"
             ],
             [
              0.6666666666666666,
              "#ed7953"
             ],
             [
              0.7777777777777778,
              "#fb9f3a"
             ],
             [
              0.8888888888888888,
              "#fdca26"
             ],
             [
              1,
              "#f0f921"
             ]
            ],
            "type": "histogram2dcontour"
           }
          ],
          "mesh3d": [
           {
            "colorbar": {
             "outlinewidth": 0,
             "ticks": ""
            },
            "type": "mesh3d"
           }
          ],
          "parcoords": [
           {
            "line": {
             "colorbar": {
              "outlinewidth": 0,
              "ticks": ""
             }
            },
            "type": "parcoords"
           }
          ],
          "pie": [
           {
            "automargin": true,
            "type": "pie"
           }
          ],
          "scatter": [
           {
            "fillpattern": {
             "fillmode": "overlay",
             "size": 10,
             "solidity": 0.2
            },
            "type": "scatter"
           }
          ],
          "scatter3d": [
           {
            "line": {
             "colorbar": {
              "outlinewidth": 0,
              "ticks": ""
             }
            },
            "marker": {
             "colorbar": {
              "outlinewidth": 0,
              "ticks": ""
             }
            },
            "type": "scatter3d"
           }
          ],
          "scattercarpet": [
           {
            "marker": {
             "colorbar": {
              "outlinewidth": 0,
              "ticks": ""
             }
            },
            "type": "scattercarpet"
           }
          ],
          "scattergeo": [
           {
            "marker": {
             "colorbar": {
              "outlinewidth": 0,
              "ticks": ""
             }
            },
            "type": "scattergeo"
           }
          ],
          "scattergl": [
           {
            "marker": {
             "colorbar": {
              "outlinewidth": 0,
              "ticks": ""
             }
            },
            "type": "scattergl"
           }
          ],
          "scattermap": [
           {
            "marker": {
             "colorbar": {
              "outlinewidth": 0,
              "ticks": ""
             }
            },
            "type": "scattermap"
           }
          ],
          "scattermapbox": [
           {
            "marker": {
             "colorbar": {
              "outlinewidth": 0,
              "ticks": ""
             }
            },
            "type": "scattermapbox"
           }
          ],
          "scatterpolar": [
           {
            "marker": {
             "colorbar": {
              "outlinewidth": 0,
              "ticks": ""
             }
            },
            "type": "scatterpolar"
           }
          ],
          "scatterpolargl": [
           {
            "marker": {
             "colorbar": {
              "outlinewidth": 0,
              "ticks": ""
             }
            },
            "type": "scatterpolargl"
           }
          ],
          "scatterternary": [
           {
            "marker": {
             "colorbar": {
              "outlinewidth": 0,
              "ticks": ""
             }
            },
            "type": "scatterternary"
           }
          ],
          "surface": [
           {
            "colorbar": {
             "outlinewidth": 0,
             "ticks": ""
            },
            "colorscale": [
             [
              0,
              "#0d0887"
             ],
             [
              0.1111111111111111,
              "#46039f"
             ],
             [
              0.2222222222222222,
              "#7201a8"
             ],
             [
              0.3333333333333333,
              "#9c179e"
             ],
             [
              0.4444444444444444,
              "#bd3786"
             ],
             [
              0.5555555555555556,
              "#d8576b"
             ],
             [
              0.6666666666666666,
              "#ed7953"
             ],
             [
              0.7777777777777778,
              "#fb9f3a"
             ],
             [
              0.8888888888888888,
              "#fdca26"
             ],
             [
              1,
              "#f0f921"
             ]
            ],
            "type": "surface"
           }
          ],
          "table": [
           {
            "cells": {
             "fill": {
              "color": "#EBF0F8"
             },
             "line": {
              "color": "white"
             }
            },
            "header": {
             "fill": {
              "color": "#C8D4E3"
             },
             "line": {
              "color": "white"
             }
            },
            "type": "table"
           }
          ]
         },
         "layout": {
          "annotationdefaults": {
           "arrowcolor": "#2a3f5f",
           "arrowhead": 0,
           "arrowwidth": 1
          },
          "autotypenumbers": "strict",
          "coloraxis": {
           "colorbar": {
            "outlinewidth": 0,
            "ticks": ""
           }
          },
          "colorscale": {
           "diverging": [
            [
             0,
             "#8e0152"
            ],
            [
             0.1,
             "#c51b7d"
            ],
            [
             0.2,
             "#de77ae"
            ],
            [
             0.3,
             "#f1b6da"
            ],
            [
             0.4,
             "#fde0ef"
            ],
            [
             0.5,
             "#f7f7f7"
            ],
            [
             0.6,
             "#e6f5d0"
            ],
            [
             0.7,
             "#b8e186"
            ],
            [
             0.8,
             "#7fbc41"
            ],
            [
             0.9,
             "#4d9221"
            ],
            [
             1,
             "#276419"
            ]
           ],
           "sequential": [
            [
             0,
             "#0d0887"
            ],
            [
             0.1111111111111111,
             "#46039f"
            ],
            [
             0.2222222222222222,
             "#7201a8"
            ],
            [
             0.3333333333333333,
             "#9c179e"
            ],
            [
             0.4444444444444444,
             "#bd3786"
            ],
            [
             0.5555555555555556,
             "#d8576b"
            ],
            [
             0.6666666666666666,
             "#ed7953"
            ],
            [
             0.7777777777777778,
             "#fb9f3a"
            ],
            [
             0.8888888888888888,
             "#fdca26"
            ],
            [
             1,
             "#f0f921"
            ]
           ],
           "sequentialminus": [
            [
             0,
             "#0d0887"
            ],
            [
             0.1111111111111111,
             "#46039f"
            ],
            [
             0.2222222222222222,
             "#7201a8"
            ],
            [
             0.3333333333333333,
             "#9c179e"
            ],
            [
             0.4444444444444444,
             "#bd3786"
            ],
            [
             0.5555555555555556,
             "#d8576b"
            ],
            [
             0.6666666666666666,
             "#ed7953"
            ],
            [
             0.7777777777777778,
             "#fb9f3a"
            ],
            [
             0.8888888888888888,
             "#fdca26"
            ],
            [
             1,
             "#f0f921"
            ]
           ]
          },
          "colorway": [
           "#636efa",
           "#EF553B",
           "#00cc96",
           "#ab63fa",
           "#FFA15A",
           "#19d3f3",
           "#FF6692",
           "#B6E880",
           "#FF97FF",
           "#FECB52"
          ],
          "font": {
           "color": "#2a3f5f"
          },
          "geo": {
           "bgcolor": "white",
           "lakecolor": "white",
           "landcolor": "#E5ECF6",
           "showlakes": true,
           "showland": true,
           "subunitcolor": "white"
          },
          "hoverlabel": {
           "align": "left"
          },
          "hovermode": "closest",
          "mapbox": {
           "style": "light"
          },
          "paper_bgcolor": "white",
          "plot_bgcolor": "#E5ECF6",
          "polar": {
           "angularaxis": {
            "gridcolor": "white",
            "linecolor": "white",
            "ticks": ""
           },
           "bgcolor": "#E5ECF6",
           "radialaxis": {
            "gridcolor": "white",
            "linecolor": "white",
            "ticks": ""
           }
          },
          "scene": {
           "xaxis": {
            "backgroundcolor": "#E5ECF6",
            "gridcolor": "white",
            "gridwidth": 2,
            "linecolor": "white",
            "showbackground": true,
            "ticks": "",
            "zerolinecolor": "white"
           },
           "yaxis": {
            "backgroundcolor": "#E5ECF6",
            "gridcolor": "white",
            "gridwidth": 2,
            "linecolor": "white",
            "showbackground": true,
            "ticks": "",
            "zerolinecolor": "white"
           },
           "zaxis": {
            "backgroundcolor": "#E5ECF6",
            "gridcolor": "white",
            "gridwidth": 2,
            "linecolor": "white",
            "showbackground": true,
            "ticks": "",
            "zerolinecolor": "white"
           }
          },
          "shapedefaults": {
           "line": {
            "color": "#2a3f5f"
           }
          },
          "ternary": {
           "aaxis": {
            "gridcolor": "white",
            "linecolor": "white",
            "ticks": ""
           },
           "baxis": {
            "gridcolor": "white",
            "linecolor": "white",
            "ticks": ""
           },
           "bgcolor": "#E5ECF6",
           "caxis": {
            "gridcolor": "white",
            "linecolor": "white",
            "ticks": ""
           }
          },
          "title": {
           "x": 0.05
          },
          "xaxis": {
           "automargin": true,
           "gridcolor": "white",
           "linecolor": "white",
           "ticks": "",
           "title": {
            "standoff": 15
           },
           "zerolinecolor": "white",
           "zerolinewidth": 2
          },
          "yaxis": {
           "automargin": true,
           "gridcolor": "white",
           "linecolor": "white",
           "ticks": "",
           "title": {
            "standoff": 15
           },
           "zerolinecolor": "white",
           "zerolinewidth": 2
          }
         }
        },
        "title": {
         "text": "Correlation Heatmap"
        },
        "width": 900,
        "xaxis": {
         "anchor": "y",
         "domain": [
          0,
          1
         ],
         "title": {
          "text": "Features"
         }
        },
        "yaxis": {
         "anchor": "x",
         "autorange": "reversed",
         "domain": [
          0,
          1
         ],
         "title": {
          "text": "Features"
         }
        }
       }
      }
     },
     "metadata": {},
     "output_type": "display_data"
    }
   ],
   "source": [
    "from functions import heat_map\n",
    "\n",
    "heat_map(X_train, numerical_features)"
   ]
  },
  {
   "cell_type": "markdown",
   "id": "79925f8a",
   "metadata": {},
   "source": [
    "As we can see, there are strong correlations between some features, such as:\\\n",
    "-'GarageYrBlt' and 'YearBuilt': 0.840\\\n",
    "-'GrLivArea' and 'TotRmAbvGrd': 0.820\\\n",
    "-'GarageCars' and 'GarageArea': 0.882\\\n",
    "One of each pair should be removed."
   ]
  },
  {
   "cell_type": "code",
   "execution_count": 47,
   "metadata": {},
   "outputs": [],
   "source": [
    "X_train = X_train.drop(['GarageYrBlt', 'TotRmsAbvGrd', 'GarageCars'], axis=1)\n",
    "X_test = X_test.drop(['GarageYrBlt', 'TotRmsAbvGrd', 'GarageCars'], axis=1)"
   ]
  },
  {
   "cell_type": "markdown",
   "id": "b63ca422",
   "metadata": {},
   "source": [
    "Let's now inspect the variances of the features and remove those with the lowest variance:"
   ]
  },
  {
   "cell_type": "code",
   "execution_count": 48,
   "id": "e228ab58",
   "metadata": {},
   "outputs": [
    {
     "data": {
      "text/plain": [
       "((1168, 222), (292, 222))"
      ]
     },
     "execution_count": 48,
     "metadata": {},
     "output_type": "execute_result"
    }
   ],
   "source": [
    "X_train.shape, X_test.shape"
   ]
  },
  {
   "cell_type": "markdown",
   "id": "5e9fba5d",
   "metadata": {},
   "source": [
    "Visualizing the variances of the lowest 30 features :"
   ]
  },
  {
   "cell_type": "code",
   "execution_count": 49,
   "id": "21d4e0b1",
   "metadata": {},
   "outputs": [
    {
     "data": {
      "image/png": "[encoded data removed]",
      "text/plain": [
       "<Figure size 1000x600 with 1 Axes>"
      ]
     },
     "metadata": {},
     "output_type": "display_data"
    }
   ],
   "source": [
    "from functions import plot_low_variance\n",
    "\n",
    "plot_low_variance(X_train, 30)"
   ]
  },
  {
   "cell_type": "code",
   "execution_count": 50,
   "id": "960bbfc1-2864-4703-9367-a6fe11c689fd",
   "metadata": {},
   "outputs": [],
   "source": [
    "from sklearn.feature_selection import VarianceThreshold\n",
    "\n",
    "selector = VarianceThreshold(threshold=0.003)\n",
    "X_train_selected = selector.fit_transform(X_train)\n",
    "X_test_selected = selector.transform(X_test)"
   ]
  },
  {
   "cell_type": "code",
   "execution_count": 51,
   "id": "51f01aa7-eea5-49f8-823a-4660055ba738",
   "metadata": {},
   "outputs": [
    {
     "name": "stdout",
     "output_type": "stream",
     "text": [
      "(1168, 189)\n",
      "(292, 189)\n"
     ]
    }
   ],
   "source": [
    "print(X_train_selected.shape)\n",
    "print(X_test_selected.shape)"
   ]
  },
  {
   "cell_type": "code",
   "execution_count": 52,
   "id": "576a1c29",
   "metadata": {},
   "outputs": [],
   "source": [
    "columns = X_train.columns[selector.get_support()]\n",
    "X_train = pd.DataFrame(X_train_selected, columns=columns)\n",
    "X_test = pd.DataFrame(X_test_selected, columns=columns)"
   ]
  },
  {
   "cell_type": "markdown",
   "id": "58421ab4",
   "metadata": {},
   "source": [
    "Let's select the best features that explains the target feature y :"
   ]
  },
  {
   "cell_type": "code",
   "execution_count": 53,
   "id": "2c1d9179-19af-44be-87d3-46ce5d164e64",
   "metadata": {},
   "outputs": [],
   "source": [
    "from sklearn.feature_selection import SelectKBest, f_regression\n",
    "\n",
    "selector = SelectKBest(score_func=f_regression, k=175)\n",
    "X_train_selected = selector.fit_transform(X_train, y_train)\n",
    "X_test_selected = selector.transform(X_test)"
   ]
  },
  {
   "cell_type": "code",
   "execution_count": 54,
   "id": "abfe6745-e4d4-4968-a48f-008ed3d2b5a6",
   "metadata": {},
   "outputs": [
    {
     "data": {
      "text/plain": [
       "((1168, 175), (292, 175))"
      ]
     },
     "execution_count": 54,
     "metadata": {},
     "output_type": "execute_result"
    }
   ],
   "source": [
    "X_train_selected.shape, X_test_selected.shape"
   ]
  },
  {
   "cell_type": "code",
   "execution_count": 55,
   "id": "097847f8",
   "metadata": {},
   "outputs": [
    {
     "data": {
      "image/png": "[encoded data removed]",
      "text/plain": [
       "<Figure size 1000x600 with 1 Axes>"
      ]
     },
     "metadata": {},
     "output_type": "display_data"
    }
   ],
   "source": [
    "from functions import plot_k_best\n",
    "\n",
    "plot_k_best(selector, columns, 30)"
   ]
  },
  {
   "cell_type": "code",
   "execution_count": 56,
   "id": "2a717c9e",
   "metadata": {},
   "outputs": [],
   "source": [
    "columns = X_train.columns[selector.get_support()]\n",
    "X_train = pd.DataFrame(X_train_selected, columns=columns)\n",
    "X_test = pd.DataFrame(X_test_selected, columns=columns)"
   ]
  },
  {
   "cell_type": "markdown",
   "id": "2b42f4ab",
   "metadata": {},
   "source": [
    "**Scale the features to a range between 0 and 1 :**"
   ]
  },
  {
   "cell_type": "code",
   "execution_count": 57,
   "id": "e4ce4b2e-a1f2-4b50-bbf2-80e3449d9841",
   "metadata": {},
   "outputs": [],
   "source": [
    "from sklearn.preprocessing import MinMaxScaler\n",
    "scaler = MinMaxScaler(feature_range=(0,1))\n",
    "\n",
    "X_train = scaler.fit_transform(X_train)\n",
    "X_test = scaler.transform(X_test)"
   ]
  },
  {
   "cell_type": "markdown",
   "id": "783db9eb",
   "metadata": {},
   "source": [
    "**Train and Evaluate Machine Learning Regression Algorithms on the dataset :**"
   ]
  },
  {
   "cell_type": "markdown",
   "id": "1f00600f",
   "metadata": {},
   "source": [
    "-----------> Linear Regression Algorithm :"
   ]
  },
  {
   "cell_type": "code",
   "execution_count": 58,
   "id": "221ebb94",
   "metadata": {},
   "outputs": [
    {
     "data": {
      "text/html": [
       "<style>#sk-container-id-1 {\n",
       "  /* Definition of color scheme common for light and dark mode */\n",
       "  --sklearn-color-text: #000;\n",
       "  --sklearn-color-text-muted: #666;\n",
       "  --sklearn-color-line: gray;\n",
       "  /* Definition of color scheme for unfitted estimators */\n",
       "  --sklearn-color-unfitted-level-0: #fff5e6;\n",
       "  --sklearn-color-unfitted-level-1: #f6e4d2;\n",
       "  --sklearn-color-unfitted-level-2: #ffe0b3;\n",
       "  --sklearn-color-unfitted-level-3: chocolate;\n",
       "  /* Definition of color scheme for fitted estimators */\n",
       "  --sklearn-color-fitted-level-0: #f0f8ff;\n",
       "  --sklearn-color-fitted-level-1: #d4ebff;\n",
       "  --sklearn-color-fitted-level-2: #b3dbfd;\n",
       "  --sklearn-color-fitted-level-3: cornflowerblue;\n",
       "\n",
       "  /* Specific color for light theme */\n",
       "  --sklearn-color-text-on-default-background: var(--sg-text-color, var(--theme-code-foreground, var(--jp-content-font-color1, black)));\n",
       "  --sklearn-color-background: var(--sg-background-color, var(--theme-background, var(--jp-layout-color0, white)));\n",
       "  --sklearn-color-border-box: var(--sg-text-color, var(--theme-code-foreground, var(--jp-content-font-color1, black)));\n",
       "  --sklearn-color-icon: #696969;\n",
       "\n",
       "  @media (prefers-color-scheme: dark) {\n",
       "    /* Redefinition of color scheme for dark theme */\n",
       "    --sklearn-color-text-on-default-background: var(--sg-text-color, var(--theme-code-foreground, var(--jp-content-font-color1, white)));\n",
       "    --sklearn-color-background: var(--sg-background-color, var(--theme-background, var(--jp-layout-color0, #111)));\n",
       "    --sklearn-color-border-box: var(--sg-text-color, var(--theme-code-foreground, var(--jp-content-font-color1, white)));\n",
       "    --sklearn-color-icon: #878787;\n",
       "  }\n",
       "}\n",
       "\n",
       "#sk-container-id-1 {\n",
       "  color: var(--sklearn-color-text);\n",
       "}\n",
       "\n",
       "#sk-container-id-1 pre {\n",
       "  padding: 0;\n",
       "}\n",
       "\n",
       "#sk-container-id-1 input.sk-hidden--visually {\n",
       "  border: 0;\n",
       "  clip: rect(1px 1px 1px 1px);\n",
       "  clip: rect(1px, 1px, 1px, 1px);\n",
       "  height: 1px;\n",
       "  margin: -1px;\n",
       "  overflow: hidden;\n",
       "  padding: 0;\n",
       "  position: absolute;\n",
       "  width: 1px;\n",
       "}\n",
       "\n",
       "#sk-container-id-1 div.sk-dashed-wrapped {\n",
       "  border: 1px dashed var(--sklearn-color-line);\n",
       "  margin: 0 0.4em 0.5em 0.4em;\n",
       "  box-sizing: border-box;\n",
       "  padding-bottom: 0.4em;\n",
       "  background-color: var(--sklearn-color-background);\n",
       "}\n",
       "\n",
       "#sk-container-id-1 div.sk-container {\n",
       "  /* jupyter's `normalize.less` sets `[hidden] { display: none; }`\n",
       "     but bootstrap.min.css set `[hidden] { display: none !important; }`\n",
       "     so we also need the `!important` here to be able to override the\n",
       "     default hidden behavior on the sphinx rendered scikit-learn.org.\n",
       "     See: https://github.com/scikit-learn/scikit-learn/issues/21755 */\n",
       "  display: inline-block !important;\n",
       "  position: relative;\n",
       "}\n",
       "\n",
       "#sk-container-id-1 div.sk-text-repr-fallback {\n",
       "  display: none;\n",
       "}\n",
       "\n",
       "div.sk-parallel-item,\n",
       "div.sk-serial,\n",
       "div.sk-item {\n",
       "  /* draw centered vertical line to link estimators */\n",
       "  background-image: linear-gradient(var(--sklearn-color-text-on-default-background), var(--sklearn-color-text-on-default-background));\n",
       "  background-size: 2px 100%;\n",
       "  background-repeat: no-repeat;\n",
       "  background-position: center center;\n",
       "}\n",
       "\n",
       "/* Parallel-specific style estimator block */\n",
       "\n",
       "#sk-container-id-1 div.sk-parallel-item::after {\n",
       "  content: \"\";\n",
       "  width: 100%;\n",
       "  border-bottom: 2px solid var(--sklearn-color-text-on-default-background);\n",
       "  flex-grow: 1;\n",
       "}\n",
       "\n",
       "#sk-container-id-1 div.sk-parallel {\n",
       "  display: flex;\n",
       "  align-items: stretch;\n",
       "  justify-content: center;\n",
       "  background-color: var(--sklearn-color-background);\n",
       "  position: relative;\n",
       "}\n",
       "\n",
       "#sk-container-id-1 div.sk-parallel-item {\n",
       "  display: flex;\n",
       "  flex-direction: column;\n",
       "}\n",
       "\n",
       "#sk-container-id-1 div.sk-parallel-item:first-child::after {\n",
       "  align-self: flex-end;\n",
       "  width: 50%;\n",
       "}\n",
       "\n",
       "#sk-container-id-1 div.sk-parallel-item:last-child::after {\n",
       "  align-self: flex-start;\n",
       "  width: 50%;\n",
       "}\n",
       "\n",
       "#sk-container-id-1 div.sk-parallel-item:only-child::after {\n",
       "  width: 0;\n",
       "}\n",
       "\n",
       "/* Serial-specific style estimator block */\n",
       "\n",
       "#sk-container-id-1 div.sk-serial {\n",
       "  display: flex;\n",
       "  flex-direction: column;\n",
       "  align-items: center;\n",
       "  background-color: var(--sklearn-color-background);\n",
       "  padding-right: 1em;\n",
       "  padding-left: 1em;\n",
       "}\n",
       "\n",
       "\n",
       "/* Toggleable style: style used for estimator/Pipeline/ColumnTransformer box that is\n",
       "clickable and can be expanded/collapsed.\n",
       "- Pipeline and ColumnTransformer use this feature and define the default style\n",
       "- Estimators will overwrite some part of the style using the `sk-estimator` class\n",
       "*/\n",
       "\n",
       "/* Pipeline and ColumnTransformer style (default) */\n",
       "\n",
       "#sk-container-id-1 div.sk-toggleable {\n",
       "  /* Default theme specific background. It is overwritten whether we have a\n",
       "  specific estimator or a Pipeline/ColumnTransformer */\n",
       "  background-color: var(--sklearn-color-background);\n",
       "}\n",
       "\n",
       "/* Toggleable label */\n",
       "#sk-container-id-1 label.sk-toggleable__label {\n",
       "  cursor: pointer;\n",
       "  display: flex;\n",
       "  width: 100%;\n",
       "  margin-bottom: 0;\n",
       "  padding: 0.5em;\n",
       "  box-sizing: border-box;\n",
       "  text-align: center;\n",
       "  align-items: start;\n",
       "  justify-content: space-between;\n",
       "  gap: 0.5em;\n",
       "}\n",
       "\n",
       "#sk-container-id-1 label.sk-toggleable__label .caption {\n",
       "  font-size: 0.6rem;\n",
       "  font-weight: lighter;\n",
       "  color: var(--sklearn-color-text-muted);\n",
       "}\n",
       "\n",
       "#sk-container-id-1 label.sk-toggleable__label-arrow:before {\n",
       "  /* Arrow on the left of the label */\n",
       "  content: \"▸\";\n",
       "  float: left;\n",
       "  margin-right: 0.25em;\n",
       "  color: var(--sklearn-color-icon);\n",
       "}\n",
       "\n",
       "#sk-container-id-1 label.sk-toggleable__label-arrow:hover:before {\n",
       "  color: var(--sklearn-color-text);\n",
       "}\n",
       "\n",
       "/* Toggleable content - dropdown */\n",
       "\n",
       "#sk-container-id-1 div.sk-toggleable__content {\n",
       "  max-height: 0;\n",
       "  max-width: 0;\n",
       "  overflow: hidden;\n",
       "  text-align: left;\n",
       "  /* unfitted */\n",
       "  background-color: var(--sklearn-color-unfitted-level-0);\n",
       "}\n",
       "\n",
       "#sk-container-id-1 div.sk-toggleable__content.fitted {\n",
       "  /* fitted */\n",
       "  background-color: var(--sklearn-color-fitted-level-0);\n",
       "}\n",
       "\n",
       "#sk-container-id-1 div.sk-toggleable__content pre {\n",
       "  margin: 0.2em;\n",
       "  border-radius: 0.25em;\n",
       "  color: var(--sklearn-color-text);\n",
       "  /* unfitted */\n",
       "  background-color: var(--sklearn-color-unfitted-level-0);\n",
       "}\n",
       "\n",
       "#sk-container-id-1 div.sk-toggleable__content.fitted pre {\n",
       "  /* unfitted */\n",
       "  background-color: var(--sklearn-color-fitted-level-0);\n",
       "}\n",
       "\n",
       "#sk-container-id-1 input.sk-toggleable__control:checked~div.sk-toggleable__content {\n",
       "  /* Expand drop-down */\n",
       "  max-height: 200px;\n",
       "  max-width: 100%;\n",
       "  overflow: auto;\n",
       "}\n",
       "\n",
       "#sk-container-id-1 input.sk-toggleable__control:checked~label.sk-toggleable__label-arrow:before {\n",
       "  content: \"▾\";\n",
       "}\n",
       "\n",
       "/* Pipeline/ColumnTransformer-specific style */\n",
       "\n",
       "#sk-container-id-1 div.sk-label input.sk-toggleable__control:checked~label.sk-toggleable__label {\n",
       "  color: var(--sklearn-color-text);\n",
       "  background-color: var(--sklearn-color-unfitted-level-2);\n",
       "}\n",
       "\n",
       "#sk-container-id-1 div.sk-label.fitted input.sk-toggleable__control:checked~label.sk-toggleable__label {\n",
       "  background-color: var(--sklearn-color-fitted-level-2);\n",
       "}\n",
       "\n",
       "/* Estimator-specific style */\n",
       "\n",
       "/* Colorize estimator box */\n",
       "#sk-container-id-1 div.sk-estimator input.sk-toggleable__control:checked~label.sk-toggleable__label {\n",
       "  /* unfitted */\n",
       "  background-color: var(--sklearn-color-unfitted-level-2);\n",
       "}\n",
       "\n",
       "#sk-container-id-1 div.sk-estimator.fitted input.sk-toggleable__control:checked~label.sk-toggleable__label {\n",
       "  /* fitted */\n",
       "  background-color: var(--sklearn-color-fitted-level-2);\n",
       "}\n",
       "\n",
       "#sk-container-id-1 div.sk-label label.sk-toggleable__label,\n",
       "#sk-container-id-1 div.sk-label label {\n",
       "  /* The background is the default theme color */\n",
       "  color: var(--sklearn-color-text-on-default-background);\n",
       "}\n",
       "\n",
       "/* On hover, darken the color of the background */\n",
       "#sk-container-id-1 div.sk-label:hover label.sk-toggleable__label {\n",
       "  color: var(--sklearn-color-text);\n",
       "  background-color: var(--sklearn-color-unfitted-level-2);\n",
       "}\n",
       "\n",
       "/* Label box, darken color on hover, fitted */\n",
       "#sk-container-id-1 div.sk-label.fitted:hover label.sk-toggleable__label.fitted {\n",
       "  color: var(--sklearn-color-text);\n",
       "  background-color: var(--sklearn-color-fitted-level-2);\n",
       "}\n",
       "\n",
       "/* Estimator label */\n",
       "\n",
       "#sk-container-id-1 div.sk-label label {\n",
       "  font-family: monospace;\n",
       "  font-weight: bold;\n",
       "  display: inline-block;\n",
       "  line-height: 1.2em;\n",
       "}\n",
       "\n",
       "#sk-container-id-1 div.sk-label-container {\n",
       "  text-align: center;\n",
       "}\n",
       "\n",
       "/* Estimator-specific */\n",
       "#sk-container-id-1 div.sk-estimator {\n",
       "  font-family: monospace;\n",
       "  border: 1px dotted var(--sklearn-color-border-box);\n",
       "  border-radius: 0.25em;\n",
       "  box-sizing: border-box;\n",
       "  margin-bottom: 0.5em;\n",
       "  /* unfitted */\n",
       "  background-color: var(--sklearn-color-unfitted-level-0);\n",
       "}\n",
       "\n",
       "#sk-container-id-1 div.sk-estimator.fitted {\n",
       "  /* fitted */\n",
       "  background-color: var(--sklearn-color-fitted-level-0);\n",
       "}\n",
       "\n",
       "/* on hover */\n",
       "#sk-container-id-1 div.sk-estimator:hover {\n",
       "  /* unfitted */\n",
       "  background-color: var(--sklearn-color-unfitted-level-2);\n",
       "}\n",
       "\n",
       "#sk-container-id-1 div.sk-estimator.fitted:hover {\n",
       "  /* fitted */\n",
       "  background-color: var(--sklearn-color-fitted-level-2);\n",
       "}\n",
       "\n",
       "/* Specification for estimator info (e.g. \"i\" and \"?\") */\n",
       "\n",
       "/* Common style for \"i\" and \"?\" */\n",
       "\n",
       ".sk-estimator-doc-link,\n",
       "a:link.sk-estimator-doc-link,\n",
       "a:visited.sk-estimator-doc-link {\n",
       "  float: right;\n",
       "  font-size: smaller;\n",
       "  line-height: 1em;\n",
       "  font-family: monospace;\n",
       "  background-color: var(--sklearn-color-background);\n",
       "  border-radius: 1em;\n",
       "  height: 1em;\n",
       "  width: 1em;\n",
       "  text-decoration: none !important;\n",
       "  margin-left: 0.5em;\n",
       "  text-align: center;\n",
       "  /* unfitted */\n",
       "  border: var(--sklearn-color-unfitted-level-1) 1pt solid;\n",
       "  color: var(--sklearn-color-unfitted-level-1);\n",
       "}\n",
       "\n",
       ".sk-estimator-doc-link.fitted,\n",
       "a:link.sk-estimator-doc-link.fitted,\n",
       "a:visited.sk-estimator-doc-link.fitted {\n",
       "  /* fitted */\n",
       "  border: var(--sklearn-color-fitted-level-1) 1pt solid;\n",
       "  color: var(--sklearn-color-fitted-level-1);\n",
       "}\n",
       "\n",
       "/* On hover */\n",
       "div.sk-estimator:hover .sk-estimator-doc-link:hover,\n",
       ".sk-estimator-doc-link:hover,\n",
       "div.sk-label-container:hover .sk-estimator-doc-link:hover,\n",
       ".sk-estimator-doc-link:hover {\n",
       "  /* unfitted */\n",
       "  background-color: var(--sklearn-color-unfitted-level-3);\n",
       "  color: var(--sklearn-color-background);\n",
       "  text-decoration: none;\n",
       "}\n",
       "\n",
       "div.sk-estimator.fitted:hover .sk-estimator-doc-link.fitted:hover,\n",
       ".sk-estimator-doc-link.fitted:hover,\n",
       "div.sk-label-container:hover .sk-estimator-doc-link.fitted:hover,\n",
       ".sk-estimator-doc-link.fitted:hover {\n",
       "  /* fitted */\n",
       "  background-color: var(--sklearn-color-fitted-level-3);\n",
       "  color: var(--sklearn-color-background);\n",
       "  text-decoration: none;\n",
       "}\n",
       "\n",
       "/* Span, style for the box shown on hovering the info icon */\n",
       ".sk-estimator-doc-link span {\n",
       "  display: none;\n",
       "  z-index: 9999;\n",
       "  position: relative;\n",
       "  font-weight: normal;\n",
       "  right: .2ex;\n",
       "  padding: .5ex;\n",
       "  margin: .5ex;\n",
       "  width: min-content;\n",
       "  min-width: 20ex;\n",
       "  max-width: 50ex;\n",
       "  color: var(--sklearn-color-text);\n",
       "  box-shadow: 2pt 2pt 4pt #999;\n",
       "  /* unfitted */\n",
       "  background: var(--sklearn-color-unfitted-level-0);\n",
       "  border: .5pt solid var(--sklearn-color-unfitted-level-3);\n",
       "}\n",
       "\n",
       ".sk-estimator-doc-link.fitted span {\n",
       "  /* fitted */\n",
       "  background: var(--sklearn-color-fitted-level-0);\n",
       "  border: var(--sklearn-color-fitted-level-3);\n",
       "}\n",
       "\n",
       ".sk-estimator-doc-link:hover span {\n",
       "  display: block;\n",
       "}\n",
       "\n",
       "/* \"?\"-specific style due to the `<a>` HTML tag */\n",
       "\n",
       "#sk-container-id-1 a.estimator_doc_link {\n",
       "  float: right;\n",
       "  font-size: 1rem;\n",
       "  line-height: 1em;\n",
       "  font-family: monospace;\n",
       "  background-color: var(--sklearn-color-background);\n",
       "  border-radius: 1rem;\n",
       "  height: 1rem;\n",
       "  width: 1rem;\n",
       "  text-decoration: none;\n",
       "  /* unfitted */\n",
       "  color: var(--sklearn-color-unfitted-level-1);\n",
       "  border: var(--sklearn-color-unfitted-level-1) 1pt solid;\n",
       "}\n",
       "\n",
       "#sk-container-id-1 a.estimator_doc_link.fitted {\n",
       "  /* fitted */\n",
       "  border: var(--sklearn-color-fitted-level-1) 1pt solid;\n",
       "  color: var(--sklearn-color-fitted-level-1);\n",
       "}\n",
       "\n",
       "/* On hover */\n",
       "#sk-container-id-1 a.estimator_doc_link:hover {\n",
       "  /* unfitted */\n",
       "  background-color: var(--sklearn-color-unfitted-level-3);\n",
       "  color: var(--sklearn-color-background);\n",
       "  text-decoration: none;\n",
       "}\n",
       "\n",
       "#sk-container-id-1 a.estimator_doc_link.fitted:hover {\n",
       "  /* fitted */\n",
       "  background-color: var(--sklearn-color-fitted-level-3);\n",
       "}\n",
       "</style><div id=\"sk-container-id-1\" class=\"sk-top-container\"><div class=\"sk-text-repr-fallback\"><pre>LinearRegression()</pre><b>In a Jupyter environment, please rerun this cell to show the HTML representation or trust the notebook. <br />On GitHub, the HTML representation is unable to render, please try loading this page with nbviewer.org.</b></div><div class=\"sk-container\" hidden><div class=\"sk-item\"><div class=\"sk-estimator fitted sk-toggleable\"><input class=\"sk-toggleable__control sk-hidden--visually\" id=\"sk-estimator-id-1\" type=\"checkbox\" checked><label for=\"sk-estimator-id-1\" class=\"sk-toggleable__label fitted sk-toggleable__label-arrow\"><div><div>LinearRegression</div></div><div><a class=\"sk-estimator-doc-link fitted\" rel=\"noreferrer\" target=\"_blank\" href=\"https://scikit-learn.org/1.6/modules/generated/sklearn.linear_model.LinearRegression.html\">?<span>Documentation for LinearRegression</span></a><span class=\"sk-estimator-doc-link fitted\">i<span>Fitted</span></span></div></label><div class=\"sk-toggleable__content fitted\"><pre>LinearRegression()</pre></div> </div></div></div></div>"
      ],
      "text/plain": [
       "LinearRegression()"
      ]
     },
     "execution_count": 58,
     "metadata": {},
     "output_type": "execute_result"
    }
   ],
   "source": [
    "from sklearn.linear_model import LinearRegression\n",
    "\n",
    "model = LinearRegression()\n",
    "model.fit(X_train, y_train)"
   ]
  },
  {
   "cell_type": "code",
   "execution_count": 59,
   "id": "481f6872",
   "metadata": {},
   "outputs": [
    {
     "name": "stdout",
     "output_type": "stream",
     "text": [
      "... Evaluating on training data ...\n",
      "Train MSE: 670160671.2710, Train R2: 0.8876\n",
      "... Evaluating on testing data ...\n",
      "Test MSE: 993566656.3035, Test R2: 0.8705\n"
     ]
    }
   ],
   "source": [
    "from functions import evaluate_model\n",
    "\n",
    "evaluate_model(model, X_train, y_train, X_test, y_test)"
   ]
  },
  {
   "cell_type": "markdown",
   "id": "00b45215",
   "metadata": {},
   "source": [
    "-----------> Random Forest Algorithm :"
   ]
  },
  {
   "cell_type": "code",
   "execution_count": 66,
   "id": "ca5fa722",
   "metadata": {},
   "outputs": [
    {
     "data": {
      "text/html": [
       "<style>#sk-container-id-2 {\n",
       "  /* Definition of color scheme common for light and dark mode */\n",
       "  --sklearn-color-text: #000;\n",
       "  --sklearn-color-text-muted: #666;\n",
       "  --sklearn-color-line: gray;\n",
       "  /* Definition of color scheme for unfitted estimators */\n",
       "  --sklearn-color-unfitted-level-0: #fff5e6;\n",
       "  --sklearn-color-unfitted-level-1: #f6e4d2;\n",
       "  --sklearn-color-unfitted-level-2: #ffe0b3;\n",
       "  --sklearn-color-unfitted-level-3: chocolate;\n",
       "  /* Definition of color scheme for fitted estimators */\n",
       "  --sklearn-color-fitted-level-0: #f0f8ff;\n",
       "  --sklearn-color-fitted-level-1: #d4ebff;\n",
       "  --sklearn-color-fitted-level-2: #b3dbfd;\n",
       "  --sklearn-color-fitted-level-3: cornflowerblue;\n",
       "\n",
       "  /* Specific color for light theme */\n",
       "  --sklearn-color-text-on-default-background: var(--sg-text-color, var(--theme-code-foreground, var(--jp-content-font-color1, black)));\n",
       "  --sklearn-color-background: var(--sg-background-color, var(--theme-background, var(--jp-layout-color0, white)));\n",
       "  --sklearn-color-border-box: var(--sg-text-color, var(--theme-code-foreground, var(--jp-content-font-color1, black)));\n",
       "  --sklearn-color-icon: #696969;\n",
       "\n",
       "  @media (prefers-color-scheme: dark) {\n",
       "    /* Redefinition of color scheme for dark theme */\n",
       "    --sklearn-color-text-on-default-background: var(--sg-text-color, var(--theme-code-foreground, var(--jp-content-font-color1, white)));\n",
       "    --sklearn-color-background: var(--sg-background-color, var(--theme-background, var(--jp-layout-color0, #111)));\n",
       "    --sklearn-color-border-box: var(--sg-text-color, var(--theme-code-foreground, var(--jp-content-font-color1, white)));\n",
       "    --sklearn-color-icon: #878787;\n",
       "  }\n",
       "}\n",
       "\n",
       "#sk-container-id-2 {\n",
       "  color: var(--sklearn-color-text);\n",
       "}\n",
       "\n",
       "#sk-container-id-2 pre {\n",
       "  padding: 0;\n",
       "}\n",
       "\n",
       "#sk-container-id-2 input.sk-hidden--visually {\n",
       "  border: 0;\n",
       "  clip: rect(1px 1px 1px 1px);\n",
       "  clip: rect(1px, 1px, 1px, 1px);\n",
       "  height: 1px;\n",
       "  margin: -1px;\n",
       "  overflow: hidden;\n",
       "  padding: 0;\n",
       "  position: absolute;\n",
       "  width: 1px;\n",
       "}\n",
       "\n",
       "#sk-container-id-2 div.sk-dashed-wrapped {\n",
       "  border: 1px dashed var(--sklearn-color-line);\n",
       "  margin: 0 0.4em 0.5em 0.4em;\n",
       "  box-sizing: border-box;\n",
       "  padding-bottom: 0.4em;\n",
       "  background-color: var(--sklearn-color-background);\n",
       "}\n",
       "\n",
       "#sk-container-id-2 div.sk-container {\n",
       "  /* jupyter's `normalize.less` sets `[hidden] { display: none; }`\n",
       "     but bootstrap.min.css set `[hidden] { display: none !important; }`\n",
       "     so we also need the `!important` here to be able to override the\n",
       "     default hidden behavior on the sphinx rendered scikit-learn.org.\n",
       "     See: https://github.com/scikit-learn/scikit-learn/issues/21755 */\n",
       "  display: inline-block !important;\n",
       "  position: relative;\n",
       "}\n",
       "\n",
       "#sk-container-id-2 div.sk-text-repr-fallback {\n",
       "  display: none;\n",
       "}\n",
       "\n",
       "div.sk-parallel-item,\n",
       "div.sk-serial,\n",
       "div.sk-item {\n",
       "  /* draw centered vertical line to link estimators */\n",
       "  background-image: linear-gradient(var(--sklearn-color-text-on-default-background), var(--sklearn-color-text-on-default-background));\n",
       "  background-size: 2px 100%;\n",
       "  background-repeat: no-repeat;\n",
       "  background-position: center center;\n",
       "}\n",
       "\n",
       "/* Parallel-specific style estimator block */\n",
       "\n",
       "#sk-container-id-2 div.sk-parallel-item::after {\n",
       "  content: \"\";\n",
       "  width: 100%;\n",
       "  border-bottom: 2px solid var(--sklearn-color-text-on-default-background);\n",
       "  flex-grow: 1;\n",
       "}\n",
       "\n",
       "#sk-container-id-2 div.sk-parallel {\n",
       "  display: flex;\n",
       "  align-items: stretch;\n",
       "  justify-content: center;\n",
       "  background-color: var(--sklearn-color-background);\n",
       "  position: relative;\n",
       "}\n",
       "\n",
       "#sk-container-id-2 div.sk-parallel-item {\n",
       "  display: flex;\n",
       "  flex-direction: column;\n",
       "}\n",
       "\n",
       "#sk-container-id-2 div.sk-parallel-item:first-child::after {\n",
       "  align-self: flex-end;\n",
       "  width: 50%;\n",
       "}\n",
       "\n",
       "#sk-container-id-2 div.sk-parallel-item:last-child::after {\n",
       "  align-self: flex-start;\n",
       "  width: 50%;\n",
       "}\n",
       "\n",
       "#sk-container-id-2 div.sk-parallel-item:only-child::after {\n",
       "  width: 0;\n",
       "}\n",
       "\n",
       "/* Serial-specific style estimator block */\n",
       "\n",
       "#sk-container-id-2 div.sk-serial {\n",
       "  display: flex;\n",
       "  flex-direction: column;\n",
       "  align-items: center;\n",
       "  background-color: var(--sklearn-color-background);\n",
       "  padding-right: 1em;\n",
       "  padding-left: 1em;\n",
       "}\n",
       "\n",
       "\n",
       "/* Toggleable style: style used for estimator/Pipeline/ColumnTransformer box that is\n",
       "clickable and can be expanded/collapsed.\n",
       "- Pipeline and ColumnTransformer use this feature and define the default style\n",
       "- Estimators will overwrite some part of the style using the `sk-estimator` class\n",
       "*/\n",
       "\n",
       "/* Pipeline and ColumnTransformer style (default) */\n",
       "\n",
       "#sk-container-id-2 div.sk-toggleable {\n",
       "  /* Default theme specific background. It is overwritten whether we have a\n",
       "  specific estimator or a Pipeline/ColumnTransformer */\n",
       "  background-color: var(--sklearn-color-background);\n",
       "}\n",
       "\n",
       "/* Toggleable label */\n",
       "#sk-container-id-2 label.sk-toggleable__label {\n",
       "  cursor: pointer;\n",
       "  display: flex;\n",
       "  width: 100%;\n",
       "  margin-bottom: 0;\n",
       "  padding: 0.5em;\n",
       "  box-sizing: border-box;\n",
       "  text-align: center;\n",
       "  align-items: start;\n",
       "  justify-content: space-between;\n",
       "  gap: 0.5em;\n",
       "}\n",
       "\n",
       "#sk-container-id-2 label.sk-toggleable__label .caption {\n",
       "  font-size: 0.6rem;\n",
       "  font-weight: lighter;\n",
       "  color: var(--sklearn-color-text-muted);\n",
       "}\n",
       "\n",
       "#sk-container-id-2 label.sk-toggleable__label-arrow:before {\n",
       "  /* Arrow on the left of the label */\n",
       "  content: \"▸\";\n",
       "  float: left;\n",
       "  margin-right: 0.25em;\n",
       "  color: var(--sklearn-color-icon);\n",
       "}\n",
       "\n",
       "#sk-container-id-2 label.sk-toggleable__label-arrow:hover:before {\n",
       "  color: var(--sklearn-color-text);\n",
       "}\n",
       "\n",
       "/* Toggleable content - dropdown */\n",
       "\n",
       "#sk-container-id-2 div.sk-toggleable__content {\n",
       "  max-height: 0;\n",
       "  max-width: 0;\n",
       "  overflow: hidden;\n",
       "  text-align: left;\n",
       "  /* unfitted */\n",
       "  background-color: var(--sklearn-color-unfitted-level-0);\n",
       "}\n",
       "\n",
       "#sk-container-id-2 div.sk-toggleable__content.fitted {\n",
       "  /* fitted */\n",
       "  background-color: var(--sklearn-color-fitted-level-0);\n",
       "}\n",
       "\n",
       "#sk-container-id-2 div.sk-toggleable__content pre {\n",
       "  margin: 0.2em;\n",
       "  border-radius: 0.25em;\n",
       "  color: var(--sklearn-color-text);\n",
       "  /* unfitted */\n",
       "  background-color: var(--sklearn-color-unfitted-level-0);\n",
       "}\n",
       "\n",
       "#sk-container-id-2 div.sk-toggleable__content.fitted pre {\n",
       "  /* unfitted */\n",
       "  background-color: var(--sklearn-color-fitted-level-0);\n",
       "}\n",
       "\n",
       "#sk-container-id-2 input.sk-toggleable__control:checked~div.sk-toggleable__content {\n",
       "  /* Expand drop-down */\n",
       "  max-height: 200px;\n",
       "  max-width: 100%;\n",
       "  overflow: auto;\n",
       "}\n",
       "\n",
       "#sk-container-id-2 input.sk-toggleable__control:checked~label.sk-toggleable__label-arrow:before {\n",
       "  content: \"▾\";\n",
       "}\n",
       "\n",
       "/* Pipeline/ColumnTransformer-specific style */\n",
       "\n",
       "#sk-container-id-2 div.sk-label input.sk-toggleable__control:checked~label.sk-toggleable__label {\n",
       "  color: var(--sklearn-color-text);\n",
       "  background-color: var(--sklearn-color-unfitted-level-2);\n",
       "}\n",
       "\n",
       "#sk-container-id-2 div.sk-label.fitted input.sk-toggleable__control:checked~label.sk-toggleable__label {\n",
       "  background-color: var(--sklearn-color-fitted-level-2);\n",
       "}\n",
       "\n",
       "/* Estimator-specific style */\n",
       "\n",
       "/* Colorize estimator box */\n",
       "#sk-container-id-2 div.sk-estimator input.sk-toggleable__control:checked~label.sk-toggleable__label {\n",
       "  /* unfitted */\n",
       "  background-color: var(--sklearn-color-unfitted-level-2);\n",
       "}\n",
       "\n",
       "#sk-container-id-2 div.sk-estimator.fitted input.sk-toggleable__control:checked~label.sk-toggleable__label {\n",
       "  /* fitted */\n",
       "  background-color: var(--sklearn-color-fitted-level-2);\n",
       "}\n",
       "\n",
       "#sk-container-id-2 div.sk-label label.sk-toggleable__label,\n",
       "#sk-container-id-2 div.sk-label label {\n",
       "  /* The background is the default theme color */\n",
       "  color: var(--sklearn-color-text-on-default-background);\n",
       "}\n",
       "\n",
       "/* On hover, darken the color of the background */\n",
       "#sk-container-id-2 div.sk-label:hover label.sk-toggleable__label {\n",
       "  color: var(--sklearn-color-text);\n",
       "  background-color: var(--sklearn-color-unfitted-level-2);\n",
       "}\n",
       "\n",
       "/* Label box, darken color on hover, fitted */\n",
       "#sk-container-id-2 div.sk-label.fitted:hover label.sk-toggleable__label.fitted {\n",
       "  color: var(--sklearn-color-text);\n",
       "  background-color: var(--sklearn-color-fitted-level-2);\n",
       "}\n",
       "\n",
       "/* Estimator label */\n",
       "\n",
       "#sk-container-id-2 div.sk-label label {\n",
       "  font-family: monospace;\n",
       "  font-weight: bold;\n",
       "  display: inline-block;\n",
       "  line-height: 1.2em;\n",
       "}\n",
       "\n",
       "#sk-container-id-2 div.sk-label-container {\n",
       "  text-align: center;\n",
       "}\n",
       "\n",
       "/* Estimator-specific */\n",
       "#sk-container-id-2 div.sk-estimator {\n",
       "  font-family: monospace;\n",
       "  border: 1px dotted var(--sklearn-color-border-box);\n",
       "  border-radius: 0.25em;\n",
       "  box-sizing: border-box;\n",
       "  margin-bottom: 0.5em;\n",
       "  /* unfitted */\n",
       "  background-color: var(--sklearn-color-unfitted-level-0);\n",
       "}\n",
       "\n",
       "#sk-container-id-2 div.sk-estimator.fitted {\n",
       "  /* fitted */\n",
       "  background-color: var(--sklearn-color-fitted-level-0);\n",
       "}\n",
       "\n",
       "/* on hover */\n",
       "#sk-container-id-2 div.sk-estimator:hover {\n",
       "  /* unfitted */\n",
       "  background-color: var(--sklearn-color-unfitted-level-2);\n",
       "}\n",
       "\n",
       "#sk-container-id-2 div.sk-estimator.fitted:hover {\n",
       "  /* fitted */\n",
       "  background-color: var(--sklearn-color-fitted-level-2);\n",
       "}\n",
       "\n",
       "/* Specification for estimator info (e.g. \"i\" and \"?\") */\n",
       "\n",
       "/* Common style for \"i\" and \"?\" */\n",
       "\n",
       ".sk-estimator-doc-link,\n",
       "a:link.sk-estimator-doc-link,\n",
       "a:visited.sk-estimator-doc-link {\n",
       "  float: right;\n",
       "  font-size: smaller;\n",
       "  line-height: 1em;\n",
       "  font-family: monospace;\n",
       "  background-color: var(--sklearn-color-background);\n",
       "  border-radius: 1em;\n",
       "  height: 1em;\n",
       "  width: 1em;\n",
       "  text-decoration: none !important;\n",
       "  margin-left: 0.5em;\n",
       "  text-align: center;\n",
       "  /* unfitted */\n",
       "  border: var(--sklearn-color-unfitted-level-1) 1pt solid;\n",
       "  color: var(--sklearn-color-unfitted-level-1);\n",
       "}\n",
       "\n",
       ".sk-estimator-doc-link.fitted,\n",
       "a:link.sk-estimator-doc-link.fitted,\n",
       "a:visited.sk-estimator-doc-link.fitted {\n",
       "  /* fitted */\n",
       "  border: var(--sklearn-color-fitted-level-1) 1pt solid;\n",
       "  color: var(--sklearn-color-fitted-level-1);\n",
       "}\n",
       "\n",
       "/* On hover */\n",
       "div.sk-estimator:hover .sk-estimator-doc-link:hover,\n",
       ".sk-estimator-doc-link:hover,\n",
       "div.sk-label-container:hover .sk-estimator-doc-link:hover,\n",
       ".sk-estimator-doc-link:hover {\n",
       "  /* unfitted */\n",
       "  background-color: var(--sklearn-color-unfitted-level-3);\n",
       "  color: var(--sklearn-color-background);\n",
       "  text-decoration: none;\n",
       "}\n",
       "\n",
       "div.sk-estimator.fitted:hover .sk-estimator-doc-link.fitted:hover,\n",
       ".sk-estimator-doc-link.fitted:hover,\n",
       "div.sk-label-container:hover .sk-estimator-doc-link.fitted:hover,\n",
       ".sk-estimator-doc-link.fitted:hover {\n",
       "  /* fitted */\n",
       "  background-color: var(--sklearn-color-fitted-level-3);\n",
       "  color: var(--sklearn-color-background);\n",
       "  text-decoration: none;\n",
       "}\n",
       "\n",
       "/* Span, style for the box shown on hovering the info icon */\n",
       ".sk-estimator-doc-link span {\n",
       "  display: none;\n",
       "  z-index: 9999;\n",
       "  position: relative;\n",
       "  font-weight: normal;\n",
       "  right: .2ex;\n",
       "  padding: .5ex;\n",
       "  margin: .5ex;\n",
       "  width: min-content;\n",
       "  min-width: 20ex;\n",
       "  max-width: 50ex;\n",
       "  color: var(--sklearn-color-text);\n",
       "  box-shadow: 2pt 2pt 4pt #999;\n",
       "  /* unfitted */\n",
       "  background: var(--sklearn-color-unfitted-level-0);\n",
       "  border: .5pt solid var(--sklearn-color-unfitted-level-3);\n",
       "}\n",
       "\n",
       ".sk-estimator-doc-link.fitted span {\n",
       "  /* fitted */\n",
       "  background: var(--sklearn-color-fitted-level-0);\n",
       "  border: var(--sklearn-color-fitted-level-3);\n",
       "}\n",
       "\n",
       ".sk-estimator-doc-link:hover span {\n",
       "  display: block;\n",
       "}\n",
       "\n",
       "/* \"?\"-specific style due to the `<a>` HTML tag */\n",
       "\n",
       "#sk-container-id-2 a.estimator_doc_link {\n",
       "  float: right;\n",
       "  font-size: 1rem;\n",
       "  line-height: 1em;\n",
       "  font-family: monospace;\n",
       "  background-color: var(--sklearn-color-background);\n",
       "  border-radius: 1rem;\n",
       "  height: 1rem;\n",
       "  width: 1rem;\n",
       "  text-decoration: none;\n",
       "  /* unfitted */\n",
       "  color: var(--sklearn-color-unfitted-level-1);\n",
       "  border: var(--sklearn-color-unfitted-level-1) 1pt solid;\n",
       "}\n",
       "\n",
       "#sk-container-id-2 a.estimator_doc_link.fitted {\n",
       "  /* fitted */\n",
       "  border: var(--sklearn-color-fitted-level-1) 1pt solid;\n",
       "  color: var(--sklearn-color-fitted-level-1);\n",
       "}\n",
       "\n",
       "/* On hover */\n",
       "#sk-container-id-2 a.estimator_doc_link:hover {\n",
       "  /* unfitted */\n",
       "  background-color: var(--sklearn-color-unfitted-level-3);\n",
       "  color: var(--sklearn-color-background);\n",
       "  text-decoration: none;\n",
       "}\n",
       "\n",
       "#sk-container-id-2 a.estimator_doc_link.fitted:hover {\n",
       "  /* fitted */\n",
       "  background-color: var(--sklearn-color-fitted-level-3);\n",
       "}\n",
       "</style><div id=\"sk-container-id-2\" class=\"sk-top-container\"><div class=\"sk-text-repr-fallback\"><pre>RandomForestRegressor(n_estimators=65, random_state=42)</pre><b>In a Jupyter environment, please rerun this cell to show the HTML representation or trust the notebook. <br />On GitHub, the HTML representation is unable to render, please try loading this page with nbviewer.org.</b></div><div class=\"sk-container\" hidden><div class=\"sk-item\"><div class=\"sk-estimator fitted sk-toggleable\"><input class=\"sk-toggleable__control sk-hidden--visually\" id=\"sk-estimator-id-2\" type=\"checkbox\" checked><label for=\"sk-estimator-id-2\" class=\"sk-toggleable__label fitted sk-toggleable__label-arrow\"><div><div>RandomForestRegressor</div></div><div><a class=\"sk-estimator-doc-link fitted\" rel=\"noreferrer\" target=\"_blank\" href=\"https://scikit-learn.org/1.6/modules/generated/sklearn.ensemble.RandomForestRegressor.html\">?<span>Documentation for RandomForestRegressor</span></a><span class=\"sk-estimator-doc-link fitted\">i<span>Fitted</span></span></div></label><div class=\"sk-toggleable__content fitted\"><pre>RandomForestRegressor(n_estimators=65, random_state=42)</pre></div> </div></div></div></div>"
      ],
      "text/plain": [
       "RandomForestRegressor(n_estimators=65, random_state=42)"
      ]
     },
     "execution_count": 66,
     "metadata": {},
     "output_type": "execute_result"
    }
   ],
   "source": [
    "from sklearn.ensemble import RandomForestRegressor\n",
    "\n",
    "model = RandomForestRegressor(n_estimators=65, random_state=42)\n",
    "model.fit(X_train, y_train)"
   ]
  },
  {
   "cell_type": "code",
   "execution_count": 67,
   "id": "d29423cd",
   "metadata": {},
   "outputs": [
    {
     "name": "stdout",
     "output_type": "stream",
     "text": [
      "... Evaluating on training data ...\n",
      "Train MSE: 122521912.3116, Train R2: 0.9795\n",
      "... Evaluating on testing data ...\n",
      "Test MSE: 844283646.4001, Test R2: 0.8899\n"
     ]
    }
   ],
   "source": [
    "evaluate_model(model, X_train, y_train, X_test, y_test)"
   ]
  },
  {
   "cell_type": "markdown",
   "id": "df3e8aa3",
   "metadata": {},
   "source": [
    "-----------> Gradient Boosting Regressor Algorithm :"
   ]
  },
  {
   "cell_type": "code",
   "execution_count": 68,
   "id": "db41bea2",
   "metadata": {},
   "outputs": [
    {
     "data": {
      "text/html": [
       "<style>#sk-container-id-3 {\n",
       "  /* Definition of color scheme common for light and dark mode */\n",
       "  --sklearn-color-text: #000;\n",
       "  --sklearn-color-text-muted: #666;\n",
       "  --sklearn-color-line: gray;\n",
       "  /* Definition of color scheme for unfitted estimators */\n",
       "  --sklearn-color-unfitted-level-0: #fff5e6;\n",
       "  --sklearn-color-unfitted-level-1: #f6e4d2;\n",
       "  --sklearn-color-unfitted-level-2: #ffe0b3;\n",
       "  --sklearn-color-unfitted-level-3: chocolate;\n",
       "  /* Definition of color scheme for fitted estimators */\n",
       "  --sklearn-color-fitted-level-0: #f0f8ff;\n",
       "  --sklearn-color-fitted-level-1: #d4ebff;\n",
       "  --sklearn-color-fitted-level-2: #b3dbfd;\n",
       "  --sklearn-color-fitted-level-3: cornflowerblue;\n",
       "\n",
       "  /* Specific color for light theme */\n",
       "  --sklearn-color-text-on-default-background: var(--sg-text-color, var(--theme-code-foreground, var(--jp-content-font-color1, black)));\n",
       "  --sklearn-color-background: var(--sg-background-color, var(--theme-background, var(--jp-layout-color0, white)));\n",
       "  --sklearn-color-border-box: var(--sg-text-color, var(--theme-code-foreground, var(--jp-content-font-color1, black)));\n",
       "  --sklearn-color-icon: #696969;\n",
       "\n",
       "  @media (prefers-color-scheme: dark) {\n",
       "    /* Redefinition of color scheme for dark theme */\n",
       "    --sklearn-color-text-on-default-background: var(--sg-text-color, var(--theme-code-foreground, var(--jp-content-font-color1, white)));\n",
       "    --sklearn-color-background: var(--sg-background-color, var(--theme-background, var(--jp-layout-color0, #111)));\n",
       "    --sklearn-color-border-box: var(--sg-text-color, var(--theme-code-foreground, var(--jp-content-font-color1, white)));\n",
       "    --sklearn-color-icon: #878787;\n",
       "  }\n",
       "}\n",
       "\n",
       "#sk-container-id-3 {\n",
       "  color: var(--sklearn-color-text);\n",
       "}\n",
       "\n",
       "#sk-container-id-3 pre {\n",
       "  padding: 0;\n",
       "}\n",
       "\n",
       "#sk-container-id-3 input.sk-hidden--visually {\n",
       "  border: 0;\n",
       "  clip: rect(1px 1px 1px 1px);\n",
       "  clip: rect(1px, 1px, 1px, 1px);\n",
       "  height: 1px;\n",
       "  margin: -1px;\n",
       "  overflow: hidden;\n",
       "  padding: 0;\n",
       "  position: absolute;\n",
       "  width: 1px;\n",
       "}\n",
       "\n",
       "#sk-container-id-3 div.sk-dashed-wrapped {\n",
       "  border: 1px dashed var(--sklearn-color-line);\n",
       "  margin: 0 0.4em 0.5em 0.4em;\n",
       "  box-sizing: border-box;\n",
       "  padding-bottom: 0.4em;\n",
       "  background-color: var(--sklearn-color-background);\n",
       "}\n",
       "\n",
       "#sk-container-id-3 div.sk-container {\n",
       "  /* jupyter's `normalize.less` sets `[hidden] { display: none; }`\n",
       "     but bootstrap.min.css set `[hidden] { display: none !important; }`\n",
       "     so we also need the `!important` here to be able to override the\n",
       "     default hidden behavior on the sphinx rendered scikit-learn.org.\n",
       "     See: https://github.com/scikit-learn/scikit-learn/issues/21755 */\n",
       "  display: inline-block !important;\n",
       "  position: relative;\n",
       "}\n",
       "\n",
       "#sk-container-id-3 div.sk-text-repr-fallback {\n",
       "  display: none;\n",
       "}\n",
       "\n",
       "div.sk-parallel-item,\n",
       "div.sk-serial,\n",
       "div.sk-item {\n",
       "  /* draw centered vertical line to link estimators */\n",
       "  background-image: linear-gradient(var(--sklearn-color-text-on-default-background), var(--sklearn-color-text-on-default-background));\n",
       "  background-size: 2px 100%;\n",
       "  background-repeat: no-repeat;\n",
       "  background-position: center center;\n",
       "}\n",
       "\n",
       "/* Parallel-specific style estimator block */\n",
       "\n",
       "#sk-container-id-3 div.sk-parallel-item::after {\n",
       "  content: \"\";\n",
       "  width: 100%;\n",
       "  border-bottom: 2px solid var(--sklearn-color-text-on-default-background);\n",
       "  flex-grow: 1;\n",
       "}\n",
       "\n",
       "#sk-container-id-3 div.sk-parallel {\n",
       "  display: flex;\n",
       "  align-items: stretch;\n",
       "  justify-content: center;\n",
       "  background-color: var(--sklearn-color-background);\n",
       "  position: relative;\n",
       "}\n",
       "\n",
       "#sk-container-id-3 div.sk-parallel-item {\n",
       "  display: flex;\n",
       "  flex-direction: column;\n",
       "}\n",
       "\n",
       "#sk-container-id-3 div.sk-parallel-item:first-child::after {\n",
       "  align-self: flex-end;\n",
       "  width: 50%;\n",
       "}\n",
       "\n",
       "#sk-container-id-3 div.sk-parallel-item:last-child::after {\n",
       "  align-self: flex-start;\n",
       "  width: 50%;\n",
       "}\n",
       "\n",
       "#sk-container-id-3 div.sk-parallel-item:only-child::after {\n",
       "  width: 0;\n",
       "}\n",
       "\n",
       "/* Serial-specific style estimator block */\n",
       "\n",
       "#sk-container-id-3 div.sk-serial {\n",
       "  display: flex;\n",
       "  flex-direction: column;\n",
       "  align-items: center;\n",
       "  background-color: var(--sklearn-color-background);\n",
       "  padding-right: 1em;\n",
       "  padding-left: 1em;\n",
       "}\n",
       "\n",
       "\n",
       "/* Toggleable style: style used for estimator/Pipeline/ColumnTransformer box that is\n",
       "clickable and can be expanded/collapsed.\n",
       "- Pipeline and ColumnTransformer use this feature and define the default style\n",
       "- Estimators will overwrite some part of the style using the `sk-estimator` class\n",
       "*/\n",
       "\n",
       "/* Pipeline and ColumnTransformer style (default) */\n",
       "\n",
       "#sk-container-id-3 div.sk-toggleable {\n",
       "  /* Default theme specific background. It is overwritten whether we have a\n",
       "  specific estimator or a Pipeline/ColumnTransformer */\n",
       "  background-color: var(--sklearn-color-background);\n",
       "}\n",
       "\n",
       "/* Toggleable label */\n",
       "#sk-container-id-3 label.sk-toggleable__label {\n",
       "  cursor: pointer;\n",
       "  display: flex;\n",
       "  width: 100%;\n",
       "  margin-bottom: 0;\n",
       "  padding: 0.5em;\n",
       "  box-sizing: border-box;\n",
       "  text-align: center;\n",
       "  align-items: start;\n",
       "  justify-content: space-between;\n",
       "  gap: 0.5em;\n",
       "}\n",
       "\n",
       "#sk-container-id-3 label.sk-toggleable__label .caption {\n",
       "  font-size: 0.6rem;\n",
       "  font-weight: lighter;\n",
       "  color: var(--sklearn-color-text-muted);\n",
       "}\n",
       "\n",
       "#sk-container-id-3 label.sk-toggleable__label-arrow:before {\n",
       "  /* Arrow on the left of the label */\n",
       "  content: \"▸\";\n",
       "  float: left;\n",
       "  margin-right: 0.25em;\n",
       "  color: var(--sklearn-color-icon);\n",
       "}\n",
       "\n",
       "#sk-container-id-3 label.sk-toggleable__label-arrow:hover:before {\n",
       "  color: var(--sklearn-color-text);\n",
       "}\n",
       "\n",
       "/* Toggleable content - dropdown */\n",
       "\n",
       "#sk-container-id-3 div.sk-toggleable__content {\n",
       "  max-height: 0;\n",
       "  max-width: 0;\n",
       "  overflow: hidden;\n",
       "  text-align: left;\n",
       "  /* unfitted */\n",
       "  background-color: var(--sklearn-color-unfitted-level-0);\n",
       "}\n",
       "\n",
       "#sk-container-id-3 div.sk-toggleable__content.fitted {\n",
       "  /* fitted */\n",
       "  background-color: var(--sklearn-color-fitted-level-0);\n",
       "}\n",
       "\n",
       "#sk-container-id-3 div.sk-toggleable__content pre {\n",
       "  margin: 0.2em;\n",
       "  border-radius: 0.25em;\n",
       "  color: var(--sklearn-color-text);\n",
       "  /* unfitted */\n",
       "  background-color: var(--sklearn-color-unfitted-level-0);\n",
       "}\n",
       "\n",
       "#sk-container-id-3 div.sk-toggleable__content.fitted pre {\n",
       "  /* unfitted */\n",
       "  background-color: var(--sklearn-color-fitted-level-0);\n",
       "}\n",
       "\n",
       "#sk-container-id-3 input.sk-toggleable__control:checked~div.sk-toggleable__content {\n",
       "  /* Expand drop-down */\n",
       "  max-height: 200px;\n",
       "  max-width: 100%;\n",
       "  overflow: auto;\n",
       "}\n",
       "\n",
       "#sk-container-id-3 input.sk-toggleable__control:checked~label.sk-toggleable__label-arrow:before {\n",
       "  content: \"▾\";\n",
       "}\n",
       "\n",
       "/* Pipeline/ColumnTransformer-specific style */\n",
       "\n",
       "#sk-container-id-3 div.sk-label input.sk-toggleable__control:checked~label.sk-toggleable__label {\n",
       "  color: var(--sklearn-color-text);\n",
       "  background-color: var(--sklearn-color-unfitted-level-2);\n",
       "}\n",
       "\n",
       "#sk-container-id-3 div.sk-label.fitted input.sk-toggleable__control:checked~label.sk-toggleable__label {\n",
       "  background-color: var(--sklearn-color-fitted-level-2);\n",
       "}\n",
       "\n",
       "/* Estimator-specific style */\n",
       "\n",
       "/* Colorize estimator box */\n",
       "#sk-container-id-3 div.sk-estimator input.sk-toggleable__control:checked~label.sk-toggleable__label {\n",
       "  /* unfitted */\n",
       "  background-color: var(--sklearn-color-unfitted-level-2);\n",
       "}\n",
       "\n",
       "#sk-container-id-3 div.sk-estimator.fitted input.sk-toggleable__control:checked~label.sk-toggleable__label {\n",
       "  /* fitted */\n",
       "  background-color: var(--sklearn-color-fitted-level-2);\n",
       "}\n",
       "\n",
       "#sk-container-id-3 div.sk-label label.sk-toggleable__label,\n",
       "#sk-container-id-3 div.sk-label label {\n",
       "  /* The background is the default theme color */\n",
       "  color: var(--sklearn-color-text-on-default-background);\n",
       "}\n",
       "\n",
       "/* On hover, darken the color of the background */\n",
       "#sk-container-id-3 div.sk-label:hover label.sk-toggleable__label {\n",
       "  color: var(--sklearn-color-text);\n",
       "  background-color: var(--sklearn-color-unfitted-level-2);\n",
       "}\n",
       "\n",
       "/* Label box, darken color on hover, fitted */\n",
       "#sk-container-id-3 div.sk-label.fitted:hover label.sk-toggleable__label.fitted {\n",
       "  color: var(--sklearn-color-text);\n",
       "  background-color: var(--sklearn-color-fitted-level-2);\n",
       "}\n",
       "\n",
       "/* Estimator label */\n",
       "\n",
       "#sk-container-id-3 div.sk-label label {\n",
       "  font-family: monospace;\n",
       "  font-weight: bold;\n",
       "  display: inline-block;\n",
       "  line-height: 1.2em;\n",
       "}\n",
       "\n",
       "#sk-container-id-3 div.sk-label-container {\n",
       "  text-align: center;\n",
       "}\n",
       "\n",
       "/* Estimator-specific */\n",
       "#sk-container-id-3 div.sk-estimator {\n",
       "  font-family: monospace;\n",
       "  border: 1px dotted var(--sklearn-color-border-box);\n",
       "  border-radius: 0.25em;\n",
       "  box-sizing: border-box;\n",
       "  margin-bottom: 0.5em;\n",
       "  /* unfitted */\n",
       "  background-color: var(--sklearn-color-unfitted-level-0);\n",
       "}\n",
       "\n",
       "#sk-container-id-3 div.sk-estimator.fitted {\n",
       "  /* fitted */\n",
       "  background-color: var(--sklearn-color-fitted-level-0);\n",
       "}\n",
       "\n",
       "/* on hover */\n",
       "#sk-container-id-3 div.sk-estimator:hover {\n",
       "  /* unfitted */\n",
       "  background-color: var(--sklearn-color-unfitted-level-2);\n",
       "}\n",
       "\n",
       "#sk-container-id-3 div.sk-estimator.fitted:hover {\n",
       "  /* fitted */\n",
       "  background-color: var(--sklearn-color-fitted-level-2);\n",
       "}\n",
       "\n",
       "/* Specification for estimator info (e.g. \"i\" and \"?\") */\n",
       "\n",
       "/* Common style for \"i\" and \"?\" */\n",
       "\n",
       ".sk-estimator-doc-link,\n",
       "a:link.sk-estimator-doc-link,\n",
       "a:visited.sk-estimator-doc-link {\n",
       "  float: right;\n",
       "  font-size: smaller;\n",
       "  line-height: 1em;\n",
       "  font-family: monospace;\n",
       "  background-color: var(--sklearn-color-background);\n",
       "  border-radius: 1em;\n",
       "  height: 1em;\n",
       "  width: 1em;\n",
       "  text-decoration: none !important;\n",
       "  margin-left: 0.5em;\n",
       "  text-align: center;\n",
       "  /* unfitted */\n",
       "  border: var(--sklearn-color-unfitted-level-1) 1pt solid;\n",
       "  color: var(--sklearn-color-unfitted-level-1);\n",
       "}\n",
       "\n",
       ".sk-estimator-doc-link.fitted,\n",
       "a:link.sk-estimator-doc-link.fitted,\n",
       "a:visited.sk-estimator-doc-link.fitted {\n",
       "  /* fitted */\n",
       "  border: var(--sklearn-color-fitted-level-1) 1pt solid;\n",
       "  color: var(--sklearn-color-fitted-level-1);\n",
       "}\n",
       "\n",
       "/* On hover */\n",
       "div.sk-estimator:hover .sk-estimator-doc-link:hover,\n",
       ".sk-estimator-doc-link:hover,\n",
       "div.sk-label-container:hover .sk-estimator-doc-link:hover,\n",
       ".sk-estimator-doc-link:hover {\n",
       "  /* unfitted */\n",
       "  background-color: var(--sklearn-color-unfitted-level-3);\n",
       "  color: var(--sklearn-color-background);\n",
       "  text-decoration: none;\n",
       "}\n",
       "\n",
       "div.sk-estimator.fitted:hover .sk-estimator-doc-link.fitted:hover,\n",
       ".sk-estimator-doc-link.fitted:hover,\n",
       "div.sk-label-container:hover .sk-estimator-doc-link.fitted:hover,\n",
       ".sk-estimator-doc-link.fitted:hover {\n",
       "  /* fitted */\n",
       "  background-color: var(--sklearn-color-fitted-level-3);\n",
       "  color: var(--sklearn-color-background);\n",
       "  text-decoration: none;\n",
       "}\n",
       "\n",
       "/* Span, style for the box shown on hovering the info icon */\n",
       ".sk-estimator-doc-link span {\n",
       "  display: none;\n",
       "  z-index: 9999;\n",
       "  position: relative;\n",
       "  font-weight: normal;\n",
       "  right: .2ex;\n",
       "  padding: .5ex;\n",
       "  margin: .5ex;\n",
       "  width: min-content;\n",
       "  min-width: 20ex;\n",
       "  max-width: 50ex;\n",
       "  color: var(--sklearn-color-text);\n",
       "  box-shadow: 2pt 2pt 4pt #999;\n",
       "  /* unfitted */\n",
       "  background: var(--sklearn-color-unfitted-level-0);\n",
       "  border: .5pt solid var(--sklearn-color-unfitted-level-3);\n",
       "}\n",
       "\n",
       ".sk-estimator-doc-link.fitted span {\n",
       "  /* fitted */\n",
       "  background: var(--sklearn-color-fitted-level-0);\n",
       "  border: var(--sklearn-color-fitted-level-3);\n",
       "}\n",
       "\n",
       ".sk-estimator-doc-link:hover span {\n",
       "  display: block;\n",
       "}\n",
       "\n",
       "/* \"?\"-specific style due to the `<a>` HTML tag */\n",
       "\n",
       "#sk-container-id-3 a.estimator_doc_link {\n",
       "  float: right;\n",
       "  font-size: 1rem;\n",
       "  line-height: 1em;\n",
       "  font-family: monospace;\n",
       "  background-color: var(--sklearn-color-background);\n",
       "  border-radius: 1rem;\n",
       "  height: 1rem;\n",
       "  width: 1rem;\n",
       "  text-decoration: none;\n",
       "  /* unfitted */\n",
       "  color: var(--sklearn-color-unfitted-level-1);\n",
       "  border: var(--sklearn-color-unfitted-level-1) 1pt solid;\n",
       "}\n",
       "\n",
       "#sk-container-id-3 a.estimator_doc_link.fitted {\n",
       "  /* fitted */\n",
       "  border: var(--sklearn-color-fitted-level-1) 1pt solid;\n",
       "  color: var(--sklearn-color-fitted-level-1);\n",
       "}\n",
       "\n",
       "/* On hover */\n",
       "#sk-container-id-3 a.estimator_doc_link:hover {\n",
       "  /* unfitted */\n",
       "  background-color: var(--sklearn-color-unfitted-level-3);\n",
       "  color: var(--sklearn-color-background);\n",
       "  text-decoration: none;\n",
       "}\n",
       "\n",
       "#sk-container-id-3 a.estimator_doc_link.fitted:hover {\n",
       "  /* fitted */\n",
       "  background-color: var(--sklearn-color-fitted-level-3);\n",
       "}\n",
       "</style><div id=\"sk-container-id-3\" class=\"sk-top-container\"><div class=\"sk-text-repr-fallback\"><pre>GradientBoostingRegressor(n_estimators=65, random_state=42)</pre><b>In a Jupyter environment, please rerun this cell to show the HTML representation or trust the notebook. <br />On GitHub, the HTML representation is unable to render, please try loading this page with nbviewer.org.</b></div><div class=\"sk-container\" hidden><div class=\"sk-item\"><div class=\"sk-estimator fitted sk-toggleable\"><input class=\"sk-toggleable__control sk-hidden--visually\" id=\"sk-estimator-id-3\" type=\"checkbox\" checked><label for=\"sk-estimator-id-3\" class=\"sk-toggleable__label fitted sk-toggleable__label-arrow\"><div><div>GradientBoostingRegressor</div></div><div><a class=\"sk-estimator-doc-link fitted\" rel=\"noreferrer\" target=\"_blank\" href=\"https://scikit-learn.org/1.6/modules/generated/sklearn.ensemble.GradientBoostingRegressor.html\">?<span>Documentation for GradientBoostingRegressor</span></a><span class=\"sk-estimator-doc-link fitted\">i<span>Fitted</span></span></div></label><div class=\"sk-toggleable__content fitted\"><pre>GradientBoostingRegressor(n_estimators=65, random_state=42)</pre></div> </div></div></div></div>"
      ],
      "text/plain": [
       "GradientBoostingRegressor(n_estimators=65, random_state=42)"
      ]
     },
     "execution_count": 68,
     "metadata": {},
     "output_type": "execute_result"
    }
   ],
   "source": [
    "from sklearn.ensemble import GradientBoostingRegressor\n",
    "\n",
    "model = GradientBoostingRegressor(n_estimators=65, random_state=42)\n",
    "model.fit(X_train, y_train)"
   ]
  },
  {
   "cell_type": "code",
   "execution_count": 71,
   "metadata": {},
   "outputs": [
    {
     "name": "stdout",
     "output_type": "stream",
     "text": [
      "... Evaluating on training data ...\n",
      "Train MSE: 240078959.2458, Train R2: 0.9597\n",
      "... Evaluating on testing data ...\n",
      "Test MSE: 791362438.4938, Test R2: 0.8968\n"
     ]
    }
   ],
   "source": [
    "evaluate_model(model, X_train, y_train, X_test, y_test)"
   ]
  }
 ],
 "metadata": {
  "kernelspec": {
   "display_name": "Python 3",
   "language": "python",
   "name": "python3"
  },
  "language_info": {
   "codemirror_mode": {
    "name": "ipython",
    "version": 3
   },
   "file_extension": ".py",
   "mimetype": "text/x-python",
   "name": "python",
   "nbconvert_exporter": "python",
   "pygments_lexer": "ipython3",
   "version": "3.11.9"
  }
 },
 "nbformat": 4,
 "nbformat_minor": 5
}
